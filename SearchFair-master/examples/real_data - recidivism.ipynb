{
 "cells": [
  {
   "cell_type": "markdown",
   "metadata": {},
   "source": [
    "# Fair Binary Classification with SearchFair on CelebA and Adult\n",
    "\n",
    "Here, we show how to use SearchFair on two datasets: CelebA and Adult"
   ]
  },
  {
   "cell_type": "markdown",
   "metadata": {},
   "source": [
    "## Imports\n",
    "\n",
    "We start by importing SearchFair from the installed package."
   ]
  },
  {
   "cell_type": "code",
   "execution_count": 48,
   "metadata": {
    "scrolled": true
   },
   "outputs": [
    {
     "name": "stdout",
     "output_type": "stream",
     "text": [
      "Collecting aif360\n",
      "  Downloading aif360-0.4.0-py3-none-any.whl (175 kB)\n",
      "\u001b[K     |████████████████████████████████| 175 kB 5.6 MB/s eta 0:00:01\n",
      "\u001b[?25hRequirement already satisfied: scipy<1.6.0,>=1.2.0 in /Users/designwork/opt/anaconda3/lib/python3.8/site-packages (from aif360) (1.5.0)\n",
      "Requirement already satisfied: scikit-learn>=0.22.1 in /Users/designwork/opt/anaconda3/lib/python3.8/site-packages (from aif360) (0.23.1)\n",
      "Requirement already satisfied: numpy>=1.16 in /Users/designwork/opt/anaconda3/lib/python3.8/site-packages (from aif360) (1.18.5)\n",
      "Requirement already satisfied: matplotlib in /Users/designwork/opt/anaconda3/lib/python3.8/site-packages (from aif360) (3.2.2)\n",
      "Requirement already satisfied: pandas>=0.24.0 in /Users/designwork/opt/anaconda3/lib/python3.8/site-packages (from aif360) (1.0.5)\n",
      "Collecting tempeh\n",
      "  Downloading tempeh-0.1.12-py3-none-any.whl (39 kB)\n",
      "Requirement already satisfied: joblib>=0.11 in /Users/designwork/opt/anaconda3/lib/python3.8/site-packages (from scikit-learn>=0.22.1->aif360) (0.16.0)\n",
      "Requirement already satisfied: threadpoolctl>=2.0.0 in /Users/designwork/opt/anaconda3/lib/python3.8/site-packages (from scikit-learn>=0.22.1->aif360) (2.1.0)\n",
      "Requirement already satisfied: python-dateutil>=2.1 in /Users/designwork/opt/anaconda3/lib/python3.8/site-packages (from matplotlib->aif360) (2.8.1)\n",
      "Requirement already satisfied: kiwisolver>=1.0.1 in /Users/designwork/opt/anaconda3/lib/python3.8/site-packages (from matplotlib->aif360) (1.2.0)\n",
      "Requirement already satisfied: cycler>=0.10 in /Users/designwork/opt/anaconda3/lib/python3.8/site-packages (from matplotlib->aif360) (0.10.0)\n",
      "Requirement already satisfied: pyparsing!=2.0.4,!=2.1.2,!=2.1.6,>=2.0.1 in /Users/designwork/opt/anaconda3/lib/python3.8/site-packages (from matplotlib->aif360) (2.4.7)\n",
      "Requirement already satisfied: pytz>=2017.2 in /Users/designwork/opt/anaconda3/lib/python3.8/site-packages (from pandas>=0.24.0->aif360) (2020.1)\n",
      "Collecting memory-profiler\n",
      "  Downloading memory_profiler-0.58.0.tar.gz (36 kB)\n",
      "Collecting shap\n",
      "  Downloading shap-0.39.0.tar.gz (356 kB)\n",
      "\u001b[K     |████████████████████████████████| 356 kB 49.9 MB/s eta 0:00:01\n",
      "\u001b[?25hRequirement already satisfied: requests in /Users/designwork/opt/anaconda3/lib/python3.8/site-packages (from tempeh->aif360) (2.24.0)\n",
      "Requirement already satisfied: pytest in /Users/designwork/opt/anaconda3/lib/python3.8/site-packages (from tempeh->aif360) (5.4.3)\n",
      "Requirement already satisfied: six>=1.5 in /Users/designwork/opt/anaconda3/lib/python3.8/site-packages (from python-dateutil>=2.1->matplotlib->aif360) (1.15.0)\n",
      "Requirement already satisfied: psutil in /Users/designwork/opt/anaconda3/lib/python3.8/site-packages (from memory-profiler->tempeh->aif360) (5.7.0)\n",
      "Requirement already satisfied: tqdm>4.25.0 in /Users/designwork/opt/anaconda3/lib/python3.8/site-packages (from shap->tempeh->aif360) (4.47.0)\n",
      "Collecting slicer==0.0.7\n",
      "  Downloading slicer-0.0.7-py3-none-any.whl (14 kB)\n",
      "Requirement already satisfied: numba in /Users/designwork/opt/anaconda3/lib/python3.8/site-packages (from shap->tempeh->aif360) (0.50.1)\n",
      "Requirement already satisfied: cloudpickle in /Users/designwork/opt/anaconda3/lib/python3.8/site-packages (from shap->tempeh->aif360) (1.5.0)\n",
      "Requirement already satisfied: chardet<4,>=3.0.2 in /Users/designwork/opt/anaconda3/lib/python3.8/site-packages (from requests->tempeh->aif360) (3.0.4)\n",
      "Requirement already satisfied: urllib3!=1.25.0,!=1.25.1,<1.26,>=1.21.1 in /Users/designwork/opt/anaconda3/lib/python3.8/site-packages (from requests->tempeh->aif360) (1.25.9)\n",
      "Requirement already satisfied: idna<3,>=2.5 in /Users/designwork/opt/anaconda3/lib/python3.8/site-packages (from requests->tempeh->aif360) (2.10)\n",
      "Requirement already satisfied: certifi>=2017.4.17 in /Users/designwork/opt/anaconda3/lib/python3.8/site-packages (from requests->tempeh->aif360) (2020.6.20)\n",
      "Requirement already satisfied: py>=1.5.0 in /Users/designwork/opt/anaconda3/lib/python3.8/site-packages (from pytest->tempeh->aif360) (1.9.0)\n",
      "Requirement already satisfied: packaging in /Users/designwork/opt/anaconda3/lib/python3.8/site-packages (from pytest->tempeh->aif360) (20.4)\n",
      "Requirement already satisfied: attrs>=17.4.0 in /Users/designwork/opt/anaconda3/lib/python3.8/site-packages (from pytest->tempeh->aif360) (19.3.0)\n",
      "Requirement already satisfied: more-itertools>=4.0.0 in /Users/designwork/opt/anaconda3/lib/python3.8/site-packages (from pytest->tempeh->aif360) (8.4.0)\n",
      "Requirement already satisfied: pluggy<1.0,>=0.12 in /Users/designwork/opt/anaconda3/lib/python3.8/site-packages (from pytest->tempeh->aif360) (0.13.1)\n",
      "Requirement already satisfied: wcwidth in /Users/designwork/opt/anaconda3/lib/python3.8/site-packages (from pytest->tempeh->aif360) (0.2.5)\n",
      "Requirement already satisfied: llvmlite<0.34,>=0.33.0.dev0 in /Users/designwork/opt/anaconda3/lib/python3.8/site-packages (from numba->shap->tempeh->aif360) (0.33.0+1.g022ab0f)\n",
      "Requirement already satisfied: setuptools in /Users/designwork/opt/anaconda3/lib/python3.8/site-packages (from numba->shap->tempeh->aif360) (49.2.0.post20200714)\n",
      "Building wheels for collected packages: memory-profiler, shap\n",
      "  Building wheel for memory-profiler (setup.py) ... \u001b[?25ldone\n",
      "\u001b[?25h  Created wheel for memory-profiler: filename=memory_profiler-0.58.0-py3-none-any.whl size=30182 sha256=005e256803c214b3cdeebcebb326e0a24e9f29081db9f2f2d86a28d4ca3308d6\n",
      "  Stored in directory: /Users/designwork/Library/Caches/pip/wheels/6a/37/3e/d9e8ebaf73956a3ebd2ee41869444dbd2a702d7142bcf93c42\n",
      "  Building wheel for shap (setup.py) ... \u001b[?25ldone\n",
      "\u001b[?25h  Created wheel for shap: filename=shap-0.39.0-cp38-cp38-macosx_10_9_x86_64.whl size=415958 sha256=51ee4de50cb26703f63c3fdc80d5c1eeb1615831874766d3435440c362068278\n",
      "  Stored in directory: /Users/designwork/Library/Caches/pip/wheels/3d/c9/06/734ed80d6d61fad331974bf62017b4ea6b33488082b9f5e67e\n",
      "Successfully built memory-profiler shap\n",
      "Installing collected packages: memory-profiler, slicer, shap, tempeh, aif360\n",
      "Successfully installed aif360-0.4.0 memory-profiler-0.58.0 shap-0.39.0 slicer-0.0.7 tempeh-0.1.12\n"
     ]
    }
   ],
   "source": [
    "!pip install aif360"
   ]
  },
  {
   "cell_type": "code",
   "execution_count": 49,
   "metadata": {},
   "outputs": [],
   "source": [
    "from aif360 import datasets"
   ]
  },
  {
   "cell_type": "code",
   "execution_count": 54,
   "metadata": {
    "collapsed": true
   },
   "outputs": [
    {
     "ename": "TypeError",
     "evalue": "'ABCMeta' object is not subscriptable",
     "output_type": "error",
     "traceback": [
      "\u001b[0;31m---------------------------------------------------------------------------\u001b[0m",
      "\u001b[0;31mTypeError\u001b[0m                                 Traceback (most recent call last)",
      "\u001b[0;32m<ipython-input-54-967d7a418828>\u001b[0m in \u001b[0;36m<module>\u001b[0;34m\u001b[0m\n\u001b[0;32m----> 1\u001b[0;31m \u001b[0mdatasets\u001b[0m\u001b[0;34m.\u001b[0m\u001b[0mCompasDataset\u001b[0m\u001b[0;34m[\u001b[0m\u001b[0;36m0\u001b[0m\u001b[0;34m]\u001b[0m\u001b[0;34m\u001b[0m\u001b[0;34m\u001b[0m\u001b[0m\n\u001b[0m",
      "\u001b[0;31mTypeError\u001b[0m: 'ABCMeta' object is not subscriptable"
     ]
    }
   ],
   "source": [
    "datasets.CompasDataset[0]"
   ]
  },
  {
   "cell_type": "code",
   "execution_count": 1,
   "metadata": {},
   "outputs": [],
   "source": [
    "from searchfair import SearchFair\n",
    "import pandas as pd"
   ]
  },
  {
   "cell_type": "markdown",
   "metadata": {},
   "source": [
    "Second, we load some necessary methods and numpy."
   ]
  },
  {
   "cell_type": "code",
   "execution_count": 2,
   "metadata": {},
   "outputs": [],
   "source": [
    "from sklearn.model_selection import train_test_split\n",
    "from sklearn.model_selection import GridSearchCV\n",
    "import numpy as np\n",
    "\n",
    "# The optimization does not always comply with the new cvxpy dpp disciplined programming rules. \n",
    "# but this is not a problem. \n",
    "import warnings\n",
    "warnings.filterwarnings('ignore')"
   ]
  },
  {
   "cell_type": "markdown",
   "metadata": {},
   "source": [
    "# The CelebA dataset\n",
    "\n",
    "On the Celebrity Faces dataset we are given descriptions of celebrity faces, with 40 binary attributes. Here, we use the Attribute 'Smiling' as the class label, and sex as the sensitive attribute. "
   ]
  },
  {
   "cell_type": "code",
   "execution_count": 3,
   "metadata": {},
   "outputs": [
    {
     "name": "stdout",
     "output_type": "stream",
     "text": [
      "Data Cleaning Recidivism.ipynb real_data.ipynb\r\n",
      "\u001b[34m__pycache__\u001b[m\u001b[m                    recividism_black_white.csv\r\n",
      "get_real_data.py               recividism_cleaned.csv\r\n",
      "get_synthetic_data.py          recividism_white_nonwhite.csv\r\n",
      "new_Recidivism.csv             toy_data.ipynb\r\n",
      "real_data - recidivism.ipynb   utils.py\r\n"
     ]
    }
   ],
   "source": [
    "!Ls"
   ]
  },
  {
   "cell_type": "code",
   "execution_count": 4,
   "metadata": {},
   "outputs": [],
   "source": [
    "# importing cleaned recidivism data from IOWA\n",
    "# https://data.iowa.gov/Correctional-System/3-Year-Recidivism-for-Offenders-Released-from-Pris/mw8r-vqy4"
   ]
  },
  {
   "cell_type": "code",
   "execution_count": 38,
   "metadata": {},
   "outputs": [],
   "source": [
    "df = pd.read_csv('new_Recidivism.csv')"
   ]
  },
  {
   "cell_type": "code",
   "execution_count": 39,
   "metadata": {},
   "outputs": [
    {
     "data": {
      "text/html": [
       "<div>\n",
       "<style scoped>\n",
       "    .dataframe tbody tr th:only-of-type {\n",
       "        vertical-align: middle;\n",
       "    }\n",
       "\n",
       "    .dataframe tbody tr th {\n",
       "        vertical-align: top;\n",
       "    }\n",
       "\n",
       "    .dataframe thead th {\n",
       "        text-align: right;\n",
       "    }\n",
       "</style>\n",
       "<table border=\"1\" class=\"dataframe\">\n",
       "  <thead>\n",
       "    <tr style=\"text-align: right;\">\n",
       "      <th></th>\n",
       "      <th>Unnamed: 0</th>\n",
       "      <th>Release Type_Discharged - Expiration of Sentence</th>\n",
       "      <th>Release Type_Discharged – End of Sentence</th>\n",
       "      <th>Release Type_Parole</th>\n",
       "      <th>Release Type_Parole Granted</th>\n",
       "      <th>Release Type_Paroled to Detainer - INS</th>\n",
       "      <th>Release Type_Paroled to Detainer - Iowa</th>\n",
       "      <th>Release Type_Paroled to Detainer - Out of State</th>\n",
       "      <th>Release Type_Paroled to Detainer - U.S. Marshall</th>\n",
       "      <th>Release Type_Paroled w/Immediate Discharge</th>\n",
       "      <th>...</th>\n",
       "      <th>Offense Subtype_Sex Offender Registry/Residency</th>\n",
       "      <th>Offense Subtype_Special Sentence Revocation</th>\n",
       "      <th>Offense Subtype_Stolen Property</th>\n",
       "      <th>Offense Subtype_Theft</th>\n",
       "      <th>Offense Subtype_Traffic</th>\n",
       "      <th>Offense Subtype_Trafficking</th>\n",
       "      <th>Offense Subtype_Vandalism</th>\n",
       "      <th>Offense Subtype_Weapons</th>\n",
       "      <th>Race</th>\n",
       "      <th>Recidivism</th>\n",
       "    </tr>\n",
       "  </thead>\n",
       "  <tbody>\n",
       "    <tr>\n",
       "      <th>0</th>\n",
       "      <td>0</td>\n",
       "      <td>0</td>\n",
       "      <td>0</td>\n",
       "      <td>1</td>\n",
       "      <td>0</td>\n",
       "      <td>0</td>\n",
       "      <td>0</td>\n",
       "      <td>0</td>\n",
       "      <td>0</td>\n",
       "      <td>0</td>\n",
       "      <td>...</td>\n",
       "      <td>0</td>\n",
       "      <td>0</td>\n",
       "      <td>0</td>\n",
       "      <td>0</td>\n",
       "      <td>0</td>\n",
       "      <td>0</td>\n",
       "      <td>0</td>\n",
       "      <td>0</td>\n",
       "      <td>-1</td>\n",
       "      <td>1</td>\n",
       "    </tr>\n",
       "    <tr>\n",
       "      <th>1</th>\n",
       "      <td>4</td>\n",
       "      <td>0</td>\n",
       "      <td>1</td>\n",
       "      <td>0</td>\n",
       "      <td>0</td>\n",
       "      <td>0</td>\n",
       "      <td>0</td>\n",
       "      <td>0</td>\n",
       "      <td>0</td>\n",
       "      <td>0</td>\n",
       "      <td>...</td>\n",
       "      <td>0</td>\n",
       "      <td>0</td>\n",
       "      <td>0</td>\n",
       "      <td>0</td>\n",
       "      <td>0</td>\n",
       "      <td>0</td>\n",
       "      <td>0</td>\n",
       "      <td>0</td>\n",
       "      <td>-1</td>\n",
       "      <td>1</td>\n",
       "    </tr>\n",
       "    <tr>\n",
       "      <th>2</th>\n",
       "      <td>7</td>\n",
       "      <td>0</td>\n",
       "      <td>0</td>\n",
       "      <td>1</td>\n",
       "      <td>0</td>\n",
       "      <td>0</td>\n",
       "      <td>0</td>\n",
       "      <td>0</td>\n",
       "      <td>0</td>\n",
       "      <td>0</td>\n",
       "      <td>...</td>\n",
       "      <td>0</td>\n",
       "      <td>0</td>\n",
       "      <td>0</td>\n",
       "      <td>0</td>\n",
       "      <td>0</td>\n",
       "      <td>0</td>\n",
       "      <td>0</td>\n",
       "      <td>0</td>\n",
       "      <td>-1</td>\n",
       "      <td>1</td>\n",
       "    </tr>\n",
       "    <tr>\n",
       "      <th>3</th>\n",
       "      <td>9</td>\n",
       "      <td>0</td>\n",
       "      <td>0</td>\n",
       "      <td>1</td>\n",
       "      <td>0</td>\n",
       "      <td>0</td>\n",
       "      <td>0</td>\n",
       "      <td>0</td>\n",
       "      <td>0</td>\n",
       "      <td>0</td>\n",
       "      <td>...</td>\n",
       "      <td>0</td>\n",
       "      <td>0</td>\n",
       "      <td>0</td>\n",
       "      <td>0</td>\n",
       "      <td>0</td>\n",
       "      <td>0</td>\n",
       "      <td>0</td>\n",
       "      <td>0</td>\n",
       "      <td>-1</td>\n",
       "      <td>1</td>\n",
       "    </tr>\n",
       "    <tr>\n",
       "      <th>4</th>\n",
       "      <td>12</td>\n",
       "      <td>0</td>\n",
       "      <td>0</td>\n",
       "      <td>1</td>\n",
       "      <td>0</td>\n",
       "      <td>0</td>\n",
       "      <td>0</td>\n",
       "      <td>0</td>\n",
       "      <td>0</td>\n",
       "      <td>0</td>\n",
       "      <td>...</td>\n",
       "      <td>0</td>\n",
       "      <td>0</td>\n",
       "      <td>0</td>\n",
       "      <td>0</td>\n",
       "      <td>0</td>\n",
       "      <td>0</td>\n",
       "      <td>0</td>\n",
       "      <td>0</td>\n",
       "      <td>-1</td>\n",
       "      <td>1</td>\n",
       "    </tr>\n",
       "    <tr>\n",
       "      <th>...</th>\n",
       "      <td>...</td>\n",
       "      <td>...</td>\n",
       "      <td>...</td>\n",
       "      <td>...</td>\n",
       "      <td>...</td>\n",
       "      <td>...</td>\n",
       "      <td>...</td>\n",
       "      <td>...</td>\n",
       "      <td>...</td>\n",
       "      <td>...</td>\n",
       "      <td>...</td>\n",
       "      <td>...</td>\n",
       "      <td>...</td>\n",
       "      <td>...</td>\n",
       "      <td>...</td>\n",
       "      <td>...</td>\n",
       "      <td>...</td>\n",
       "      <td>...</td>\n",
       "      <td>...</td>\n",
       "      <td>...</td>\n",
       "      <td>...</td>\n",
       "    </tr>\n",
       "    <tr>\n",
       "      <th>12573</th>\n",
       "      <td>15575</td>\n",
       "      <td>1</td>\n",
       "      <td>0</td>\n",
       "      <td>0</td>\n",
       "      <td>0</td>\n",
       "      <td>0</td>\n",
       "      <td>0</td>\n",
       "      <td>0</td>\n",
       "      <td>0</td>\n",
       "      <td>0</td>\n",
       "      <td>...</td>\n",
       "      <td>0</td>\n",
       "      <td>0</td>\n",
       "      <td>0</td>\n",
       "      <td>0</td>\n",
       "      <td>0</td>\n",
       "      <td>0</td>\n",
       "      <td>0</td>\n",
       "      <td>0</td>\n",
       "      <td>1</td>\n",
       "      <td>-1</td>\n",
       "    </tr>\n",
       "    <tr>\n",
       "      <th>12574</th>\n",
       "      <td>15576</td>\n",
       "      <td>1</td>\n",
       "      <td>0</td>\n",
       "      <td>0</td>\n",
       "      <td>0</td>\n",
       "      <td>0</td>\n",
       "      <td>0</td>\n",
       "      <td>0</td>\n",
       "      <td>0</td>\n",
       "      <td>0</td>\n",
       "      <td>...</td>\n",
       "      <td>0</td>\n",
       "      <td>0</td>\n",
       "      <td>0</td>\n",
       "      <td>0</td>\n",
       "      <td>0</td>\n",
       "      <td>0</td>\n",
       "      <td>0</td>\n",
       "      <td>0</td>\n",
       "      <td>1</td>\n",
       "      <td>-1</td>\n",
       "    </tr>\n",
       "    <tr>\n",
       "      <th>12575</th>\n",
       "      <td>15579</td>\n",
       "      <td>0</td>\n",
       "      <td>0</td>\n",
       "      <td>0</td>\n",
       "      <td>1</td>\n",
       "      <td>0</td>\n",
       "      <td>0</td>\n",
       "      <td>0</td>\n",
       "      <td>0</td>\n",
       "      <td>0</td>\n",
       "      <td>...</td>\n",
       "      <td>0</td>\n",
       "      <td>0</td>\n",
       "      <td>0</td>\n",
       "      <td>0</td>\n",
       "      <td>0</td>\n",
       "      <td>0</td>\n",
       "      <td>0</td>\n",
       "      <td>0</td>\n",
       "      <td>1</td>\n",
       "      <td>-1</td>\n",
       "    </tr>\n",
       "    <tr>\n",
       "      <th>12576</th>\n",
       "      <td>15580</td>\n",
       "      <td>0</td>\n",
       "      <td>0</td>\n",
       "      <td>0</td>\n",
       "      <td>1</td>\n",
       "      <td>0</td>\n",
       "      <td>0</td>\n",
       "      <td>0</td>\n",
       "      <td>0</td>\n",
       "      <td>0</td>\n",
       "      <td>...</td>\n",
       "      <td>0</td>\n",
       "      <td>0</td>\n",
       "      <td>0</td>\n",
       "      <td>0</td>\n",
       "      <td>0</td>\n",
       "      <td>0</td>\n",
       "      <td>0</td>\n",
       "      <td>0</td>\n",
       "      <td>1</td>\n",
       "      <td>-1</td>\n",
       "    </tr>\n",
       "    <tr>\n",
       "      <th>12577</th>\n",
       "      <td>15589</td>\n",
       "      <td>0</td>\n",
       "      <td>0</td>\n",
       "      <td>0</td>\n",
       "      <td>0</td>\n",
       "      <td>0</td>\n",
       "      <td>1</td>\n",
       "      <td>0</td>\n",
       "      <td>0</td>\n",
       "      <td>0</td>\n",
       "      <td>...</td>\n",
       "      <td>0</td>\n",
       "      <td>0</td>\n",
       "      <td>0</td>\n",
       "      <td>0</td>\n",
       "      <td>0</td>\n",
       "      <td>0</td>\n",
       "      <td>0</td>\n",
       "      <td>0</td>\n",
       "      <td>1</td>\n",
       "      <td>-1</td>\n",
       "    </tr>\n",
       "  </tbody>\n",
       "</table>\n",
       "<p>12578 rows × 59 columns</p>\n",
       "</div>"
      ],
      "text/plain": [
       "       Unnamed: 0  Release Type_Discharged - Expiration of Sentence  \\\n",
       "0               0                                                 0   \n",
       "1               4                                                 0   \n",
       "2               7                                                 0   \n",
       "3               9                                                 0   \n",
       "4              12                                                 0   \n",
       "...           ...                                               ...   \n",
       "12573       15575                                                 1   \n",
       "12574       15576                                                 1   \n",
       "12575       15579                                                 0   \n",
       "12576       15580                                                 0   \n",
       "12577       15589                                                 0   \n",
       "\n",
       "       Release Type_Discharged – End of Sentence  Release Type_Parole  \\\n",
       "0                                              0                    1   \n",
       "1                                              1                    0   \n",
       "2                                              0                    1   \n",
       "3                                              0                    1   \n",
       "4                                              0                    1   \n",
       "...                                          ...                  ...   \n",
       "12573                                          0                    0   \n",
       "12574                                          0                    0   \n",
       "12575                                          0                    0   \n",
       "12576                                          0                    0   \n",
       "12577                                          0                    0   \n",
       "\n",
       "       Release Type_Parole Granted  Release Type_Paroled to Detainer - INS  \\\n",
       "0                                0                                       0   \n",
       "1                                0                                       0   \n",
       "2                                0                                       0   \n",
       "3                                0                                       0   \n",
       "4                                0                                       0   \n",
       "...                            ...                                     ...   \n",
       "12573                            0                                       0   \n",
       "12574                            0                                       0   \n",
       "12575                            1                                       0   \n",
       "12576                            1                                       0   \n",
       "12577                            0                                       0   \n",
       "\n",
       "       Release Type_Paroled to Detainer - Iowa  \\\n",
       "0                                            0   \n",
       "1                                            0   \n",
       "2                                            0   \n",
       "3                                            0   \n",
       "4                                            0   \n",
       "...                                        ...   \n",
       "12573                                        0   \n",
       "12574                                        0   \n",
       "12575                                        0   \n",
       "12576                                        0   \n",
       "12577                                        1   \n",
       "\n",
       "       Release Type_Paroled to Detainer - Out of State  \\\n",
       "0                                                    0   \n",
       "1                                                    0   \n",
       "2                                                    0   \n",
       "3                                                    0   \n",
       "4                                                    0   \n",
       "...                                                ...   \n",
       "12573                                                0   \n",
       "12574                                                0   \n",
       "12575                                                0   \n",
       "12576                                                0   \n",
       "12577                                                0   \n",
       "\n",
       "       Release Type_Paroled to Detainer - U.S. Marshall  \\\n",
       "0                                                     0   \n",
       "1                                                     0   \n",
       "2                                                     0   \n",
       "3                                                     0   \n",
       "4                                                     0   \n",
       "...                                                 ...   \n",
       "12573                                                 0   \n",
       "12574                                                 0   \n",
       "12575                                                 0   \n",
       "12576                                                 0   \n",
       "12577                                                 0   \n",
       "\n",
       "       Release Type_Paroled w/Immediate Discharge  ...  \\\n",
       "0                                               0  ...   \n",
       "1                                               0  ...   \n",
       "2                                               0  ...   \n",
       "3                                               0  ...   \n",
       "4                                               0  ...   \n",
       "...                                           ...  ...   \n",
       "12573                                           0  ...   \n",
       "12574                                           0  ...   \n",
       "12575                                           0  ...   \n",
       "12576                                           0  ...   \n",
       "12577                                           0  ...   \n",
       "\n",
       "       Offense Subtype_Sex Offender Registry/Residency  \\\n",
       "0                                                    0   \n",
       "1                                                    0   \n",
       "2                                                    0   \n",
       "3                                                    0   \n",
       "4                                                    0   \n",
       "...                                                ...   \n",
       "12573                                                0   \n",
       "12574                                                0   \n",
       "12575                                                0   \n",
       "12576                                                0   \n",
       "12577                                                0   \n",
       "\n",
       "       Offense Subtype_Special Sentence Revocation  \\\n",
       "0                                                0   \n",
       "1                                                0   \n",
       "2                                                0   \n",
       "3                                                0   \n",
       "4                                                0   \n",
       "...                                            ...   \n",
       "12573                                            0   \n",
       "12574                                            0   \n",
       "12575                                            0   \n",
       "12576                                            0   \n",
       "12577                                            0   \n",
       "\n",
       "       Offense Subtype_Stolen Property  Offense Subtype_Theft  \\\n",
       "0                                    0                      0   \n",
       "1                                    0                      0   \n",
       "2                                    0                      0   \n",
       "3                                    0                      0   \n",
       "4                                    0                      0   \n",
       "...                                ...                    ...   \n",
       "12573                                0                      0   \n",
       "12574                                0                      0   \n",
       "12575                                0                      0   \n",
       "12576                                0                      0   \n",
       "12577                                0                      0   \n",
       "\n",
       "       Offense Subtype_Traffic  Offense Subtype_Trafficking  \\\n",
       "0                            0                            0   \n",
       "1                            0                            0   \n",
       "2                            0                            0   \n",
       "3                            0                            0   \n",
       "4                            0                            0   \n",
       "...                        ...                          ...   \n",
       "12573                        0                            0   \n",
       "12574                        0                            0   \n",
       "12575                        0                            0   \n",
       "12576                        0                            0   \n",
       "12577                        0                            0   \n",
       "\n",
       "       Offense Subtype_Vandalism  Offense Subtype_Weapons  Race  Recidivism  \n",
       "0                              0                        0    -1           1  \n",
       "1                              0                        0    -1           1  \n",
       "2                              0                        0    -1           1  \n",
       "3                              0                        0    -1           1  \n",
       "4                              0                        0    -1           1  \n",
       "...                          ...                      ...   ...         ...  \n",
       "12573                          0                        0     1          -1  \n",
       "12574                          0                        0     1          -1  \n",
       "12575                          0                        0     1          -1  \n",
       "12576                          0                        0     1          -1  \n",
       "12577                          0                        0     1          -1  \n",
       "\n",
       "[12578 rows x 59 columns]"
      ]
     },
     "execution_count": 39,
     "metadata": {},
     "output_type": "execute_result"
    }
   ],
   "source": [
    "df"
   ]
  },
  {
   "cell_type": "code",
   "execution_count": 40,
   "metadata": {},
   "outputs": [],
   "source": [
    "s_data = df.Race.values\n",
    "\n",
    "s_data.shape\n",
    "\n",
    "y_data = df.Recidivism.values\n",
    "\n",
    "x_data = df[df.columns[1:-2]].values\n",
    "\n",
    "x_train, x_test, y_train, y_test, s_train, s_test = train_test_split(x_data, y_data, s_data, train_size=1200, shuffle=True)"
   ]
  },
  {
   "cell_type": "code",
   "execution_count": 35,
   "metadata": {},
   "outputs": [],
   "source": [
    "import get_real_data as get_data\n",
    "\n",
    "# Load Data\n",
    "# x_data, y_data, s_data = get_data.get_celebA_data(load_data_size=None)\n",
    "# Train Test split. Here, we choose a small number to reduce running time.\n",
    "train_size = 10000\n",
    "x_train, x_test, y_train, y_test, s_train, s_test = train_test_split(x_data, y_data, s_data, train_size=train_size, shuffle=True)"
   ]
  },
  {
   "cell_type": "code",
   "execution_count": 10,
   "metadata": {},
   "outputs": [
    {
     "name": "stdout",
     "output_type": "stream",
     "text": [
      "Data Cleaning Recidivism.ipynb real_data.ipynb\r\n",
      "\u001b[34m__pycache__\u001b[m\u001b[m                    recividism_black_white.csv\r\n",
      "get_real_data.py               recividism_cleaned.csv\r\n",
      "get_synthetic_data.py          recividism_white_nonwhite.csv\r\n",
      "new_Recidivism.csv             toy_data.ipynb\r\n",
      "real_data - recidivism.ipynb   utils.py\r\n"
     ]
    }
   ],
   "source": [
    "!ls"
   ]
  },
  {
   "cell_type": "code",
   "execution_count": null,
   "metadata": {},
   "outputs": [],
   "source": []
  },
  {
   "cell_type": "code",
   "execution_count": 11,
   "metadata": {
    "scrolled": true
   },
   "outputs": [
    {
     "data": {
      "text/plain": [
       "(12578, 56)"
      ]
     },
     "execution_count": 11,
     "metadata": {},
     "output_type": "execute_result"
    }
   ],
   "source": [
    "x_data.shape"
   ]
  },
  {
   "cell_type": "code",
   "execution_count": 12,
   "metadata": {},
   "outputs": [],
   "source": [
    "def print_clf_stats(model, x_train, x_test, y_train, y_test, s_train, s_test):\n",
    "    train_acc = ut.get_accuracy(np.sign(model.predict(x_train)), y_train)\n",
    "    test_acc = ut.get_accuracy(np.sign(model.predict(x_test)), y_test)\n",
    "    test_DDP, test_DEO = ut.compute_fairness_measures(model.predict(x_test), y_test, s_test)\n",
    "    train_DDP, train_DEO = ut.compute_fairness_measures(model.predict(x_train), y_train, s_train)\n",
    "\n",
    "    print(10*'-'+\"Train\"+10*'-')\n",
    "    print(\"Accuracy: %0.4f%%\" % (train_acc * 100))\n",
    "    print(\"DDP: %0.4f%%\" % (train_DDP * 100), \"DEO: %0.4f%%\" % (train_DEO * 100))\n",
    "    print(10*'-'+\"Test\"+10*'-')\n",
    "    print(\"Accuracy: %0.4f%%\" % (test_acc * 100))\n",
    "    print(\"DDP: %0.4f%%\" % (test_DDP * 100), \"DEO: %0.4f%%\" % (test_DEO * 100))"
   ]
  },
  {
   "cell_type": "code",
   "execution_count": 13,
   "metadata": {
    "scrolled": true
   },
   "outputs": [
    {
     "name": "stdout",
     "output_type": "stream",
     "text": [
      "Total data points: 12578\n",
      "# non-protected examples: 8000\n",
      "# protected examples: 4578\n",
      "# non-protected examples in positive class: 2000 (25.0%)\n",
      "# protected examples in positive class: 2278 (49.8%)\n"
     ]
    }
   ],
   "source": [
    "import utils as ut\n",
    "ut.print_data_stats(s_data, y_data)"
   ]
  },
  {
   "cell_type": "markdown",
   "metadata": {},
   "source": [
    "## Basic model, no fairness constraint"
   ]
  },
  {
   "cell_type": "code",
   "execution_count": 69,
   "metadata": {},
   "outputs": [
    {
     "data": {
      "text/plain": [
       "1200"
      ]
     },
     "execution_count": 69,
     "metadata": {},
     "output_type": "execute_result"
    }
   ],
   "source": [
    "len(x_train)"
   ]
  },
  {
   "cell_type": "code",
   "execution_count": 14,
   "metadata": {
    "scrolled": true
   },
   "outputs": [
    {
     "name": "stdout",
     "output_type": "stream",
     "text": [
      "----------Train----------\n",
      "Accuracy: 67.5900%\n",
      "DDP: -5.6941% DEO: -20.5393%\n",
      "----------Test----------\n",
      "Accuracy: 65.5159%\n",
      "DDP: -4.2844% DEO: -17.6617%\n"
     ]
    }
   ],
   "source": [
    "from sklearn import linear_model\n",
    "reg = linear_model.LogisticRegression()\n",
    "x_train, x_test, y_train, y_test, s_train, s_test = train_test_split(x_data, y_data, s_data, train_size=train_size, shuffle=True)\n",
    "reg.fit(x_train,y_train)\n",
    "print_clf_stats(reg,x_train,x_test,y_train,y_test,s_train,s_test)"
   ]
  },
  {
   "cell_type": "code",
   "execution_count": 37,
   "metadata": {},
   "outputs": [
    {
     "name": "stdout",
     "output_type": "stream",
     "text": [
      "[0.668, 0.6693, 0.6739, 0.6714, 0.6669]\n",
      "0.6698999999999999\n",
      "0.6757951900698215\n",
      "-0.052996601132817435\n",
      "-0.17962525231249118\n",
      "Test DDP -0.04362384121586158\n",
      "Test DEO -0.17551939070146755\n"
     ]
    }
   ],
   "source": [
    "num_cycles = 5\n",
    "train_size = 10000\n",
    "avg_train_acc = []\n",
    "avg_test_acc = []\n",
    "avg_test_DDP = []\n",
    "avg_train_DDP = []\n",
    "\n",
    "avg_test_DEO = []\n",
    "avg_train_DEO =[]\n",
    "for i in range(num_cycles):\n",
    "    x_train, x_test, y_train, y_test, s_train, s_test = train_test_split(x_data, y_data, s_data, train_size=train_size, shuffle=True)\n",
    "    model = linear_model.LogisticRegression()\n",
    "    model.fit(x_train,y_train)  \n",
    "\n",
    "    train_acc = ut.get_accuracy(np.sign(model.predict(x_train)), y_train)\n",
    "    test_acc = ut.get_accuracy(np.sign(model.predict(x_test)), y_test)\n",
    "    test_DDP, test_DEO = ut.compute_fairness_measures(model.predict(x_test), y_test, s_test)\n",
    "    train_DDP, train_DEO = ut.compute_fairness_measures(model.predict(x_train), y_train, s_train)\n",
    "\n",
    "    avg_train_acc.append(train_acc)\n",
    "    avg_test_acc.append(test_acc)\n",
    "    avg_test_DDP.append(test_DDP)\n",
    "    avg_train_DDP.append(train_DDP)\n",
    "    avg_test_DEO.append(test_DEO)\n",
    "    avg_train_DEO.append(train_DEO)\n",
    "\n",
    "print(avg_train_acc)\n",
    "print(np.mean(avg_train_acc))\n",
    "print(np.mean(avg_test_acc))\n",
    "\n",
    "print(np.mean(avg_train_DDP))\n",
    "print(np.mean(avg_train_DEO))\n",
    "\n",
    "print('Test DDP',np.mean(avg_test_DDP))\n",
    "print('Test DEO',np.mean(avg_test_DEO))\n"
   ]
  },
  {
   "cell_type": "markdown",
   "metadata": {},
   "source": [
    "## Creating a SearchFair Model\n",
    "\n",
    "### Demographic Parity"
   ]
  },
  {
   "cell_type": "markdown",
   "metadata": {},
   "source": [
    "To learn a classifier with SearchFair, we need to choose a kernel between 'linear' and 'rbf', and we need to choose a fairness notion - either Demographic Parity (DDP) or Equality of Opportunity (DEO). "
   ]
  },
  {
   "cell_type": "code",
   "execution_count": 41,
   "metadata": {},
   "outputs": [
    {
     "name": "stdout",
     "output_type": "stream",
     "text": [
      "Preprocessing...\n",
      "Testing lambda_min: 0.00\n",
      "Obtained: DEO = 0.0054 with lambda = 0.0000\n",
      "Testing lambda_max: 1.00\n",
      "Obtained: DEO = -0.4086 with lambda = 1.0000\n",
      "Classifier is fair enough with lambda = 0.0000\n",
      "----------Found Lambda 0.0000 with fairness 0.0054----------\n",
      "----------Train----------\n",
      "Accuracy: 66.5000%\n",
      "DDP: -0.2046% DEO: 0.5376%\n",
      "----------Test----------\n",
      "Accuracy: 65.8404%\n",
      "DDP: -2.0640% DEO: -4.8124%\n"
     ]
    }
   ],
   "source": [
    "fairness_notion = 'DEO' # DDP = Demographic Parity, DEO = Equality of Opportunity. \n",
    "kernel = 'linear' # 'linear', 'rbf'\n",
    "verbose = True # True = SearchFair output, 2 = show also solver progress\n",
    "x_train, x_test, y_train, y_test, s_train, s_test = train_test_split(x_data, y_data, s_data, train_size=1000, shuffle=True)\n",
    "\n",
    "# Regularization Parameter beta\n",
    "reg_beta = 0.0001\n",
    "linear_model_DDP = SearchFair(reg_beta=reg_beta, kernel=kernel, fairness_notion=fairness_notion, verbose=verbose, stop_criterion=0.01)\n",
    "linear_model_DDP.fit(x_train, y_train, s_train=s_train)\n",
    "print_clf_stats(linear_model_DDP, x_train, x_test, y_train, y_test, s_train, s_test)"
   ]
  },
  {
   "cell_type": "code",
   "execution_count": 42,
   "metadata": {},
   "outputs": [
    {
     "name": "stdout",
     "output_type": "stream",
     "text": [
      "Preprocessing...\n",
      "Testing lambda_min: 0.00\n"
     ]
    },
    {
     "ename": "KeyboardInterrupt",
     "evalue": "",
     "output_type": "error",
     "traceback": [
      "\u001b[0;31m---------------------------------------------------------------------------\u001b[0m",
      "\u001b[0;31mKeyboardInterrupt\u001b[0m                         Traceback (most recent call last)",
      "\u001b[0;32m<ipython-input-42-6eaaf8ff2624>\u001b[0m in \u001b[0;36m<module>\u001b[0;34m\u001b[0m\n\u001b[1;32m      7\u001b[0m \u001b[0mreg_beta\u001b[0m \u001b[0;34m=\u001b[0m \u001b[0;36m0.0001\u001b[0m\u001b[0;34m\u001b[0m\u001b[0;34m\u001b[0m\u001b[0m\n\u001b[1;32m      8\u001b[0m \u001b[0mlinear_model_DDP\u001b[0m \u001b[0;34m=\u001b[0m \u001b[0mSearchFair\u001b[0m\u001b[0;34m(\u001b[0m\u001b[0mreg_beta\u001b[0m\u001b[0;34m=\u001b[0m\u001b[0mreg_beta\u001b[0m\u001b[0;34m,\u001b[0m \u001b[0mkernel\u001b[0m\u001b[0;34m=\u001b[0m\u001b[0mkernel\u001b[0m\u001b[0;34m,\u001b[0m \u001b[0mfairness_notion\u001b[0m\u001b[0;34m=\u001b[0m\u001b[0mfairness_notion\u001b[0m\u001b[0;34m,\u001b[0m \u001b[0mverbose\u001b[0m\u001b[0;34m=\u001b[0m\u001b[0mverbose\u001b[0m\u001b[0;34m,\u001b[0m \u001b[0mstop_criterion\u001b[0m\u001b[0;34m=\u001b[0m\u001b[0;36m0.01\u001b[0m\u001b[0;34m)\u001b[0m\u001b[0;34m\u001b[0m\u001b[0;34m\u001b[0m\u001b[0m\n\u001b[0;32m----> 9\u001b[0;31m \u001b[0mlinear_model_DDP\u001b[0m\u001b[0;34m.\u001b[0m\u001b[0mfit\u001b[0m\u001b[0;34m(\u001b[0m\u001b[0mx_train\u001b[0m\u001b[0;34m,\u001b[0m \u001b[0my_train\u001b[0m\u001b[0;34m,\u001b[0m \u001b[0ms_train\u001b[0m\u001b[0;34m=\u001b[0m\u001b[0ms_train\u001b[0m\u001b[0;34m)\u001b[0m\u001b[0;34m\u001b[0m\u001b[0;34m\u001b[0m\u001b[0m\n\u001b[0m\u001b[1;32m     10\u001b[0m \u001b[0mprint_clf_stats\u001b[0m\u001b[0;34m(\u001b[0m\u001b[0mlinear_model_DDP\u001b[0m\u001b[0;34m,\u001b[0m \u001b[0mx_train\u001b[0m\u001b[0;34m,\u001b[0m \u001b[0mx_test\u001b[0m\u001b[0;34m,\u001b[0m \u001b[0my_train\u001b[0m\u001b[0;34m,\u001b[0m \u001b[0my_test\u001b[0m\u001b[0;34m,\u001b[0m \u001b[0ms_train\u001b[0m\u001b[0;34m,\u001b[0m \u001b[0ms_test\u001b[0m\u001b[0;34m)\u001b[0m\u001b[0;34m\u001b[0m\u001b[0;34m\u001b[0m\u001b[0m\n",
      "\u001b[0;32m~/opt/anaconda3/lib/python3.8/site-packages/searchfair-0.0.1-py3.8.egg/searchfair/classifiers.py\u001b[0m in \u001b[0;36mfit\u001b[0;34m(self, x_train, y_train, s_train)\u001b[0m\n\u001b[1;32m    120\u001b[0m         \u001b[0mbound\u001b[0m \u001b[0;34m=\u001b[0m \u001b[0;34m'upper'\u001b[0m \u001b[0;31m# even though an upper bound is specified, since lambda_min is 0, it falls away\u001b[0m\u001b[0;34m\u001b[0m\u001b[0;34m\u001b[0m\u001b[0m\n\u001b[1;32m    121\u001b[0m         \u001b[0;32mif\u001b[0m \u001b[0mself\u001b[0m\u001b[0;34m.\u001b[0m\u001b[0mverbose\u001b[0m\u001b[0;34m:\u001b[0m \u001b[0mprint\u001b[0m\u001b[0;34m(\u001b[0m\u001b[0;34m\"Testing lambda_min: %0.2f\"\u001b[0m \u001b[0;34m%\u001b[0m \u001b[0mlbda_min\u001b[0m\u001b[0;34m)\u001b[0m\u001b[0;34m\u001b[0m\u001b[0;34m\u001b[0m\u001b[0m\n\u001b[0;32m--> 122\u001b[0;31m         \u001b[0mmin_fair_measure\u001b[0m\u001b[0;34m,\u001b[0m \u001b[0mmin_alpha\u001b[0m \u001b[0;34m=\u001b[0m \u001b[0mlearn\u001b[0m\u001b[0;34m(\u001b[0m\u001b[0mlbda_min\u001b[0m\u001b[0;34m,\u001b[0m \u001b[0mbound\u001b[0m\u001b[0;34m=\u001b[0m\u001b[0mbound\u001b[0m\u001b[0;34m)\u001b[0m\u001b[0;34m\u001b[0m\u001b[0;34m\u001b[0m\u001b[0m\n\u001b[0m\u001b[1;32m    123\u001b[0m         \u001b[0;32mif\u001b[0m \u001b[0mnp\u001b[0m\u001b[0;34m.\u001b[0m\u001b[0msign\u001b[0m\u001b[0;34m(\u001b[0m\u001b[0mmin_fair_measure\u001b[0m\u001b[0;34m)\u001b[0m \u001b[0;34m<\u001b[0m \u001b[0;36m0\u001b[0m\u001b[0;34m:\u001b[0m \u001b[0mbound\u001b[0m \u001b[0;34m=\u001b[0m \u001b[0;34m'lower'\u001b[0m\u001b[0;34m\u001b[0m\u001b[0;34m\u001b[0m\u001b[0m\n\u001b[1;32m    124\u001b[0m         \u001b[0;32mif\u001b[0m \u001b[0mself\u001b[0m\u001b[0;34m.\u001b[0m\u001b[0mverbose\u001b[0m\u001b[0;34m:\u001b[0m \u001b[0mprint\u001b[0m\u001b[0;34m(\u001b[0m\u001b[0;34m\"Testing lambda_max: %0.2f\"\u001b[0m \u001b[0;34m%\u001b[0m \u001b[0mlbda_max\u001b[0m\u001b[0;34m)\u001b[0m\u001b[0;34m\u001b[0m\u001b[0;34m\u001b[0m\u001b[0m\n",
      "\u001b[0;32m~/opt/anaconda3/lib/python3.8/site-packages/searchfair-0.0.1-py3.8.egg/searchfair/classifiers.py\u001b[0m in \u001b[0;36mlearn\u001b[0;34m(reg, bound)\u001b[0m\n\u001b[1;32m    107\u001b[0m             \u001b[0;32mif\u001b[0m \u001b[0mbound\u001b[0m \u001b[0;32mis\u001b[0m \u001b[0;32mnot\u001b[0m \u001b[0;32mNone\u001b[0m\u001b[0;34m:\u001b[0m\u001b[0;34m\u001b[0m\u001b[0;34m\u001b[0m\u001b[0m\n\u001b[1;32m    108\u001b[0m                 \u001b[0mself\u001b[0m\u001b[0;34m.\u001b[0m\u001b[0m_construct_problem\u001b[0m\u001b[0;34m(\u001b[0m\u001b[0mbound\u001b[0m\u001b[0;34m=\u001b[0m\u001b[0mbound\u001b[0m\u001b[0;34m)\u001b[0m\u001b[0;34m\u001b[0m\u001b[0;34m\u001b[0m\u001b[0m\n\u001b[0;32m--> 109\u001b[0;31m             \u001b[0mself\u001b[0m\u001b[0;34m.\u001b[0m\u001b[0m_optimize\u001b[0m\u001b[0;34m(\u001b[0m\u001b[0;34m)\u001b[0m\u001b[0;34m\u001b[0m\u001b[0;34m\u001b[0m\u001b[0m\n\u001b[0m\u001b[1;32m    110\u001b[0m             \u001b[0mDDP\u001b[0m\u001b[0;34m,\u001b[0m \u001b[0mDEO\u001b[0m \u001b[0;34m=\u001b[0m \u001b[0mself\u001b[0m\u001b[0;34m.\u001b[0m\u001b[0mcompute_fairness_measures\u001b[0m\u001b[0;34m(\u001b[0m\u001b[0mself\u001b[0m\u001b[0;34m.\u001b[0m\u001b[0mpredict\u001b[0m\u001b[0;34m(\u001b[0m\u001b[0mx_train\u001b[0m\u001b[0;34m)\u001b[0m\u001b[0;34m,\u001b[0m \u001b[0my_train\u001b[0m\u001b[0;34m,\u001b[0m \u001b[0ms_train\u001b[0m\u001b[0;34m)\u001b[0m\u001b[0;34m\u001b[0m\u001b[0;34m\u001b[0m\u001b[0m\n\u001b[1;32m    111\u001b[0m             \u001b[0;32mif\u001b[0m \u001b[0mself\u001b[0m\u001b[0;34m.\u001b[0m\u001b[0mfairness_notion\u001b[0m \u001b[0;34m==\u001b[0m \u001b[0;34m'DDP'\u001b[0m\u001b[0;34m:\u001b[0m\u001b[0;34m\u001b[0m\u001b[0;34m\u001b[0m\u001b[0m\n",
      "\u001b[0;32m~/opt/anaconda3/lib/python3.8/site-packages/searchfair-0.0.1-py3.8.egg/searchfair/classifiers.py\u001b[0m in \u001b[0;36m_optimize\u001b[0;34m(self)\u001b[0m\n\u001b[1;32m    319\u001b[0m             \u001b[0mverbose\u001b[0m \u001b[0;34m=\u001b[0m \u001b[0;32mFalse\u001b[0m\u001b[0;34m\u001b[0m\u001b[0;34m\u001b[0m\u001b[0m\n\u001b[1;32m    320\u001b[0m         \u001b[0;32mif\u001b[0m \u001b[0mself\u001b[0m\u001b[0;34m.\u001b[0m\u001b[0msolver\u001b[0m \u001b[0;34m==\u001b[0m \u001b[0;34m'SCS'\u001b[0m\u001b[0;34m:\u001b[0m\u001b[0;34m\u001b[0m\u001b[0;34m\u001b[0m\u001b[0m\n\u001b[0;32m--> 321\u001b[0;31m             \u001b[0mself\u001b[0m\u001b[0;34m.\u001b[0m\u001b[0mprob\u001b[0m\u001b[0;34m.\u001b[0m\u001b[0msolve\u001b[0m\u001b[0;34m(\u001b[0m\u001b[0msolver\u001b[0m\u001b[0;34m=\u001b[0m\u001b[0mcp\u001b[0m\u001b[0;34m.\u001b[0m\u001b[0mSCS\u001b[0m\u001b[0;34m,\u001b[0m \u001b[0mmax_iters\u001b[0m\u001b[0;34m=\u001b[0m\u001b[0mself\u001b[0m\u001b[0;34m.\u001b[0m\u001b[0mmax_iter\u001b[0m\u001b[0;34m,\u001b[0m \u001b[0mverbose\u001b[0m\u001b[0;34m=\u001b[0m\u001b[0mverbose\u001b[0m\u001b[0;34m,\u001b[0m \u001b[0mwarm_start\u001b[0m\u001b[0;34m=\u001b[0m\u001b[0;32mTrue\u001b[0m\u001b[0;34m)\u001b[0m\u001b[0;34m\u001b[0m\u001b[0;34m\u001b[0m\u001b[0m\n\u001b[0m\u001b[1;32m    322\u001b[0m         \u001b[0;32melif\u001b[0m \u001b[0mself\u001b[0m\u001b[0;34m.\u001b[0m\u001b[0msolver\u001b[0m \u001b[0;34m==\u001b[0m \u001b[0;34m'ECOS'\u001b[0m\u001b[0;34m:\u001b[0m\u001b[0;34m\u001b[0m\u001b[0;34m\u001b[0m\u001b[0m\n\u001b[1;32m    323\u001b[0m             \u001b[0;32mtry\u001b[0m\u001b[0;34m:\u001b[0m\u001b[0;34m\u001b[0m\u001b[0;34m\u001b[0m\u001b[0m\n",
      "\u001b[0;32m~/opt/anaconda3/lib/python3.8/site-packages/cvxpy-1.1.11-py3.8-macosx-10.9-x86_64.egg/cvxpy/problems/problem.py\u001b[0m in \u001b[0;36msolve\u001b[0;34m(self, *args, **kwargs)\u001b[0m\n\u001b[1;32m    434\u001b[0m         \u001b[0;32melse\u001b[0m\u001b[0;34m:\u001b[0m\u001b[0;34m\u001b[0m\u001b[0;34m\u001b[0m\u001b[0m\n\u001b[1;32m    435\u001b[0m             \u001b[0msolve_func\u001b[0m \u001b[0;34m=\u001b[0m \u001b[0mProblem\u001b[0m\u001b[0;34m.\u001b[0m\u001b[0m_solve\u001b[0m\u001b[0;34m\u001b[0m\u001b[0;34m\u001b[0m\u001b[0m\n\u001b[0;32m--> 436\u001b[0;31m         \u001b[0;32mreturn\u001b[0m \u001b[0msolve_func\u001b[0m\u001b[0;34m(\u001b[0m\u001b[0mself\u001b[0m\u001b[0;34m,\u001b[0m \u001b[0;34m*\u001b[0m\u001b[0margs\u001b[0m\u001b[0;34m,\u001b[0m \u001b[0;34m**\u001b[0m\u001b[0mkwargs\u001b[0m\u001b[0;34m)\u001b[0m\u001b[0;34m\u001b[0m\u001b[0;34m\u001b[0m\u001b[0m\n\u001b[0m\u001b[1;32m    437\u001b[0m \u001b[0;34m\u001b[0m\u001b[0m\n\u001b[1;32m    438\u001b[0m     \u001b[0;34m@\u001b[0m\u001b[0mclassmethod\u001b[0m\u001b[0;34m\u001b[0m\u001b[0;34m\u001b[0m\u001b[0m\n",
      "\u001b[0;32m~/opt/anaconda3/lib/python3.8/site-packages/cvxpy-1.1.11-py3.8-macosx-10.9-x86_64.egg/cvxpy/problems/problem.py\u001b[0m in \u001b[0;36m_solve\u001b[0;34m(self, solver, warm_start, verbose, gp, qcp, requires_grad, enforce_dpp, **kwargs)\u001b[0m\n\u001b[1;32m    916\u001b[0m                 \u001b[0;32mreturn\u001b[0m \u001b[0mself\u001b[0m\u001b[0;34m.\u001b[0m\u001b[0mvalue\u001b[0m\u001b[0;34m\u001b[0m\u001b[0;34m\u001b[0m\u001b[0m\n\u001b[1;32m    917\u001b[0m \u001b[0;34m\u001b[0m\u001b[0m\n\u001b[0;32m--> 918\u001b[0;31m         data, solving_chain, inverse_data = self.get_problem_data(\n\u001b[0m\u001b[1;32m    919\u001b[0m             solver, gp, enforce_dpp, verbose)\n\u001b[1;32m    920\u001b[0m \u001b[0;34m\u001b[0m\u001b[0m\n",
      "\u001b[0;32m~/opt/anaconda3/lib/python3.8/site-packages/cvxpy-1.1.11-py3.8-macosx-10.9-x86_64.egg/cvxpy/problems/problem.py\u001b[0m in \u001b[0;36mget_problem_data\u001b[0;34m(self, solver, gp, enforce_dpp, verbose)\u001b[0m\n\u001b[1;32m    589\u001b[0m                     \u001b[0;34mf'{reduction_chain_str}'\u001b[0m\u001b[0;34m\u001b[0m\u001b[0;34m\u001b[0m\u001b[0m\n\u001b[1;32m    590\u001b[0m                 )\n\u001b[0;32m--> 591\u001b[0;31m             \u001b[0mdata\u001b[0m\u001b[0;34m,\u001b[0m \u001b[0minverse_data\u001b[0m \u001b[0;34m=\u001b[0m \u001b[0msolving_chain\u001b[0m\u001b[0;34m.\u001b[0m\u001b[0mapply\u001b[0m\u001b[0;34m(\u001b[0m\u001b[0mself\u001b[0m\u001b[0;34m,\u001b[0m \u001b[0mverbose\u001b[0m\u001b[0;34m)\u001b[0m\u001b[0;34m\u001b[0m\u001b[0;34m\u001b[0m\u001b[0m\n\u001b[0m\u001b[1;32m    592\u001b[0m             safe_to_cache = (\n\u001b[1;32m    593\u001b[0m                 \u001b[0misinstance\u001b[0m\u001b[0;34m(\u001b[0m\u001b[0mdata\u001b[0m\u001b[0;34m,\u001b[0m \u001b[0mdict\u001b[0m\u001b[0;34m)\u001b[0m\u001b[0;34m\u001b[0m\u001b[0;34m\u001b[0m\u001b[0m\n",
      "\u001b[0;32m~/opt/anaconda3/lib/python3.8/site-packages/cvxpy-1.1.11-py3.8-macosx-10.9-x86_64.egg/cvxpy/reductions/chain.py\u001b[0m in \u001b[0;36mapply\u001b[0;34m(self, problem, verbose)\u001b[0m\n\u001b[1;32m     74\u001b[0m             \u001b[0;32mif\u001b[0m \u001b[0mverbose\u001b[0m\u001b[0;34m:\u001b[0m\u001b[0;34m\u001b[0m\u001b[0;34m\u001b[0m\u001b[0m\n\u001b[1;32m     75\u001b[0m                 \u001b[0ms\u001b[0m\u001b[0;34m.\u001b[0m\u001b[0mLOGGER\u001b[0m\u001b[0;34m.\u001b[0m\u001b[0minfo\u001b[0m\u001b[0;34m(\u001b[0m\u001b[0;34mf'Applying reduction {type(r).__name__}'\u001b[0m\u001b[0;34m)\u001b[0m\u001b[0;34m\u001b[0m\u001b[0;34m\u001b[0m\u001b[0m\n\u001b[0;32m---> 76\u001b[0;31m             \u001b[0mproblem\u001b[0m\u001b[0;34m,\u001b[0m \u001b[0minv\u001b[0m \u001b[0;34m=\u001b[0m \u001b[0mr\u001b[0m\u001b[0;34m.\u001b[0m\u001b[0mapply\u001b[0m\u001b[0;34m(\u001b[0m\u001b[0mproblem\u001b[0m\u001b[0;34m)\u001b[0m\u001b[0;34m\u001b[0m\u001b[0;34m\u001b[0m\u001b[0m\n\u001b[0m\u001b[1;32m     77\u001b[0m             \u001b[0minverse_data\u001b[0m\u001b[0;34m.\u001b[0m\u001b[0mappend\u001b[0m\u001b[0;34m(\u001b[0m\u001b[0minv\u001b[0m\u001b[0;34m)\u001b[0m\u001b[0;34m\u001b[0m\u001b[0;34m\u001b[0m\u001b[0m\n\u001b[1;32m     78\u001b[0m         \u001b[0;32mreturn\u001b[0m \u001b[0mproblem\u001b[0m\u001b[0;34m,\u001b[0m \u001b[0minverse_data\u001b[0m\u001b[0;34m\u001b[0m\u001b[0;34m\u001b[0m\u001b[0m\n",
      "\u001b[0;32m~/opt/anaconda3/lib/python3.8/site-packages/cvxpy-1.1.11-py3.8-macosx-10.9-x86_64.egg/cvxpy/reductions/dcp2cone/cone_matrix_stuffing.py\u001b[0m in \u001b[0;36mapply\u001b[0;34m(self, problem)\u001b[0m\n\u001b[1;32m    331\u001b[0m         \u001b[0;31m# Batch expressions together, then split apart.\u001b[0m\u001b[0;34m\u001b[0m\u001b[0;34m\u001b[0m\u001b[0;34m\u001b[0m\u001b[0m\n\u001b[1;32m    332\u001b[0m         \u001b[0mexpr_list\u001b[0m \u001b[0;34m=\u001b[0m \u001b[0;34m[\u001b[0m\u001b[0marg\u001b[0m \u001b[0;32mfor\u001b[0m \u001b[0mc\u001b[0m \u001b[0;32min\u001b[0m \u001b[0mordered_cons\u001b[0m \u001b[0;32mfor\u001b[0m \u001b[0marg\u001b[0m \u001b[0;32min\u001b[0m \u001b[0mc\u001b[0m\u001b[0;34m.\u001b[0m\u001b[0margs\u001b[0m\u001b[0;34m]\u001b[0m\u001b[0;34m\u001b[0m\u001b[0;34m\u001b[0m\u001b[0m\n\u001b[0;32m--> 333\u001b[0;31m         \u001b[0mparams_to_problem_data\u001b[0m \u001b[0;34m=\u001b[0m \u001b[0mextractor\u001b[0m\u001b[0;34m.\u001b[0m\u001b[0maffine\u001b[0m\u001b[0;34m(\u001b[0m\u001b[0mexpr_list\u001b[0m\u001b[0;34m)\u001b[0m\u001b[0;34m\u001b[0m\u001b[0;34m\u001b[0m\u001b[0m\n\u001b[0m\u001b[1;32m    334\u001b[0m \u001b[0;34m\u001b[0m\u001b[0m\n\u001b[1;32m    335\u001b[0m         \u001b[0minverse_data\u001b[0m\u001b[0;34m.\u001b[0m\u001b[0mminimize\u001b[0m \u001b[0;34m=\u001b[0m \u001b[0mtype\u001b[0m\u001b[0;34m(\u001b[0m\u001b[0mproblem\u001b[0m\u001b[0;34m.\u001b[0m\u001b[0mobjective\u001b[0m\u001b[0;34m)\u001b[0m \u001b[0;34m==\u001b[0m \u001b[0mMinimize\u001b[0m\u001b[0;34m\u001b[0m\u001b[0;34m\u001b[0m\u001b[0m\n",
      "\u001b[0;32m~/opt/anaconda3/lib/python3.8/site-packages/cvxpy-1.1.11-py3.8-macosx-10.9-x86_64.egg/cvxpy/utilities/coeff_extractor.py\u001b[0m in \u001b[0;36maffine\u001b[0;34m(self, expr)\u001b[0m\n\u001b[1;32m     81\u001b[0m         \u001b[0mnum_rows\u001b[0m \u001b[0;34m=\u001b[0m \u001b[0msum\u001b[0m\u001b[0;34m(\u001b[0m\u001b[0;34m[\u001b[0m\u001b[0me\u001b[0m\u001b[0;34m.\u001b[0m\u001b[0msize\u001b[0m \u001b[0;32mfor\u001b[0m \u001b[0me\u001b[0m \u001b[0;32min\u001b[0m \u001b[0mexpr_list\u001b[0m\u001b[0;34m]\u001b[0m\u001b[0;34m)\u001b[0m\u001b[0;34m\u001b[0m\u001b[0;34m\u001b[0m\u001b[0m\n\u001b[1;32m     82\u001b[0m         \u001b[0mop_list\u001b[0m \u001b[0;34m=\u001b[0m \u001b[0;34m[\u001b[0m\u001b[0me\u001b[0m\u001b[0;34m.\u001b[0m\u001b[0mcanonical_form\u001b[0m\u001b[0;34m[\u001b[0m\u001b[0;36m0\u001b[0m\u001b[0;34m]\u001b[0m \u001b[0;32mfor\u001b[0m \u001b[0me\u001b[0m \u001b[0;32min\u001b[0m \u001b[0mexpr_list\u001b[0m\u001b[0;34m]\u001b[0m\u001b[0;34m\u001b[0m\u001b[0;34m\u001b[0m\u001b[0m\n\u001b[0;32m---> 83\u001b[0;31m         return canonInterface.get_problem_matrix(op_list,\n\u001b[0m\u001b[1;32m     84\u001b[0m                                                  \u001b[0mself\u001b[0m\u001b[0;34m.\u001b[0m\u001b[0mx_length\u001b[0m\u001b[0;34m,\u001b[0m\u001b[0;34m\u001b[0m\u001b[0;34m\u001b[0m\u001b[0m\n\u001b[1;32m     85\u001b[0m                                                  \u001b[0mself\u001b[0m\u001b[0;34m.\u001b[0m\u001b[0mid_map\u001b[0m\u001b[0;34m,\u001b[0m\u001b[0;34m\u001b[0m\u001b[0;34m\u001b[0m\u001b[0m\n",
      "\u001b[0;32m~/opt/anaconda3/lib/python3.8/site-packages/cvxpy-1.1.11-py3.8-macosx-10.9-x86_64.egg/cvxpy/cvxcore/python/canonInterface.py\u001b[0m in \u001b[0;36mget_problem_matrix\u001b[0;34m(linOps, var_length, id_to_col, param_to_size, param_to_col, constr_length)\u001b[0m\n\u001b[1;32m    311\u001b[0m         \u001b[0mlin_vec\u001b[0m\u001b[0;34m.\u001b[0m\u001b[0mpush_back\u001b[0m\u001b[0;34m(\u001b[0m\u001b[0mtree\u001b[0m\u001b[0;34m)\u001b[0m\u001b[0;34m\u001b[0m\u001b[0;34m\u001b[0m\u001b[0m\n\u001b[1;32m    312\u001b[0m \u001b[0;34m\u001b[0m\u001b[0m\n\u001b[0;32m--> 313\u001b[0;31m     problemData = cvxcore.build_matrix(lin_vec,\n\u001b[0m\u001b[1;32m    314\u001b[0m                                        \u001b[0mint\u001b[0m\u001b[0;34m(\u001b[0m\u001b[0mvar_length\u001b[0m\u001b[0;34m)\u001b[0m\u001b[0;34m,\u001b[0m\u001b[0;34m\u001b[0m\u001b[0;34m\u001b[0m\u001b[0m\n\u001b[1;32m    315\u001b[0m                                        \u001b[0mid_to_col_C\u001b[0m\u001b[0;34m,\u001b[0m\u001b[0;34m\u001b[0m\u001b[0;34m\u001b[0m\u001b[0m\n",
      "\u001b[0;32m~/opt/anaconda3/lib/python3.8/site-packages/cvxpy-1.1.11-py3.8-macosx-10.9-x86_64.egg/cvxpy/cvxcore/python/cvxcore.py\u001b[0m in \u001b[0;36mbuild_matrix\u001b[0;34m(*args)\u001b[0m\n\u001b[1;32m   1001\u001b[0m \u001b[0;34m\u001b[0m\u001b[0m\n\u001b[1;32m   1002\u001b[0m \u001b[0;32mdef\u001b[0m \u001b[0mbuild_matrix\u001b[0m\u001b[0;34m(\u001b[0m\u001b[0;34m*\u001b[0m\u001b[0margs\u001b[0m\u001b[0;34m)\u001b[0m\u001b[0;34m:\u001b[0m\u001b[0;34m\u001b[0m\u001b[0;34m\u001b[0m\u001b[0m\n\u001b[0;32m-> 1003\u001b[0;31m     \u001b[0;32mreturn\u001b[0m \u001b[0m_cvxcore\u001b[0m\u001b[0;34m.\u001b[0m\u001b[0mbuild_matrix\u001b[0m\u001b[0;34m(\u001b[0m\u001b[0;34m*\u001b[0m\u001b[0margs\u001b[0m\u001b[0;34m)\u001b[0m\u001b[0;34m\u001b[0m\u001b[0;34m\u001b[0m\u001b[0m\n\u001b[0m\u001b[1;32m   1004\u001b[0m \u001b[0;34m\u001b[0m\u001b[0m\n\u001b[1;32m   1005\u001b[0m \u001b[0;34m\u001b[0m\u001b[0m\n",
      "\u001b[0;31mKeyboardInterrupt\u001b[0m: "
     ]
    }
   ],
   "source": [
    "fairness_notion = 'DEO' # DDP = Demographic Parity, DEO = Equality of Opportunity. \n",
    "kernel = 'linear' # 'linear', 'rbf'\n",
    "verbose = True # True = SearchFair output, 2 = show also solver progress\n",
    "x_train, x_test, y_train, y_test, s_train, s_test = train_test_split(x_data, y_data, s_data, train_size=1000, shuffle=True)\n",
    "\n",
    "# Regularization Parameter beta\n",
    "reg_beta = 0.0001\n",
    "linear_model_DDP = SearchFair(reg_beta=reg_beta, kernel=kernel, fairness_notion=fairness_notion, verbose=verbose, stop_criterion=0.01)\n",
    "linear_model_DDP.fit(x_train, y_train, s_train=s_train)\n",
    "print_clf_stats(linear_model_DDP, x_train, x_test, y_train, y_test, s_train, s_test)"
   ]
  },
  {
   "cell_type": "code",
   "execution_count": 86,
   "metadata": {},
   "outputs": [
    {
     "name": "stdout",
     "output_type": "stream",
     "text": [
      "Preprocessing...\n",
      "Testing lambda_min: 0.00\n",
      "Obtained: DDP = 0.0000 with lambda = 0.0000\n",
      "Testing lambda_max: 1.00\n",
      "Obtained: DDP = 0.0000 with lambda = 1.0000\n",
      "Classifier is fair enough with lambda = 1.0000\n",
      "----------Found Lambda 1.0000 with fairness 0.0000----------\n",
      "----------Train----------\n",
      "Accuracy: 66.1667%\n",
      "DDP: 0.0000% DEO: 0.0000%\n",
      "----------Test----------\n",
      "Accuracy: 65.9694%\n",
      "DDP: 0.0000% DEO: 0.0000%\n"
     ]
    }
   ],
   "source": [
    "fairness_notion = 'DDP' # DDP = Demographic Parity, DEO = Equality of Opportunity. \n",
    "kernel = 'linear' # 'linear', 'rbf'\n",
    "verbose = True # True = SearchFair output, 2 = show also solver progress\n",
    "x_train, x_test, y_train, y_test, s_train, s_test = train_test_split(x_data, y_data, s_data, train_size=1200, shuffle=True)\n",
    "\n",
    "# Regularization Parameter beta\n",
    "reg_beta = 0.0001\n",
    "linear_model_DDP = SearchFair(reg_beta=reg_beta, kernel=kernel, fairness_notion=fairness_notion, verbose=verbose, stop_criterion=0.01)\n",
    "linear_model_DDP.fit(x_train, y_train, s_train=s_train)\n",
    "print_clf_stats(linear_model_DDP, x_train, x_test, y_train, y_test, s_train, s_test)"
   ]
  },
  {
   "cell_type": "markdown",
   "metadata": {},
   "source": [
    "To print out the Accuracy and the fairness notions Demographic Parity and Equality of Opportuniy, we define the following function. "
   ]
  },
  {
   "cell_type": "code",
   "execution_count": 24,
   "metadata": {},
   "outputs": [],
   "source": [
    "def print_clf_stats(model, x_train, x_test, y_train, y_test, s_train, s_test):\n",
    "    train_acc = ut.get_accuracy(np.sign(model.predict(x_train)), y_train)\n",
    "    test_acc = ut.get_accuracy(np.sign(model.predict(x_test)), y_test)\n",
    "    test_DDP, test_DEO = ut.compute_fairness_measures(model.predict(x_test), y_test, s_test)\n",
    "    train_DDP, train_DEO = ut.compute_fairness_measures(model.predict(x_train), y_train, s_train)\n",
    "\n",
    "    print(10*'-'+\"Train\"+10*'-')\n",
    "    print(\"Accuracy: %0.4f%%\" % (train_acc * 100))\n",
    "    print(\"DDP: %0.4f%%\" % (train_DDP * 100), \"DEO: %0.4f%%\" % (train_DEO * 100))\n",
    "    print(10*'-'+\"Test\"+10*'-')\n",
    "    print(\"Accuracy: %0.4f%%\" % (test_acc * 100))\n",
    "    print(\"DDP: %0.4f%%\" % (test_DDP * 100), \"DEO: %0.4f%%\" % (test_DEO * 100))"
   ]
  },
  {
   "cell_type": "markdown",
   "metadata": {},
   "source": [
    "Now lets see, if we obtained a fair classifier with respect to the fairness notions we specified. "
   ]
  },
  {
   "cell_type": "code",
   "execution_count": 30,
   "metadata": {},
   "outputs": [
    {
     "name": "stdout",
     "output_type": "stream",
     "text": [
      "----------Train----------\n",
      "Accuracy: 64.8333%\n",
      "DDP: -2.1743% DEO: -3.2929%\n",
      "----------Test----------\n",
      "Accuracy: 65.1637%\n",
      "DDP: -0.6283% DEO: -0.7367%\n"
     ]
    }
   ],
   "source": [
    "print_clf_stats(linear_model_DDP, x_train, x_test, y_train, y_test, s_train, s_test)"
   ]
  },
  {
   "cell_type": "code",
   "execution_count": 35,
   "metadata": {},
   "outputs": [
    {
     "name": "stdout",
     "output_type": "stream",
     "text": [
      "----------Train----------\n",
      "Accuracy: 81.8333%\n",
      "DDP: 0.9718% DEO: 4.0670%\n",
      "----------Test----------\n",
      "Accuracy: 81.2735%\n",
      "DDP: -0.8314% DEO: 1.2433%\n"
     ]
    }
   ],
   "source": [
    "print_clf_stats(linear_model_DDP, x_train, x_test, y_train, y_test, s_train, s_test)"
   ]
  },
  {
   "cell_type": "markdown",
   "metadata": {},
   "source": [
    "The train DDP is small, and SearchFair succeeded to find a fair classifier. The test DDP might or might not be close to 0. This is due to the small number of points which are used to reduce running time for this example notebook. Go ahead and try it with more points!"
   ]
  },
  {
   "cell_type": "markdown",
   "metadata": {},
   "source": [
    "### Equality of Opportunity"
   ]
  },
  {
   "cell_type": "markdown",
   "metadata": {},
   "source": [
    "Now we try the same using a more complex rbf kernel, and we try to improve Equality of Opportunity this time. "
   ]
  },
  {
   "cell_type": "code",
   "execution_count": 17,
   "metadata": {},
   "outputs": [
    {
     "name": "stdout",
     "output_type": "stream",
     "text": [
      "Preprocessing...\n",
      "Testing lambda_min: 0.00\n",
      "Obtained: DEO = -0.3353 with lambda = 0.0000\n",
      "Testing lambda_max: 1.00\n",
      "Obtained: DEO = 0.4251 with lambda = 1.0000\n",
      "Starting Binary Search...\n",
      "----------Iteration #0----------\n",
      "Testing new Lambda: 0.5000\n",
      "Obtained: DEO = 0.1704 with lambda = 0.5000\n",
      "----------Iteration #1----------\n",
      "Testing new Lambda: 0.2500\n",
      "Obtained: DEO = 0.0501 with lambda = 0.2500\n",
      "----------Iteration #2----------\n",
      "Testing new Lambda: 0.1250\n",
      "Obtained: DEO = 0.0000 with lambda = 0.1250\n",
      "Sufficient fairness obtained before maximum iterations were reached.\n",
      "----------Found Lambda 0.1250 with fairness 0.0000----------\n",
      "----------Train----------\n",
      "Accuracy: 67.1000%\n",
      "DDP: 0.0000% DEO: 0.0000%\n",
      "----------Test----------\n",
      "Accuracy: 65.8922%\n",
      "DDP: 0.0000% DEO: 0.0000%\n"
     ]
    }
   ],
   "source": [
    "fairness_notion = 'DEO' # DDP = Demographic Parity, DEO = Equality of Opportunity. \n",
    "kernel = 'rbf' # 'linear', 'rbf'\n",
    "verbose = True\n",
    "\n",
    "# Regularization Parameter beta\n",
    "reg_beta = 0.0001\n",
    "rbf_model_DEO = SearchFair(reg_beta=reg_beta, kernel=kernel, fairness_notion=fairness_notion, verbose=verbose)\n",
    "rbf_model_DEO.fit(x_train, y_train, s_train=s_train)\n",
    "\n",
    "# Evaluate model\n",
    "print_clf_stats(rbf_model_DEO, x_train, x_test, y_train, y_test, s_train, s_test)"
   ]
  },
  {
   "cell_type": "code",
   "execution_count": 20,
   "metadata": {},
   "outputs": [
    {
     "name": "stdout",
     "output_type": "stream",
     "text": [
      "Preprocessing...\n",
      "Testing lambda_min: 0.00\n",
      "Obtained: DEO = 0.0000 with lambda = 0.0000\n",
      "Testing lambda_max: 1.00\n",
      "Obtained: DEO = -0.3677 with lambda = 1.0000\n",
      "Classifier is fair enough with lambda = 0.0000\n",
      "----------Found Lambda 0.0000 with fairness 0.0000----------\n",
      "Preprocessing...\n",
      "Testing lambda_min: 0.00\n",
      "Obtained: DEO = 0.0000 with lambda = 0.0000\n",
      "Testing lambda_max: 1.00\n",
      "Obtained: DEO = -0.4641 with lambda = 1.0000\n",
      "Classifier is fair enough with lambda = 0.0000\n",
      "----------Found Lambda 0.0000 with fairness 0.0000----------\n",
      "Preprocessing...\n",
      "Testing lambda_min: 0.00\n",
      "Obtained: DEO = 0.0000 with lambda = 0.0000\n",
      "Testing lambda_max: 1.00\n",
      "Obtained: DEO = -0.3493 with lambda = 1.0000\n",
      "Classifier is fair enough with lambda = 0.0000\n",
      "----------Found Lambda 0.0000 with fairness 0.0000----------\n",
      "Preprocessing...\n",
      "Testing lambda_min: 0.00\n",
      "Obtained: DEO = 0.0000 with lambda = 0.0000\n",
      "Testing lambda_max: 1.00\n",
      "Obtained: DEO = -0.4124 with lambda = 1.0000\n",
      "Classifier is fair enough with lambda = 0.0000\n",
      "----------Found Lambda 0.0000 with fairness 0.0000----------\n",
      "Preprocessing...\n",
      "Testing lambda_min: 0.00\n",
      "Obtained: DEO = 0.0000 with lambda = 0.0000\n",
      "Testing lambda_max: 1.00\n",
      "Obtained: DEO = -0.3915 with lambda = 1.0000\n",
      "Classifier is fair enough with lambda = 0.0000\n",
      "----------Found Lambda 0.0000 with fairness 0.0000----------\n",
      "[0.675, 0.653, 0.641, 0.681, 0.677]\n",
      "0.6654000000000001\n",
      "0.6604422179996545\n",
      "-0.047995012604329555\n",
      "-0.14988227446997154\n",
      "Test DDP -0.033367841518781104\n",
      "Test DEO -0.13539879288921974\n"
     ]
    }
   ],
   "source": [
    "fairness_notion = 'DEO' # DDP = Demographic Parity, DEO = Equality of Opportunity. \n",
    "kernel = 'rbf' # 'linear', 'rbf'\n",
    "verbose = True\n",
    "\n",
    "# Regularization Parameter beta\n",
    "reg_beta = 0.0001\n",
    "\n",
    "# training\n",
    "num_cycles = 5\n",
    "train_size = 1000\n",
    "avg_train_acc = []\n",
    "avg_test_acc = []\n",
    "avg_test_DDP = []\n",
    "avg_train_DDP = []\n",
    "\n",
    "avg_test_DEO = []\n",
    "avg_train_DEO =[]\n",
    "for i in range(num_cycles):\n",
    "    x_train, x_test, y_train, y_test, s_train, s_test = train_test_split(x_data, y_data, s_data, train_size=train_size, shuffle=True)\n",
    "    rbf_model_DEO = SearchFair(reg_beta=reg_beta, kernel=kernel, fairness_notion=fairness_notion, verbose=verbose)\n",
    "    rbf_model_DEO.fit(x_train, y_train, s_train=s_train)\n",
    "    \n",
    "    rbf_model_DEO = linear_model.LogisticRegression()\n",
    "    rbf_model_DEO.fit(x_train,y_train)  \n",
    "\n",
    "    train_acc = ut.get_accuracy(np.sign(rbf_model_DEO.predict(x_train)), y_train)\n",
    "    test_acc = ut.get_accuracy(np.sign(rbf_model_DEO.predict(x_test)), y_test)\n",
    "    test_DDP, test_DEO = ut.compute_fairness_measures(rbf_model_DEO.predict(x_test), y_test, s_test)\n",
    "    train_DDP, train_DEO = ut.compute_fairness_measures(rbf_model_DEO.predict(x_train), y_train, s_train)\n",
    "\n",
    "    avg_train_acc.append(train_acc)\n",
    "    avg_test_acc.append(test_acc)\n",
    "    avg_test_DDP.append(test_DDP)\n",
    "    avg_train_DDP.append(train_DDP)\n",
    "    avg_test_DEO.append(test_DEO)\n",
    "    avg_train_DEO.append(train_DEO)\n",
    "\n",
    "print(avg_train_acc)\n",
    "print(np.mean(avg_train_acc))\n",
    "print(np.mean(avg_test_acc))\n",
    "\n",
    "print(np.mean(avg_train_DDP))\n",
    "print(np.mean(avg_train_DEO))\n",
    "\n",
    "print('Test DDP',np.mean(avg_test_DDP))\n",
    "print('Test DEO',np.mean(avg_test_DEO))"
   ]
  },
  {
   "cell_type": "code",
   "execution_count": 36,
   "metadata": {},
   "outputs": [
    {
     "name": "stdout",
     "output_type": "stream",
     "text": [
      "Preprocessing...\n",
      "Testing lambda_min: 0.00\n",
      "Obtained: DEO = 0.2198 with lambda = 0.0000\n",
      "Testing lambda_max: 1.00\n",
      "Obtained: DEO = -0.8758 with lambda = 1.0000\n",
      "Starting Binary Search...\n",
      "----------Iteration #0----------\n",
      "Testing new Lambda: 0.5000\n",
      "Obtained: DEO = -0.8080 with lambda = 0.5000\n",
      "----------Iteration #1----------\n",
      "Testing new Lambda: 0.2500\n",
      "Obtained: DEO = -0.1350 with lambda = 0.2500\n",
      "----------Iteration #2----------\n",
      "Testing new Lambda: 0.1250\n",
      "Obtained: DEO = 0.1038 with lambda = 0.1250\n",
      "----------Iteration #3----------\n",
      "Testing new Lambda: 0.1875\n",
      "Obtained: DEO = -0.0271 with lambda = 0.1875\n",
      "----------Iteration #4----------\n",
      "Testing new Lambda: 0.1562\n",
      "Obtained: DEO = 0.0544 with lambda = 0.1562\n",
      "----------Iteration #5----------\n",
      "Testing new Lambda: 0.1719\n",
      "Obtained: DEO = 0.0570 with lambda = 0.1719\n",
      "----------Iteration #6----------\n",
      "Testing new Lambda: 0.1797\n",
      "Obtained: DEO = 0.0226 with lambda = 0.1797\n",
      "----------Iteration #7----------\n",
      "Testing new Lambda: 0.1836\n",
      "Obtained: DEO = -0.0061 with lambda = 0.1836\n",
      "Sufficient fairness obtained before maximum iterations were reached.\n",
      "----------Found Lambda 0.1836 with fairness -0.0061----------\n",
      "----------Train----------\n",
      "Accuracy: 86.9167%\n",
      "DDP: 7.7864% DEO: -0.6147%\n",
      "----------Test----------\n",
      "Accuracy: 83.8088%\n",
      "DDP: 7.9545% DEO: 3.6657%\n"
     ]
    }
   ],
   "source": [
    "fairness_notion = 'DEO' # DDP = Demographic Parity, DEO = Equality of Opportunity. \n",
    "kernel = 'rbf' # 'linear', 'rbf'\n",
    "verbose = True\n",
    "\n",
    "# Regularization Parameter beta\n",
    "reg_beta = 0.0001\n",
    "rbf_model_DEO = SearchFair(reg_beta=reg_beta, kernel=kernel, fairness_notion=fairness_notion, verbose=verbose)\n",
    "rbf_model_DEO.fit(x_train, y_train, s_train=s_train)\n",
    "\n",
    "# Evaluate model\n",
    "print_clf_stats(rbf_model_DEO, x_train, x_test, y_train, y_test, s_train, s_test)"
   ]
  },
  {
   "cell_type": "markdown",
   "metadata": {},
   "source": [
    "### Cross Validation - GridSearch"
   ]
  },
  {
   "cell_type": "markdown",
   "metadata": {},
   "source": [
    "It is also possible to use GridSearchCV for the regularization paramter beta, and, if used, the width of the rbf kernel. But running this might take some time."
   ]
  },
  {
   "cell_type": "code",
   "execution_count": 32,
   "metadata": {},
   "outputs": [
    {
     "name": "stdout",
     "output_type": "stream",
     "text": [
      "Fitting 3 folds for each of 9 candidates, totalling 27 fits\n"
     ]
    },
    {
     "name": "stderr",
     "output_type": "stream",
     "text": [
      "[Parallel(n_jobs=1)]: Using backend SequentialBackend with 1 concurrent workers.\n"
     ]
    },
    {
     "name": "stdout",
     "output_type": "stream",
     "text": [
      "Classifier is fair enough with lambda = 0.0000\n",
      "Classifier is fair enough with lambda = 0.0000\n",
      "Classifier is fair enough with lambda = 0.0000\n",
      "Classifier is fair enough with lambda = 0.0000\n",
      "Classifier is fair enough with lambda = 0.0000\n",
      "Classifier is fair enough with lambda = 1.0000\n",
      "Classifier is fair enough with lambda = 1.0000\n",
      "Classifier is fair enough with lambda = 1.0000\n",
      "Classifier is fair enough with lambda = 1.0000\n",
      "Classifier is fair enough with lambda = 0.0000\n",
      "Classifier is fair enough with lambda = 0.0000\n",
      "Classifier is fair enough with lambda = 0.0000\n",
      "Classifier is fair enough with lambda = 0.0000\n",
      "Classifier is fair enough with lambda = 0.0000\n",
      "Classifier is fair enough with lambda = 0.0000\n",
      "Classifier is fair enough with lambda = 0.0000\n",
      "Classifier is fair enough with lambda = 1.0000\n",
      "Classifier is fair enough with lambda = 1.0000\n",
      "Classifier is fair enough with lambda = 0.0000\n",
      "Classifier is fair enough with lambda = 0.0000\n",
      "Classifier is fair enough with lambda = 0.0000\n",
      "Classifier is fair enough with lambda = 0.0000\n",
      "Classifier is fair enough with lambda = 0.0000\n",
      "Classifier is fair enough with lambda = 0.0000\n"
     ]
    },
    {
     "name": "stderr",
     "output_type": "stream",
     "text": [
      "[Parallel(n_jobs=1)]: Done  27 out of  27 | elapsed: 29.1min finished\n"
     ]
    },
    {
     "name": "stdout",
     "output_type": "stream",
     "text": [
      "Classifier is fair enough with lambda = 0.0000\n"
     ]
    },
    {
     "data": {
      "text/plain": [
       "GridSearchCV(cv=3, estimator=SearchFair(kernel='rbf'), n_jobs=1,\n",
       "             param_grid={'gamma': [0.01, 0.017857142857142856, 0.1],\n",
       "                         'reg_beta': [0.0001, 0.001, 0.01]},\n",
       "             scoring='accuracy', verbose=1)"
      ]
     },
     "execution_count": 32,
     "metadata": {},
     "output_type": "execute_result"
    }
   ],
   "source": [
    "fairness_notion = 'DDP' # DDP = Demographic Parity, DEO = Equality of Opportunity. \n",
    "kernel = 'rbf' # 'linear', 'rbf'\n",
    "verbose = False\n",
    "\n",
    "cv_model = SearchFair(kernel=kernel, fairness_notion=fairness_notion, verbose=verbose)\n",
    "\n",
    "# regularization parameter beta\n",
    "beta_params = [0.0001, 0.001, 0.01]\n",
    "cv_params = {'reg_beta': beta_params}\n",
    "\n",
    "if kernel == 'rbf':\n",
    "    n_features = x_data.shape[1]\n",
    "    default_width = 1/n_features\n",
    "    order_of_magn = np.floor(np.log10(default_width))\n",
    "    kernel_widths = [10**(order_of_magn), default_width, 10**(order_of_magn+1)]\n",
    "    cv_params['gamma'] = kernel_widths\n",
    "\n",
    "grid_clf = GridSearchCV(cv_model,cv_params, cv=3, verbose=1, n_jobs=1, scoring='accuracy', refit=True)\n",
    "grid_clf.fit(x_train, y_train, s_train=s_train)"
   ]
  },
  {
   "cell_type": "code",
   "execution_count": 33,
   "metadata": {},
   "outputs": [
    {
     "name": "stdout",
     "output_type": "stream",
     "text": [
      "----------Train----------\n",
      "Accuracy: 64.0833%\n",
      "DDP: 0.0000% DEO: 0.0000%\n",
      "----------Test----------\n",
      "Accuracy: 65.0630%\n",
      "DDP: 0.0000% DEO: 0.0000%\n"
     ]
    }
   ],
   "source": [
    "# Evaluate model\n",
    "print_clf_stats(grid_clf, x_train, x_test, y_train, y_test, s_train, s_test)"
   ]
  },
  {
   "cell_type": "markdown",
   "metadata": {},
   "source": [
    "## Adult dataset\n",
    "\n",
    "In the fairness literature, the adult dataset is a very popular dataset. It contains US census data from 1994, where the class label indicates if the income is higher or lower than 50.000$. The binary sensitive attribute here, is the sex."
   ]
  },
  {
   "cell_type": "code",
   "execution_count": 43,
   "metadata": {},
   "outputs": [
    {
     "name": "stdout",
     "output_type": "stream",
     "text": [
      "Total data points: 48842\n",
      "# non-protected examples: 32650\n",
      "# protected examples: 16192\n",
      "# non-protected examples in positive class: 9918 (30.4%)\n",
      "# protected examples in positive class: 1769 (10.9%)\n"
     ]
    }
   ],
   "source": [
    "# Load Data\n",
    "x_data, y_data, s_data = get_data.get_adult_data(load_data_size=None)\n",
    "# Train Test split. Here, we choose a small number to reduce running time.\n",
    "train_size = 1200\n",
    "x_train, x_test, y_train, y_test, s_train, s_test = train_test_split(x_data, y_data, s_data, train_size=train_size, shuffle=True)\n",
    "ut.print_data_stats(s_data, y_data)"
   ]
  },
  {
   "cell_type": "code",
   "execution_count": 28,
   "metadata": {},
   "outputs": [
    {
     "data": {
      "text/plain": [
       "(1200, 18)"
      ]
     },
     "execution_count": 28,
     "metadata": {},
     "output_type": "execute_result"
    }
   ],
   "source": [
    "x_train.shape"
   ]
  },
  {
   "cell_type": "code",
   "execution_count": 26,
   "metadata": {},
   "outputs": [
    {
     "name": "stdout",
     "output_type": "stream",
     "text": [
      "Preprocessing...\n",
      "Testing lambda_min: 0.00\n",
      "Obtained: DDP = 0.1942 with lambda = 0.0000\n",
      "Testing lambda_max: 1.00\n",
      "Obtained: DDP = -0.3091 with lambda = 1.0000\n",
      "Starting Binary Search...\n",
      "----------Iteration #0----------\n",
      "Testing new Lambda: 0.5000\n",
      "Obtained: DDP = 0.0000 with lambda = 0.5000\n",
      "Sufficient fairness obtained before maximum iterations were reached.\n",
      "----------Found Lambda 0.5000 with fairness 0.0000----------\n",
      "----------Train----------\n",
      "Accuracy: 76.3333%\n",
      "DDP: 0.0000% DEO: 0.0000%\n",
      "----------Test----------\n",
      "Accuracy: 76.0652%\n",
      "DDP: 0.0000% DEO: 0.0000%\n"
     ]
    }
   ],
   "source": [
    "fairness_notion = 'DDP' # DDP = Demographic Parity, DEO = Equality of Opportunity. \n",
    "kernel = 'linear' # 'linear', 'rbf'\n",
    "verbose = True # True = SearchFair output, 2 = show also solver progress\n",
    "# x_train, x_test, y_train, y_test, s_train, s_test = train_test_split(x_data, y_data, s_data, train_size=1000, shuffle=True)\n",
    "\n",
    "# Regularization Parameter beta\n",
    "reg_beta = 0.0001\n",
    "linear_model_DDP = SearchFair(reg_beta=reg_beta, kernel=kernel, fairness_notion=fairness_notion, verbose=verbose, stop_criterion=0.01)\n",
    "linear_model_DDP.fit(x_train, y_train, s_train=s_train)\n",
    "print_clf_stats(linear_model_DDP, x_train, x_test, y_train, y_test, s_train, s_test)"
   ]
  },
  {
   "cell_type": "code",
   "execution_count": 29,
   "metadata": {},
   "outputs": [
    {
     "name": "stdout",
     "output_type": "stream",
     "text": [
      "Preprocessing...\n",
      "Testing lambda_min: 0.00\n",
      "Obtained: DEO = 0.2066 with lambda = 0.0000\n",
      "Testing lambda_max: 1.00\n",
      "Obtained: DEO = -0.2368 with lambda = 1.0000\n",
      "Starting Binary Search...\n",
      "----------Iteration #0----------\n",
      "Testing new Lambda: 0.5000\n",
      "Obtained: DEO = 0.0000 with lambda = 0.5000\n",
      "Sufficient fairness obtained before maximum iterations were reached.\n",
      "----------Found Lambda 0.5000 with fairness 0.0000----------\n",
      "----------Train----------\n",
      "Accuracy: 76.3333%\n",
      "DDP: 0.0000% DEO: 0.0000%\n",
      "----------Test----------\n",
      "Accuracy: 76.0652%\n",
      "DDP: 0.0000% DEO: 0.0000%\n"
     ]
    }
   ],
   "source": [
    "fairness_notion = 'DEO' # DDP = Demographic Parity, DEO = Equality of Opportunity. \n",
    "kernel = 'linear' # 'linear', 'rbf'\n",
    "verbose = True # True = SearchFair output, 2 = show also solver progress\n",
    "# x_train, x_test, y_train, y_test, s_train, s_test = train_test_split(x_data, y_data, s_data, train_size=1000, shuffle=True)\n",
    "\n",
    "# Regularization Parameter beta\n",
    "reg_beta = 0.0001\n",
    "linear_model_DDP = SearchFair(reg_beta=reg_beta, kernel=kernel, fairness_notion=fairness_notion, verbose=verbose, stop_criterion=0.01)\n",
    "linear_model_DDP.fit(x_train, y_train, s_train=s_train)\n",
    "print_clf_stats(linear_model_DDP, x_train, x_test, y_train, y_test, s_train, s_test)"
   ]
  },
  {
   "cell_type": "code",
   "execution_count": 36,
   "metadata": {},
   "outputs": [
    {
     "name": "stdout",
     "output_type": "stream",
     "text": [
      "Preprocessing...\n",
      "Testing lambda_min: 0.00\n",
      "Obtained: DEO = 0.2198 with lambda = 0.0000\n",
      "Testing lambda_max: 1.00\n",
      "Obtained: DEO = -0.8758 with lambda = 1.0000\n",
      "Starting Binary Search...\n",
      "----------Iteration #0----------\n",
      "Testing new Lambda: 0.5000\n",
      "Obtained: DEO = -0.8080 with lambda = 0.5000\n",
      "----------Iteration #1----------\n",
      "Testing new Lambda: 0.2500\n",
      "Obtained: DEO = -0.1350 with lambda = 0.2500\n",
      "----------Iteration #2----------\n",
      "Testing new Lambda: 0.1250\n",
      "Obtained: DEO = 0.1038 with lambda = 0.1250\n",
      "----------Iteration #3----------\n",
      "Testing new Lambda: 0.1875\n",
      "Obtained: DEO = -0.0271 with lambda = 0.1875\n",
      "----------Iteration #4----------\n",
      "Testing new Lambda: 0.1562\n",
      "Obtained: DEO = 0.0544 with lambda = 0.1562\n",
      "----------Iteration #5----------\n",
      "Testing new Lambda: 0.1719\n",
      "Obtained: DEO = 0.0570 with lambda = 0.1719\n",
      "----------Iteration #6----------\n",
      "Testing new Lambda: 0.1797\n",
      "Obtained: DEO = 0.0226 with lambda = 0.1797\n",
      "----------Iteration #7----------\n",
      "Testing new Lambda: 0.1836\n",
      "Obtained: DEO = -0.0061 with lambda = 0.1836\n",
      "Sufficient fairness obtained before maximum iterations were reached.\n",
      "----------Found Lambda 0.1836 with fairness -0.0061----------\n",
      "----------Train----------\n",
      "Accuracy: 86.9167%\n",
      "DDP: 7.7864% DEO: -0.6147%\n",
      "----------Test----------\n",
      "Accuracy: 83.8088%\n",
      "DDP: 7.9545% DEO: 3.6657%\n"
     ]
    }
   ],
   "source": [
    "fairness_notion = 'DEO' # DDP = Demographic Parity, DEO = Equality of Opportunity. \n",
    "kernel = 'linear' # 'linear', 'rbf'\n",
    "verbose = True\n",
    "\n",
    "# Regularization Parameter beta\n",
    "reg_beta = 0.0001\n",
    "rbf_model_DEO = SearchFair(reg_beta=reg_beta, kernel=kernel, fairness_notion=fairness_notion, verbose=verbose)\n",
    "rbf_model_DEO.fit(x_train, y_train, s_train=s_train)\n",
    "\n",
    "# Evaluate model\n",
    "print_clf_stats(rbf_model_DEO, x_train, x_test, y_train, y_test, s_train, s_test)"
   ]
  },
  {
   "cell_type": "markdown",
   "metadata": {},
   "source": [
    "If you want, you can also try SearchFair on Adult. "
   ]
  },
  {
   "cell_type": "code",
   "execution_count": 44,
   "metadata": {},
   "outputs": [
    {
     "name": "stdout",
     "output_type": "stream",
     "text": [
      "[0.8098, 0.8156, 0.8172, 0.8202, 0.8186]\n",
      "0.8162800000000001\n",
      "0.816244696866019\n",
      "0.21487555259867044\n",
      "0.23108983327062366\n",
      "Test DDP 0.22145476371909364\n",
      "Test DEO 0.2498488871815907\n"
     ]
    }
   ],
   "source": [
    "num_cycles = 5\n",
    "train_size = 5000\n",
    "avg_train_acc = []\n",
    "avg_test_acc = []\n",
    "avg_test_DDP = []\n",
    "avg_train_DDP = []\n",
    "\n",
    "avg_test_DEO = []\n",
    "avg_train_DEO =[]\n",
    "for i in range(num_cycles):\n",
    "    x_train, x_test, y_train, y_test, s_train, s_test = train_test_split(x_data, y_data, s_data, train_size=train_size, shuffle=True)\n",
    "    model = linear_model.LogisticRegression()\n",
    "    model.fit(x_train,y_train)  \n",
    "\n",
    "    train_acc = ut.get_accuracy(np.sign(model.predict(x_train)), y_train)\n",
    "    test_acc = ut.get_accuracy(np.sign(model.predict(x_test)), y_test)\n",
    "    test_DDP, test_DEO = ut.compute_fairness_measures(model.predict(x_test), y_test, s_test)\n",
    "    train_DDP, train_DEO = ut.compute_fairness_measures(model.predict(x_train), y_train, s_train)\n",
    "\n",
    "    avg_train_acc.append(train_acc)\n",
    "    avg_test_acc.append(test_acc)\n",
    "    avg_test_DDP.append(test_DDP)\n",
    "    avg_train_DDP.append(train_DDP)\n",
    "    avg_test_DEO.append(test_DEO)\n",
    "    avg_train_DEO.append(train_DEO)\n",
    "\n",
    "print(avg_train_acc)\n",
    "print(np.mean(avg_train_acc))\n",
    "print(np.mean(avg_test_acc))\n",
    "\n",
    "print(np.mean(avg_train_DDP))\n",
    "print(np.mean(avg_train_DEO))\n",
    "\n",
    "print('Test DDP',np.mean(avg_test_DDP))\n",
    "print('Test DEO',np.mean(avg_test_DEO))\n"
   ]
  },
  {
   "cell_type": "code",
   "execution_count": null,
   "metadata": {},
   "outputs": [],
   "source": [
    "fairness_notion = 'DEO' # DDP = Demographic Parity, DEO = Equality of Opportunity. \n",
    "kernel = 'rbf' # 'linear', 'rbf'\n",
    "verbose = True\n",
    "\n",
    "# Regularization Parameter beta\n",
    "reg_beta = 0.0001\n",
    "\n",
    "# training\n",
    "num_cycles = 5\n",
    "train_size = 1000\n",
    "avg_train_acc = []\n",
    "avg_test_acc = []\n",
    "avg_test_DDP = []\n",
    "avg_train_DDP = []\n",
    "\n",
    "avg_test_DEO = []\n",
    "avg_train_DEO =[]\n",
    "for i in range(num_cycles):\n",
    "    x_train, x_test, y_train, y_test, s_train, s_test = train_test_split(x_data, y_data, s_data, train_size=train_size, shuffle=True)\n",
    "    rbf_model_DEO = SearchFair(reg_beta=reg_beta, kernel=kernel, fairness_notion=fairness_notion, verbose=verbose)\n",
    "    rbf_model_DEO.fit(x_train, y_train, s_train=s_train)\n",
    "    \n",
    "    rbf_model_DEO = linear_model.LogisticRegression()\n",
    "    rbf_model_DEO.fit(x_train,y_train)  \n",
    "\n",
    "    train_acc = ut.get_accuracy(np.sign(rbf_model_DEO.predict(x_train)), y_train)\n",
    "    test_acc = ut.get_accuracy(np.sign(rbf_model_DEO.predict(x_test)), y_test)\n",
    "    test_DDP, test_DEO = ut.compute_fairness_measures(rbf_model_DEO.predict(x_test), y_test, s_test)\n",
    "    train_DDP, train_DEO = ut.compute_fairness_measures(rbf_model_DEO.predict(x_train), y_train, s_train)\n",
    "\n",
    "    avg_train_acc.append(train_acc)\n",
    "    avg_test_acc.append(test_acc)\n",
    "    avg_test_DDP.append(test_DDP)\n",
    "    avg_train_DDP.append(train_DDP)\n",
    "    avg_test_DEO.append(test_DEO)\n",
    "    avg_train_DEO.append(train_DEO)\n",
    "\n",
    "print(avg_train_acc)\n",
    "print(np.mean(avg_train_acc))\n",
    "print(np.mean(avg_test_acc))\n",
    "\n",
    "print(np.mean(avg_train_DDP))\n",
    "print(np.mean(avg_train_DEO))\n",
    "\n",
    "print('Test DDP',np.mean(avg_test_DDP))\n",
    "print('Test DEO',np.mean(avg_test_DEO))"
   ]
  },
  {
   "cell_type": "code",
   "execution_count": 23,
   "metadata": {},
   "outputs": [
    {
     "name": "stdout",
     "output_type": "stream",
     "text": [
      "Fitting 3 folds for each of 9 candidates, totalling 27 fits\n"
     ]
    },
    {
     "name": "stderr",
     "output_type": "stream",
     "text": [
      "[Parallel(n_jobs=1)]: Using backend SequentialBackend with 1 concurrent workers.\n"
     ]
    },
    {
     "name": "stdout",
     "output_type": "stream",
     "text": [
      "Classifier is fair enough with lambda = 1.0000\n",
      "Classifier is fair enough with lambda = 1.0000\n",
      "Classifier is fair enough with lambda = 1.0000\n",
      "Classifier is fair enough with lambda = 1.0000\n",
      "Classifier is fair enough with lambda = 1.0000\n"
     ]
    },
    {
     "name": "stderr",
     "output_type": "stream",
     "text": [
      "[Parallel(n_jobs=1)]: Done  27 out of  27 | elapsed: 74.1min finished\n"
     ]
    },
    {
     "data": {
      "text/plain": [
       "GridSearchCV(cv=3, estimator=SearchFair(kernel='rbf'), n_jobs=1,\n",
       "             param_grid={'gamma': [0.01, 0.05555555555555555, 0.1],\n",
       "                         'reg_beta': [0.0001, 0.001, 0.01]},\n",
       "             scoring='accuracy', verbose=1)"
      ]
     },
     "execution_count": 23,
     "metadata": {},
     "output_type": "execute_result"
    }
   ],
   "source": [
    "fairness_notion = 'DDP' # DDP = Demographic Parity, DEO = Equality of Opportunity. \n",
    "kernel = 'rbf' # 'linear', 'rbf'\n",
    "verbose = False\n",
    "\n",
    "cv_model_adult = SearchFair(kernel=kernel, fairness_notion=fairness_notion, verbose=verbose)\n",
    "\n",
    "# regularization parameter beta\n",
    "beta_params = [0.0001, 0.001, 0.01]\n",
    "cv_params = {'reg_beta': beta_params}\n",
    "\n",
    "if kernel == 'rbf':\n",
    "    n_features = x_data.shape[1]\n",
    "    default_width = 1/n_features\n",
    "    order_of_magn = np.floor(np.log10(default_width))\n",
    "    kernel_widths = [10**(order_of_magn), default_width, 10**(order_of_magn+1)]\n",
    "    cv_params['gamma'] = kernel_widths\n",
    "\n",
    "grid_clf = GridSearchCV(cv_model_adult,cv_params, cv=3, verbose=1, n_jobs=1, scoring='accuracy')\n",
    "grid_clf.fit(x_train, y_train, s_train=s_train)"
   ]
  },
  {
   "cell_type": "code",
   "execution_count": 24,
   "metadata": {},
   "outputs": [
    {
     "name": "stdout",
     "output_type": "stream",
     "text": [
      "----------Train----------\n",
      "Accuracy: 77.9167%\n",
      "DDP: 0.0000% DEO: 0.0000%\n",
      "----------Test----------\n",
      "Accuracy: 76.0254%\n",
      "DDP: 0.0000% DEO: 0.0000%\n"
     ]
    }
   ],
   "source": [
    "# Evaluate model\n",
    "print_clf_stats(grid_clf, x_train, x_test, y_train, y_test, s_train, s_test)"
   ]
  }
 ],
 "metadata": {
  "kernelspec": {
   "display_name": "Python 3",
   "language": "python",
   "name": "python3"
  },
  "language_info": {
   "codemirror_mode": {
    "name": "ipython",
    "version": 3
   },
   "file_extension": ".py",
   "mimetype": "text/x-python",
   "name": "python",
   "nbconvert_exporter": "python",
   "pygments_lexer": "ipython3",
   "version": "3.8.3"
  }
 },
 "nbformat": 4,
 "nbformat_minor": 4
}
