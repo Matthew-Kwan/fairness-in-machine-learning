{
  "nbformat": 4,
  "nbformat_minor": 0,
  "metadata": {
    "colab": {
      "name": "RecidivsimProxyLagrangian.ipynb",
      "provenance": [],
      "collapsed_sections": []
    },
    "kernelspec": {
      "display_name": "Python 3",
      "name": "python3"
    },
    "language_info": {
      "name": "python"
    }
  },
  "cells": [
    {
      "cell_type": "code",
      "metadata": {
        "colab": {
          "base_uri": "https://localhost:8080/"
        },
        "id": "9WGpDaQWUMe5",
        "outputId": "f68c58b8-3d81-42c0-c7a5-e0e7551c062d"
      },
      "source": [
        "from google.colab import drive\n",
        "drive.mount('/content/drive')"
      ],
      "execution_count": null,
      "outputs": [
        {
          "output_type": "stream",
          "text": [
            "Mounted at /content/drive\n"
          ],
          "name": "stdout"
        }
      ]
    },
    {
      "cell_type": "code",
      "metadata": {
        "id": "mvGUdVmTUZZK"
      },
      "source": [
        "! cp -r drive/MyDrive/tensorflow_constrained_optimization/tensorflow_constrained_optimization/tensorflow_constrained_optimization ."
      ],
      "execution_count": null,
      "outputs": []
    },
    {
      "cell_type": "code",
      "metadata": {
        "id": "T2gIbicYUaK5"
      },
      "source": [
        "! cp drive/MyDrive/new_Recidivism.csv ."
      ],
      "execution_count": null,
      "outputs": []
    },
    {
      "cell_type": "code",
      "metadata": {
        "id": "BSvzICFsUpaa"
      },
      "source": [
        "import math\n",
        "import random\n",
        "import numpy as np\n",
        "import pandas as pd\n",
        "import warnings\n",
        "from six.moves import xrange\n",
        "from platform import python_version"
      ],
      "execution_count": null,
      "outputs": []
    },
    {
      "cell_type": "code",
      "metadata": {
        "id": "fFLpNZVcUuHo"
      },
      "source": [
        "import tensorflow.compat.v1 as tf\n",
        "import tensorflow_constrained_optimization as tfco\n",
        "import matplotlib.pyplot as plt\n",
        "\n",
        "tf.disable_eager_execution()\n",
        "\n",
        "warnings.filterwarnings('ignore')\n",
        "%matplotlib inline"
      ],
      "execution_count": null,
      "outputs": []
    },
    {
      "cell_type": "code",
      "metadata": {
        "id": "GWqV4YvnUxwe"
      },
      "source": [
        "from sklearn.model_selection import train_test_split"
      ],
      "execution_count": null,
      "outputs": []
    },
    {
      "cell_type": "code",
      "metadata": {
        "id": "CV7qMz9IVmS-"
      },
      "source": [
        "df = pd.read_csv('new_Recidivism.csv')"
      ],
      "execution_count": null,
      "outputs": []
    },
    {
      "cell_type": "code",
      "metadata": {
        "id": "xxL3mdd-VvOo"
      },
      "source": [
        "s_data = df.Race.values"
      ],
      "execution_count": null,
      "outputs": []
    },
    {
      "cell_type": "code",
      "metadata": {
        "colab": {
          "base_uri": "https://localhost:8080/"
        },
        "id": "uR3ZxF3TVxhh",
        "outputId": "e2a3d6bb-7afc-4b20-b5b0-6bfe0ee14b7a"
      },
      "source": [
        "s_data.shape"
      ],
      "execution_count": null,
      "outputs": [
        {
          "output_type": "execute_result",
          "data": {
            "text/plain": [
              "(12578,)"
            ]
          },
          "metadata": {
            "tags": []
          },
          "execution_count": 11
        }
      ]
    },
    {
      "cell_type": "code",
      "metadata": {
        "colab": {
          "base_uri": "https://localhost:8080/"
        },
        "id": "wWFkybUccekh",
        "outputId": "58637a2e-005b-4a51-a2e7-d0ce8543d1d2"
      },
      "source": [
        "s_data"
      ],
      "execution_count": null,
      "outputs": [
        {
          "output_type": "execute_result",
          "data": {
            "text/plain": [
              "array([-1, -1, -1, ...,  1,  1,  1])"
            ]
          },
          "metadata": {
            "tags": []
          },
          "execution_count": 12
        }
      ]
    },
    {
      "cell_type": "code",
      "metadata": {
        "id": "wM5xZK5dV0Nn"
      },
      "source": [
        "y_data = df.Recidivism.values"
      ],
      "execution_count": null,
      "outputs": []
    },
    {
      "cell_type": "code",
      "metadata": {
        "id": "1mS4yFusV2NH"
      },
      "source": [
        "#x_data_df = df.drop(['Race'], axis=1)"
      ],
      "execution_count": null,
      "outputs": []
    },
    {
      "cell_type": "code",
      "metadata": {
        "id": "ynsdnroOV4ZE"
      },
      "source": [
        ""
      ],
      "execution_count": null,
      "outputs": []
    },
    {
      "cell_type": "code",
      "metadata": {
        "id": "ypswbodWWofi"
      },
      "source": [
        ""
      ],
      "execution_count": null,
      "outputs": []
    },
    {
      "cell_type": "code",
      "metadata": {
        "id": "S6PnNsOyd6-T"
      },
      "source": [
        "x_df_labelled = df.rename(columns={'Recidivism': 'label'})"
      ],
      "execution_count": null,
      "outputs": []
    },
    {
      "cell_type": "code",
      "metadata": {
        "id": "glBGHlJl0sdh"
      },
      "source": [
        "x_df_labelled = x_df_labelled[list(x_df_labelled.keys())[1:]]"
      ],
      "execution_count": null,
      "outputs": []
    },
    {
      "cell_type": "code",
      "metadata": {
        "colab": {
          "base_uri": "https://localhost:8080/",
          "height": 513
        },
        "id": "LzZxpp0qV92c",
        "outputId": "06128627-1d7d-437f-de9f-0c235789f080"
      },
      "source": [
        "x_df_labelled"
      ],
      "execution_count": null,
      "outputs": [
        {
          "output_type": "execute_result",
          "data": {
            "text/html": [
              "<div>\n",
              "<style scoped>\n",
              "    .dataframe tbody tr th:only-of-type {\n",
              "        vertical-align: middle;\n",
              "    }\n",
              "\n",
              "    .dataframe tbody tr th {\n",
              "        vertical-align: top;\n",
              "    }\n",
              "\n",
              "    .dataframe thead th {\n",
              "        text-align: right;\n",
              "    }\n",
              "</style>\n",
              "<table border=\"1\" class=\"dataframe\">\n",
              "  <thead>\n",
              "    <tr style=\"text-align: right;\">\n",
              "      <th></th>\n",
              "      <th>Release Type_Discharged - Expiration of Sentence</th>\n",
              "      <th>Release Type_Discharged – End of Sentence</th>\n",
              "      <th>Release Type_Parole</th>\n",
              "      <th>Release Type_Parole Granted</th>\n",
              "      <th>Release Type_Paroled to Detainer - INS</th>\n",
              "      <th>Release Type_Paroled to Detainer - Iowa</th>\n",
              "      <th>Release Type_Paroled to Detainer - Out of State</th>\n",
              "      <th>Release Type_Paroled to Detainer - U.S. Marshall</th>\n",
              "      <th>Release Type_Paroled w/Immediate Discharge</th>\n",
              "      <th>Release Type_Released to Special Sentence</th>\n",
              "      <th>Release Type_Special Sentence</th>\n",
              "      <th>Offense Classification_A Felony</th>\n",
              "      <th>Offense Classification_Aggravated Misdemeanor</th>\n",
              "      <th>Offense Classification_B Felony</th>\n",
              "      <th>Offense Classification_C Felony</th>\n",
              "      <th>Offense Classification_D Felony</th>\n",
              "      <th>Offense Classification_Felony - Enhanced</th>\n",
              "      <th>Offense Classification_Felony - Enhancement to Original Penalty</th>\n",
              "      <th>Offense Classification_Felony - Mandatory Minimum</th>\n",
              "      <th>Offense Classification_Other Felony</th>\n",
              "      <th>Offense Classification_Other Felony (Old Code)</th>\n",
              "      <th>Offense Classification_Serious Misdemeanor</th>\n",
              "      <th>Offense Classification_Sexual Predator Community Supervision</th>\n",
              "      <th>Offense Classification_Simple Misdemeanor</th>\n",
              "      <th>Offense Classification_Special Sentence 2005</th>\n",
              "      <th>Offense Type_Drug</th>\n",
              "      <th>Offense Type_Other</th>\n",
              "      <th>Offense Type_Property</th>\n",
              "      <th>Offense Type_Public Order</th>\n",
              "      <th>Offense Type_Violent</th>\n",
              "      <th>Offense Subtype_Alcohol</th>\n",
              "      <th>Offense Subtype_Animals</th>\n",
              "      <th>Offense Subtype_Arson</th>\n",
              "      <th>Offense Subtype_Assault</th>\n",
              "      <th>Offense Subtype_Burglary</th>\n",
              "      <th>Offense Subtype_Drug Possession</th>\n",
              "      <th>Offense Subtype_Flight/Escape</th>\n",
              "      <th>Offense Subtype_Forgery/Fraud</th>\n",
              "      <th>Offense Subtype_Kidnap</th>\n",
              "      <th>Offense Subtype_Murder/Manslaughter</th>\n",
              "      <th>Offense Subtype_OWI</th>\n",
              "      <th>Offense Subtype_Other Criminal</th>\n",
              "      <th>Offense Subtype_Other Drug</th>\n",
              "      <th>Offense Subtype_Other Public Order</th>\n",
              "      <th>Offense Subtype_Other Violent</th>\n",
              "      <th>Offense Subtype_Prostitution/Pimping</th>\n",
              "      <th>Offense Subtype_Robbery</th>\n",
              "      <th>Offense Subtype_Sex</th>\n",
              "      <th>Offense Subtype_Sex Offender Registry/Residency</th>\n",
              "      <th>Offense Subtype_Special Sentence Revocation</th>\n",
              "      <th>Offense Subtype_Stolen Property</th>\n",
              "      <th>Offense Subtype_Theft</th>\n",
              "      <th>Offense Subtype_Traffic</th>\n",
              "      <th>Offense Subtype_Trafficking</th>\n",
              "      <th>Offense Subtype_Vandalism</th>\n",
              "      <th>Offense Subtype_Weapons</th>\n",
              "      <th>Race</th>\n",
              "      <th>label</th>\n",
              "    </tr>\n",
              "  </thead>\n",
              "  <tbody>\n",
              "    <tr>\n",
              "      <th>0</th>\n",
              "      <td>0</td>\n",
              "      <td>0</td>\n",
              "      <td>1</td>\n",
              "      <td>0</td>\n",
              "      <td>0</td>\n",
              "      <td>0</td>\n",
              "      <td>0</td>\n",
              "      <td>0</td>\n",
              "      <td>0</td>\n",
              "      <td>0</td>\n",
              "      <td>0</td>\n",
              "      <td>0</td>\n",
              "      <td>0</td>\n",
              "      <td>0</td>\n",
              "      <td>1</td>\n",
              "      <td>0</td>\n",
              "      <td>0</td>\n",
              "      <td>0</td>\n",
              "      <td>0</td>\n",
              "      <td>0</td>\n",
              "      <td>0</td>\n",
              "      <td>0</td>\n",
              "      <td>0</td>\n",
              "      <td>0</td>\n",
              "      <td>0</td>\n",
              "      <td>0</td>\n",
              "      <td>0</td>\n",
              "      <td>0</td>\n",
              "      <td>0</td>\n",
              "      <td>1</td>\n",
              "      <td>0</td>\n",
              "      <td>0</td>\n",
              "      <td>0</td>\n",
              "      <td>0</td>\n",
              "      <td>0</td>\n",
              "      <td>0</td>\n",
              "      <td>0</td>\n",
              "      <td>0</td>\n",
              "      <td>0</td>\n",
              "      <td>0</td>\n",
              "      <td>0</td>\n",
              "      <td>0</td>\n",
              "      <td>0</td>\n",
              "      <td>0</td>\n",
              "      <td>0</td>\n",
              "      <td>0</td>\n",
              "      <td>1</td>\n",
              "      <td>0</td>\n",
              "      <td>0</td>\n",
              "      <td>0</td>\n",
              "      <td>0</td>\n",
              "      <td>0</td>\n",
              "      <td>0</td>\n",
              "      <td>0</td>\n",
              "      <td>0</td>\n",
              "      <td>0</td>\n",
              "      <td>-1</td>\n",
              "      <td>1</td>\n",
              "    </tr>\n",
              "    <tr>\n",
              "      <th>1</th>\n",
              "      <td>0</td>\n",
              "      <td>1</td>\n",
              "      <td>0</td>\n",
              "      <td>0</td>\n",
              "      <td>0</td>\n",
              "      <td>0</td>\n",
              "      <td>0</td>\n",
              "      <td>0</td>\n",
              "      <td>0</td>\n",
              "      <td>0</td>\n",
              "      <td>0</td>\n",
              "      <td>0</td>\n",
              "      <td>0</td>\n",
              "      <td>0</td>\n",
              "      <td>0</td>\n",
              "      <td>1</td>\n",
              "      <td>0</td>\n",
              "      <td>0</td>\n",
              "      <td>0</td>\n",
              "      <td>0</td>\n",
              "      <td>0</td>\n",
              "      <td>0</td>\n",
              "      <td>0</td>\n",
              "      <td>0</td>\n",
              "      <td>0</td>\n",
              "      <td>0</td>\n",
              "      <td>0</td>\n",
              "      <td>0</td>\n",
              "      <td>0</td>\n",
              "      <td>1</td>\n",
              "      <td>0</td>\n",
              "      <td>0</td>\n",
              "      <td>0</td>\n",
              "      <td>1</td>\n",
              "      <td>0</td>\n",
              "      <td>0</td>\n",
              "      <td>0</td>\n",
              "      <td>0</td>\n",
              "      <td>0</td>\n",
              "      <td>0</td>\n",
              "      <td>0</td>\n",
              "      <td>0</td>\n",
              "      <td>0</td>\n",
              "      <td>0</td>\n",
              "      <td>0</td>\n",
              "      <td>0</td>\n",
              "      <td>0</td>\n",
              "      <td>0</td>\n",
              "      <td>0</td>\n",
              "      <td>0</td>\n",
              "      <td>0</td>\n",
              "      <td>0</td>\n",
              "      <td>0</td>\n",
              "      <td>0</td>\n",
              "      <td>0</td>\n",
              "      <td>0</td>\n",
              "      <td>-1</td>\n",
              "      <td>1</td>\n",
              "    </tr>\n",
              "    <tr>\n",
              "      <th>2</th>\n",
              "      <td>0</td>\n",
              "      <td>0</td>\n",
              "      <td>1</td>\n",
              "      <td>0</td>\n",
              "      <td>0</td>\n",
              "      <td>0</td>\n",
              "      <td>0</td>\n",
              "      <td>0</td>\n",
              "      <td>0</td>\n",
              "      <td>0</td>\n",
              "      <td>0</td>\n",
              "      <td>0</td>\n",
              "      <td>0</td>\n",
              "      <td>0</td>\n",
              "      <td>0</td>\n",
              "      <td>1</td>\n",
              "      <td>0</td>\n",
              "      <td>0</td>\n",
              "      <td>0</td>\n",
              "      <td>0</td>\n",
              "      <td>0</td>\n",
              "      <td>0</td>\n",
              "      <td>0</td>\n",
              "      <td>0</td>\n",
              "      <td>0</td>\n",
              "      <td>0</td>\n",
              "      <td>0</td>\n",
              "      <td>0</td>\n",
              "      <td>1</td>\n",
              "      <td>0</td>\n",
              "      <td>0</td>\n",
              "      <td>0</td>\n",
              "      <td>0</td>\n",
              "      <td>0</td>\n",
              "      <td>0</td>\n",
              "      <td>0</td>\n",
              "      <td>0</td>\n",
              "      <td>0</td>\n",
              "      <td>0</td>\n",
              "      <td>0</td>\n",
              "      <td>1</td>\n",
              "      <td>0</td>\n",
              "      <td>0</td>\n",
              "      <td>0</td>\n",
              "      <td>0</td>\n",
              "      <td>0</td>\n",
              "      <td>0</td>\n",
              "      <td>0</td>\n",
              "      <td>0</td>\n",
              "      <td>0</td>\n",
              "      <td>0</td>\n",
              "      <td>0</td>\n",
              "      <td>0</td>\n",
              "      <td>0</td>\n",
              "      <td>0</td>\n",
              "      <td>0</td>\n",
              "      <td>-1</td>\n",
              "      <td>1</td>\n",
              "    </tr>\n",
              "    <tr>\n",
              "      <th>3</th>\n",
              "      <td>0</td>\n",
              "      <td>0</td>\n",
              "      <td>1</td>\n",
              "      <td>0</td>\n",
              "      <td>0</td>\n",
              "      <td>0</td>\n",
              "      <td>0</td>\n",
              "      <td>0</td>\n",
              "      <td>0</td>\n",
              "      <td>0</td>\n",
              "      <td>0</td>\n",
              "      <td>0</td>\n",
              "      <td>0</td>\n",
              "      <td>0</td>\n",
              "      <td>1</td>\n",
              "      <td>0</td>\n",
              "      <td>0</td>\n",
              "      <td>0</td>\n",
              "      <td>0</td>\n",
              "      <td>0</td>\n",
              "      <td>0</td>\n",
              "      <td>0</td>\n",
              "      <td>0</td>\n",
              "      <td>0</td>\n",
              "      <td>0</td>\n",
              "      <td>0</td>\n",
              "      <td>0</td>\n",
              "      <td>0</td>\n",
              "      <td>0</td>\n",
              "      <td>1</td>\n",
              "      <td>0</td>\n",
              "      <td>0</td>\n",
              "      <td>0</td>\n",
              "      <td>0</td>\n",
              "      <td>0</td>\n",
              "      <td>0</td>\n",
              "      <td>0</td>\n",
              "      <td>0</td>\n",
              "      <td>0</td>\n",
              "      <td>0</td>\n",
              "      <td>0</td>\n",
              "      <td>0</td>\n",
              "      <td>0</td>\n",
              "      <td>0</td>\n",
              "      <td>1</td>\n",
              "      <td>0</td>\n",
              "      <td>0</td>\n",
              "      <td>0</td>\n",
              "      <td>0</td>\n",
              "      <td>0</td>\n",
              "      <td>0</td>\n",
              "      <td>0</td>\n",
              "      <td>0</td>\n",
              "      <td>0</td>\n",
              "      <td>0</td>\n",
              "      <td>0</td>\n",
              "      <td>-1</td>\n",
              "      <td>1</td>\n",
              "    </tr>\n",
              "    <tr>\n",
              "      <th>4</th>\n",
              "      <td>0</td>\n",
              "      <td>0</td>\n",
              "      <td>1</td>\n",
              "      <td>0</td>\n",
              "      <td>0</td>\n",
              "      <td>0</td>\n",
              "      <td>0</td>\n",
              "      <td>0</td>\n",
              "      <td>0</td>\n",
              "      <td>0</td>\n",
              "      <td>0</td>\n",
              "      <td>0</td>\n",
              "      <td>0</td>\n",
              "      <td>0</td>\n",
              "      <td>0</td>\n",
              "      <td>1</td>\n",
              "      <td>0</td>\n",
              "      <td>0</td>\n",
              "      <td>0</td>\n",
              "      <td>0</td>\n",
              "      <td>0</td>\n",
              "      <td>0</td>\n",
              "      <td>0</td>\n",
              "      <td>0</td>\n",
              "      <td>0</td>\n",
              "      <td>1</td>\n",
              "      <td>0</td>\n",
              "      <td>0</td>\n",
              "      <td>0</td>\n",
              "      <td>0</td>\n",
              "      <td>0</td>\n",
              "      <td>0</td>\n",
              "      <td>0</td>\n",
              "      <td>0</td>\n",
              "      <td>0</td>\n",
              "      <td>1</td>\n",
              "      <td>0</td>\n",
              "      <td>0</td>\n",
              "      <td>0</td>\n",
              "      <td>0</td>\n",
              "      <td>0</td>\n",
              "      <td>0</td>\n",
              "      <td>0</td>\n",
              "      <td>0</td>\n",
              "      <td>0</td>\n",
              "      <td>0</td>\n",
              "      <td>0</td>\n",
              "      <td>0</td>\n",
              "      <td>0</td>\n",
              "      <td>0</td>\n",
              "      <td>0</td>\n",
              "      <td>0</td>\n",
              "      <td>0</td>\n",
              "      <td>0</td>\n",
              "      <td>0</td>\n",
              "      <td>0</td>\n",
              "      <td>-1</td>\n",
              "      <td>1</td>\n",
              "    </tr>\n",
              "    <tr>\n",
              "      <th>...</th>\n",
              "      <td>...</td>\n",
              "      <td>...</td>\n",
              "      <td>...</td>\n",
              "      <td>...</td>\n",
              "      <td>...</td>\n",
              "      <td>...</td>\n",
              "      <td>...</td>\n",
              "      <td>...</td>\n",
              "      <td>...</td>\n",
              "      <td>...</td>\n",
              "      <td>...</td>\n",
              "      <td>...</td>\n",
              "      <td>...</td>\n",
              "      <td>...</td>\n",
              "      <td>...</td>\n",
              "      <td>...</td>\n",
              "      <td>...</td>\n",
              "      <td>...</td>\n",
              "      <td>...</td>\n",
              "      <td>...</td>\n",
              "      <td>...</td>\n",
              "      <td>...</td>\n",
              "      <td>...</td>\n",
              "      <td>...</td>\n",
              "      <td>...</td>\n",
              "      <td>...</td>\n",
              "      <td>...</td>\n",
              "      <td>...</td>\n",
              "      <td>...</td>\n",
              "      <td>...</td>\n",
              "      <td>...</td>\n",
              "      <td>...</td>\n",
              "      <td>...</td>\n",
              "      <td>...</td>\n",
              "      <td>...</td>\n",
              "      <td>...</td>\n",
              "      <td>...</td>\n",
              "      <td>...</td>\n",
              "      <td>...</td>\n",
              "      <td>...</td>\n",
              "      <td>...</td>\n",
              "      <td>...</td>\n",
              "      <td>...</td>\n",
              "      <td>...</td>\n",
              "      <td>...</td>\n",
              "      <td>...</td>\n",
              "      <td>...</td>\n",
              "      <td>...</td>\n",
              "      <td>...</td>\n",
              "      <td>...</td>\n",
              "      <td>...</td>\n",
              "      <td>...</td>\n",
              "      <td>...</td>\n",
              "      <td>...</td>\n",
              "      <td>...</td>\n",
              "      <td>...</td>\n",
              "      <td>...</td>\n",
              "      <td>...</td>\n",
              "    </tr>\n",
              "    <tr>\n",
              "      <th>12573</th>\n",
              "      <td>1</td>\n",
              "      <td>0</td>\n",
              "      <td>0</td>\n",
              "      <td>0</td>\n",
              "      <td>0</td>\n",
              "      <td>0</td>\n",
              "      <td>0</td>\n",
              "      <td>0</td>\n",
              "      <td>0</td>\n",
              "      <td>0</td>\n",
              "      <td>0</td>\n",
              "      <td>0</td>\n",
              "      <td>0</td>\n",
              "      <td>0</td>\n",
              "      <td>0</td>\n",
              "      <td>1</td>\n",
              "      <td>0</td>\n",
              "      <td>0</td>\n",
              "      <td>0</td>\n",
              "      <td>0</td>\n",
              "      <td>0</td>\n",
              "      <td>0</td>\n",
              "      <td>0</td>\n",
              "      <td>0</td>\n",
              "      <td>0</td>\n",
              "      <td>0</td>\n",
              "      <td>0</td>\n",
              "      <td>0</td>\n",
              "      <td>1</td>\n",
              "      <td>0</td>\n",
              "      <td>0</td>\n",
              "      <td>0</td>\n",
              "      <td>0</td>\n",
              "      <td>0</td>\n",
              "      <td>0</td>\n",
              "      <td>0</td>\n",
              "      <td>0</td>\n",
              "      <td>0</td>\n",
              "      <td>0</td>\n",
              "      <td>0</td>\n",
              "      <td>0</td>\n",
              "      <td>0</td>\n",
              "      <td>0</td>\n",
              "      <td>1</td>\n",
              "      <td>0</td>\n",
              "      <td>0</td>\n",
              "      <td>0</td>\n",
              "      <td>0</td>\n",
              "      <td>0</td>\n",
              "      <td>0</td>\n",
              "      <td>0</td>\n",
              "      <td>0</td>\n",
              "      <td>0</td>\n",
              "      <td>0</td>\n",
              "      <td>0</td>\n",
              "      <td>0</td>\n",
              "      <td>1</td>\n",
              "      <td>-1</td>\n",
              "    </tr>\n",
              "    <tr>\n",
              "      <th>12574</th>\n",
              "      <td>1</td>\n",
              "      <td>0</td>\n",
              "      <td>0</td>\n",
              "      <td>0</td>\n",
              "      <td>0</td>\n",
              "      <td>0</td>\n",
              "      <td>0</td>\n",
              "      <td>0</td>\n",
              "      <td>0</td>\n",
              "      <td>0</td>\n",
              "      <td>0</td>\n",
              "      <td>0</td>\n",
              "      <td>0</td>\n",
              "      <td>0</td>\n",
              "      <td>0</td>\n",
              "      <td>1</td>\n",
              "      <td>0</td>\n",
              "      <td>0</td>\n",
              "      <td>0</td>\n",
              "      <td>0</td>\n",
              "      <td>0</td>\n",
              "      <td>0</td>\n",
              "      <td>0</td>\n",
              "      <td>0</td>\n",
              "      <td>0</td>\n",
              "      <td>0</td>\n",
              "      <td>0</td>\n",
              "      <td>0</td>\n",
              "      <td>1</td>\n",
              "      <td>0</td>\n",
              "      <td>0</td>\n",
              "      <td>0</td>\n",
              "      <td>0</td>\n",
              "      <td>0</td>\n",
              "      <td>0</td>\n",
              "      <td>0</td>\n",
              "      <td>0</td>\n",
              "      <td>0</td>\n",
              "      <td>0</td>\n",
              "      <td>0</td>\n",
              "      <td>0</td>\n",
              "      <td>0</td>\n",
              "      <td>0</td>\n",
              "      <td>1</td>\n",
              "      <td>0</td>\n",
              "      <td>0</td>\n",
              "      <td>0</td>\n",
              "      <td>0</td>\n",
              "      <td>0</td>\n",
              "      <td>0</td>\n",
              "      <td>0</td>\n",
              "      <td>0</td>\n",
              "      <td>0</td>\n",
              "      <td>0</td>\n",
              "      <td>0</td>\n",
              "      <td>0</td>\n",
              "      <td>1</td>\n",
              "      <td>-1</td>\n",
              "    </tr>\n",
              "    <tr>\n",
              "      <th>12575</th>\n",
              "      <td>0</td>\n",
              "      <td>0</td>\n",
              "      <td>0</td>\n",
              "      <td>1</td>\n",
              "      <td>0</td>\n",
              "      <td>0</td>\n",
              "      <td>0</td>\n",
              "      <td>0</td>\n",
              "      <td>0</td>\n",
              "      <td>0</td>\n",
              "      <td>0</td>\n",
              "      <td>0</td>\n",
              "      <td>0</td>\n",
              "      <td>0</td>\n",
              "      <td>0</td>\n",
              "      <td>1</td>\n",
              "      <td>0</td>\n",
              "      <td>0</td>\n",
              "      <td>0</td>\n",
              "      <td>0</td>\n",
              "      <td>0</td>\n",
              "      <td>0</td>\n",
              "      <td>0</td>\n",
              "      <td>0</td>\n",
              "      <td>0</td>\n",
              "      <td>0</td>\n",
              "      <td>0</td>\n",
              "      <td>0</td>\n",
              "      <td>0</td>\n",
              "      <td>1</td>\n",
              "      <td>0</td>\n",
              "      <td>0</td>\n",
              "      <td>0</td>\n",
              "      <td>1</td>\n",
              "      <td>0</td>\n",
              "      <td>0</td>\n",
              "      <td>0</td>\n",
              "      <td>0</td>\n",
              "      <td>0</td>\n",
              "      <td>0</td>\n",
              "      <td>0</td>\n",
              "      <td>0</td>\n",
              "      <td>0</td>\n",
              "      <td>0</td>\n",
              "      <td>0</td>\n",
              "      <td>0</td>\n",
              "      <td>0</td>\n",
              "      <td>0</td>\n",
              "      <td>0</td>\n",
              "      <td>0</td>\n",
              "      <td>0</td>\n",
              "      <td>0</td>\n",
              "      <td>0</td>\n",
              "      <td>0</td>\n",
              "      <td>0</td>\n",
              "      <td>0</td>\n",
              "      <td>1</td>\n",
              "      <td>-1</td>\n",
              "    </tr>\n",
              "    <tr>\n",
              "      <th>12576</th>\n",
              "      <td>0</td>\n",
              "      <td>0</td>\n",
              "      <td>0</td>\n",
              "      <td>1</td>\n",
              "      <td>0</td>\n",
              "      <td>0</td>\n",
              "      <td>0</td>\n",
              "      <td>0</td>\n",
              "      <td>0</td>\n",
              "      <td>0</td>\n",
              "      <td>0</td>\n",
              "      <td>0</td>\n",
              "      <td>0</td>\n",
              "      <td>0</td>\n",
              "      <td>0</td>\n",
              "      <td>1</td>\n",
              "      <td>0</td>\n",
              "      <td>0</td>\n",
              "      <td>0</td>\n",
              "      <td>0</td>\n",
              "      <td>0</td>\n",
              "      <td>0</td>\n",
              "      <td>0</td>\n",
              "      <td>0</td>\n",
              "      <td>0</td>\n",
              "      <td>0</td>\n",
              "      <td>0</td>\n",
              "      <td>0</td>\n",
              "      <td>0</td>\n",
              "      <td>1</td>\n",
              "      <td>0</td>\n",
              "      <td>0</td>\n",
              "      <td>0</td>\n",
              "      <td>1</td>\n",
              "      <td>0</td>\n",
              "      <td>0</td>\n",
              "      <td>0</td>\n",
              "      <td>0</td>\n",
              "      <td>0</td>\n",
              "      <td>0</td>\n",
              "      <td>0</td>\n",
              "      <td>0</td>\n",
              "      <td>0</td>\n",
              "      <td>0</td>\n",
              "      <td>0</td>\n",
              "      <td>0</td>\n",
              "      <td>0</td>\n",
              "      <td>0</td>\n",
              "      <td>0</td>\n",
              "      <td>0</td>\n",
              "      <td>0</td>\n",
              "      <td>0</td>\n",
              "      <td>0</td>\n",
              "      <td>0</td>\n",
              "      <td>0</td>\n",
              "      <td>0</td>\n",
              "      <td>1</td>\n",
              "      <td>-1</td>\n",
              "    </tr>\n",
              "    <tr>\n",
              "      <th>12577</th>\n",
              "      <td>0</td>\n",
              "      <td>0</td>\n",
              "      <td>0</td>\n",
              "      <td>0</td>\n",
              "      <td>0</td>\n",
              "      <td>1</td>\n",
              "      <td>0</td>\n",
              "      <td>0</td>\n",
              "      <td>0</td>\n",
              "      <td>0</td>\n",
              "      <td>0</td>\n",
              "      <td>0</td>\n",
              "      <td>0</td>\n",
              "      <td>0</td>\n",
              "      <td>0</td>\n",
              "      <td>1</td>\n",
              "      <td>0</td>\n",
              "      <td>0</td>\n",
              "      <td>0</td>\n",
              "      <td>0</td>\n",
              "      <td>0</td>\n",
              "      <td>0</td>\n",
              "      <td>0</td>\n",
              "      <td>0</td>\n",
              "      <td>0</td>\n",
              "      <td>0</td>\n",
              "      <td>0</td>\n",
              "      <td>0</td>\n",
              "      <td>1</td>\n",
              "      <td>0</td>\n",
              "      <td>0</td>\n",
              "      <td>0</td>\n",
              "      <td>0</td>\n",
              "      <td>0</td>\n",
              "      <td>0</td>\n",
              "      <td>0</td>\n",
              "      <td>0</td>\n",
              "      <td>0</td>\n",
              "      <td>0</td>\n",
              "      <td>0</td>\n",
              "      <td>1</td>\n",
              "      <td>0</td>\n",
              "      <td>0</td>\n",
              "      <td>0</td>\n",
              "      <td>0</td>\n",
              "      <td>0</td>\n",
              "      <td>0</td>\n",
              "      <td>0</td>\n",
              "      <td>0</td>\n",
              "      <td>0</td>\n",
              "      <td>0</td>\n",
              "      <td>0</td>\n",
              "      <td>0</td>\n",
              "      <td>0</td>\n",
              "      <td>0</td>\n",
              "      <td>0</td>\n",
              "      <td>1</td>\n",
              "      <td>-1</td>\n",
              "    </tr>\n",
              "  </tbody>\n",
              "</table>\n",
              "<p>12578 rows × 58 columns</p>\n",
              "</div>"
            ],
            "text/plain": [
              "       Release Type_Discharged - Expiration of Sentence  ...  label\n",
              "0                                                     0  ...      1\n",
              "1                                                     0  ...      1\n",
              "2                                                     0  ...      1\n",
              "3                                                     0  ...      1\n",
              "4                                                     0  ...      1\n",
              "...                                                 ...  ...    ...\n",
              "12573                                                 1  ...     -1\n",
              "12574                                                 1  ...     -1\n",
              "12575                                                 0  ...     -1\n",
              "12576                                                 0  ...     -1\n",
              "12577                                                 0  ...     -1\n",
              "\n",
              "[12578 rows x 58 columns]"
            ]
          },
          "metadata": {
            "tags": []
          },
          "execution_count": 17
        }
      ]
    },
    {
      "cell_type": "code",
      "metadata": {
        "id": "mAI4BE9uWA2L"
      },
      "source": [
        "PROTECTED_COLUMNS = ['Race']\n",
        "FEATURE_NAMES = list(x_df_labelled.keys())[:-1]\n",
        "LABEL_COLUMN = 'label'"
      ],
      "execution_count": null,
      "outputs": []
    },
    {
      "cell_type": "code",
      "metadata": {
        "colab": {
          "base_uri": "https://localhost:8080/"
        },
        "id": "1xbuTW1ifXpj",
        "outputId": "f6f2ccce-8ca4-4d77-acc0-7f3d9356cb34"
      },
      "source": [
        "PROTECTED_COLUMNS"
      ],
      "execution_count": null,
      "outputs": [
        {
          "output_type": "execute_result",
          "data": {
            "text/plain": [
              "['Race']"
            ]
          },
          "metadata": {
            "tags": []
          },
          "execution_count": 19
        }
      ]
    },
    {
      "cell_type": "code",
      "metadata": {
        "colab": {
          "base_uri": "https://localhost:8080/"
        },
        "id": "hw47ZLZyfZrp",
        "outputId": "3dc54a1a-522a-44ce-b4be-b60d5f399a90"
      },
      "source": [
        "FEATURE_NAMES"
      ],
      "execution_count": null,
      "outputs": [
        {
          "output_type": "execute_result",
          "data": {
            "text/plain": [
              "['Release Type_Discharged - Expiration of Sentence',\n",
              " 'Release Type_Discharged – End of Sentence',\n",
              " 'Release Type_Parole',\n",
              " 'Release Type_Parole Granted',\n",
              " 'Release Type_Paroled to Detainer - INS',\n",
              " 'Release Type_Paroled to Detainer - Iowa',\n",
              " 'Release Type_Paroled to Detainer - Out of State',\n",
              " 'Release Type_Paroled to Detainer - U.S. Marshall',\n",
              " 'Release Type_Paroled w/Immediate Discharge',\n",
              " 'Release Type_Released to Special Sentence',\n",
              " 'Release Type_Special Sentence',\n",
              " 'Offense Classification_A Felony',\n",
              " 'Offense Classification_Aggravated Misdemeanor',\n",
              " 'Offense Classification_B Felony',\n",
              " 'Offense Classification_C Felony',\n",
              " 'Offense Classification_D Felony',\n",
              " 'Offense Classification_Felony - Enhanced',\n",
              " 'Offense Classification_Felony - Enhancement to Original Penalty',\n",
              " 'Offense Classification_Felony - Mandatory Minimum',\n",
              " 'Offense Classification_Other Felony',\n",
              " 'Offense Classification_Other Felony (Old Code)',\n",
              " 'Offense Classification_Serious Misdemeanor',\n",
              " 'Offense Classification_Sexual Predator Community Supervision',\n",
              " 'Offense Classification_Simple Misdemeanor',\n",
              " 'Offense Classification_Special Sentence 2005',\n",
              " 'Offense Type_Drug',\n",
              " 'Offense Type_Other',\n",
              " 'Offense Type_Property',\n",
              " 'Offense Type_Public Order',\n",
              " 'Offense Type_Violent',\n",
              " 'Offense Subtype_Alcohol',\n",
              " 'Offense Subtype_Animals',\n",
              " 'Offense Subtype_Arson',\n",
              " 'Offense Subtype_Assault',\n",
              " 'Offense Subtype_Burglary',\n",
              " 'Offense Subtype_Drug Possession',\n",
              " 'Offense Subtype_Flight/Escape',\n",
              " 'Offense Subtype_Forgery/Fraud',\n",
              " 'Offense Subtype_Kidnap',\n",
              " 'Offense Subtype_Murder/Manslaughter',\n",
              " 'Offense Subtype_OWI',\n",
              " 'Offense Subtype_Other Criminal',\n",
              " 'Offense Subtype_Other Drug',\n",
              " 'Offense Subtype_Other Public Order',\n",
              " 'Offense Subtype_Other Violent',\n",
              " 'Offense Subtype_Prostitution/Pimping',\n",
              " 'Offense Subtype_Robbery',\n",
              " 'Offense Subtype_Sex',\n",
              " 'Offense Subtype_Sex Offender Registry/Residency',\n",
              " 'Offense Subtype_Special Sentence Revocation',\n",
              " 'Offense Subtype_Stolen Property',\n",
              " 'Offense Subtype_Theft',\n",
              " 'Offense Subtype_Traffic',\n",
              " 'Offense Subtype_Trafficking',\n",
              " 'Offense Subtype_Vandalism',\n",
              " 'Offense Subtype_Weapons',\n",
              " 'Race']"
            ]
          },
          "metadata": {
            "tags": []
          },
          "execution_count": 20
        }
      ]
    },
    {
      "cell_type": "code",
      "metadata": {
        "id": "ug9inpZgY62v"
      },
      "source": [
        "class Model(object):\n",
        "    def __init__(self,\n",
        "                 tpr_max_diff=0):\n",
        "        tf.random.set_random_seed(123)\n",
        "        self.tpr_max_diff = tpr_max_diff\n",
        "        num_features = len(FEATURE_NAMES)\n",
        "        self.features_placeholder = tf.placeholder(\n",
        "            tf.float32, shape=(None, num_features), name='features_placeholder')\n",
        "        self.labels_placeholder = tf.placeholder(\n",
        "            tf.float32, shape=(None, 1), name='labels_placeholder')\n",
        "        self.protected_placeholders = [tf.placeholder(tf.float32, shape=(None, 1), name=attribute+\"_placeholder\") for attribute in PROTECTED_COLUMNS]\n",
        "        # We use a linear model.\n",
        "        self.predictions_tensor = tf.layers.dense(inputs=self.features_placeholder, units=1, activation=None)\n",
        "\n",
        "\n",
        "    def build_train_op(self,\n",
        "                       learning_rate,\n",
        "                       unconstrained=False):\n",
        "        #print(PROTECTED_COLUMNS)\n",
        "        ctx = tfco.rate_context(self.predictions_tensor, self.labels_placeholder)\n",
        "        positive_slice = ctx.subset(self.labels_placeholder > 0) \n",
        "        overall_tpr = tfco.positive_prediction_rate(positive_slice)\n",
        "        print(\"overall\")\n",
        "        print(overall_tpr)\n",
        "        constraints = []\n",
        "        if not unconstrained:\n",
        "            for placeholder in self.protected_placeholders:\n",
        "                slice_tpr = tfco.positive_prediction_rate(ctx.subset((placeholder > 0) & (self.labels_placeholder > 0)))\n",
        "                constraints.append(slice_tpr >= overall_tpr - self.tpr_max_diff)\n",
        "        #print(\"constraints\")\n",
        "        #print(constraints)\n",
        "        mp = tfco.RateMinimizationProblem(tfco.error_rate(ctx), constraints)\n",
        "        opt = tfco.ProxyLagrangianOptimizerV1(tf.train.AdamOptimizer(learning_rate))\n",
        "        self.train_op = opt.minimize(mp)\n",
        "        return self.train_op\n",
        "  \n",
        "    def feed_dict_helper(self, dataframe):\n",
        "        feed_dict = {self.features_placeholder:\n",
        "                  dataframe[FEATURE_NAMES],\n",
        "              self.labels_placeholder:\n",
        "                  dataframe[[LABEL_COLUMN]],}\n",
        "        #print(\"feed dict\", feed_dict)\n",
        "        for i, protected_attribute in enumerate(PROTECTED_COLUMNS):\n",
        "            #print(\"i, protected_attribute\")\n",
        "            #print(i, protected_attribute)\n",
        "            #print(\"dataframe\")\n",
        "            #print(dataframe)\n",
        "            feed_dict[self.protected_placeholders[i]] = dataframe[[protected_attribute]]\n",
        "            #print(\"hello\")\n",
        "        return feed_dict"
      ],
      "execution_count": null,
      "outputs": []
    },
    {
      "cell_type": "code",
      "metadata": {
        "id": "nkBnvOhxZvqP"
      },
      "source": [
        "def training_generator(model,\n",
        "                       train_df,\n",
        "                       test_df,\n",
        "                       minibatch_size,\n",
        "                       num_iterations_per_loop=1,\n",
        "                       num_loops=1):\n",
        "    random.seed(31337)\n",
        "    num_rows = train_df.shape[0]\n",
        "    minibatch_size = min(minibatch_size, num_rows)\n",
        "    permutation = list(range(train_df.shape[0]))\n",
        "    random.shuffle(permutation)\n",
        "\n",
        "    session = tf.Session()\n",
        "    session.run((tf.global_variables_initializer(),\n",
        "               tf.local_variables_initializer()))\n",
        "\n",
        "    minibatch_start_index = 0\n",
        "    for n in xrange(num_loops):\n",
        "        for _ in xrange(num_iterations_per_loop):\n",
        "            minibatch_indices = []\n",
        "            while len(minibatch_indices) < minibatch_size:\n",
        "                minibatch_end_index = (\n",
        "                minibatch_start_index + minibatch_size - len(minibatch_indices))\n",
        "                if minibatch_end_index >= num_rows:\n",
        "                    minibatch_indices += range(minibatch_start_index, num_rows)\n",
        "                    minibatch_start_index = 0\n",
        "                else:\n",
        "                    minibatch_indices += range(minibatch_start_index, minibatch_end_index)\n",
        "                    minibatch_start_index = minibatch_end_index\n",
        "                    \n",
        "            session.run(\n",
        "                  model.train_op,\n",
        "                  feed_dict=model.feed_dict_helper(\n",
        "                      train_df.iloc[[permutation[ii] for ii in minibatch_indices]]))\n",
        "\n",
        "        train_predictions = session.run(\n",
        "            model.predictions_tensor,\n",
        "            feed_dict=model.feed_dict_helper(train_df))\n",
        "        test_predictions = session.run(\n",
        "            model.predictions_tensor,\n",
        "            feed_dict=model.feed_dict_helper(test_df))\n",
        "\n",
        "        yield (train_predictions, test_predictions)"
      ],
      "execution_count": null,
      "outputs": []
    },
    {
      "cell_type": "code",
      "metadata": {
        "id": "2xmKNQ0_aohU"
      },
      "source": [
        "def error_rate(predictions, labels):\n",
        "    signed_labels = (\n",
        "      (labels > 0).astype(np.float32) - (labels <= 0).astype(np.float32))\n",
        "    numerator = (np.multiply(signed_labels, predictions) <= 0).sum()\n",
        "    denominator = predictions.shape[0]\n",
        "    return float(numerator) / float(denominator)\n",
        "\n",
        "\n",
        "def positive_prediction_rate(predictions, subset):\n",
        "    numerator = np.multiply((predictions > 0).astype(np.float32),\n",
        "                          (subset > 0).astype(np.float32)).sum()\n",
        "    denominator = (subset > 0).sum()\n",
        "    return float(numerator) / float(denominator)\n",
        "\n",
        "def tpr(df):\n",
        "    \"\"\"Measure the true positive rate.\"\"\"\n",
        "    fp = sum((df['predictions'] >= 0.0) & (df[LABEL_COLUMN] > 0.5))\n",
        "    ln = sum(df[LABEL_COLUMN] > 0.5)\n",
        "    return float(fp) / float(ln)\n",
        "\n",
        "def _get_error_rate_and_constraints(df, tpr_max_diff):\n",
        "    \"\"\"Computes the error and fairness violations.\"\"\"\n",
        "    error_rate_local = error_rate(df[['predictions']], df[[LABEL_COLUMN]])\n",
        "    overall_tpr = tpr(df)\n",
        "    return error_rate_local, [(overall_tpr - tpr_max_diff) - tpr(df[df[protected_attribute] > 0.5]) for protected_attribute in PROTECTED_COLUMNS]\n",
        "\n",
        "def _get_exp_error_rate_constraints(cand_dist, error_rates_vector, constraints_matrix):\n",
        "    \"\"\"Computes the expected error and fairness violations on a randomized solution.\"\"\"\n",
        "    expected_error_rate = np.dot(cand_dist, error_rates_vector)\n",
        "    expected_constraints = np.matmul(cand_dist, constraints_matrix)\n",
        "    return expected_error_rate, expected_constraints\n",
        "\n",
        "def training_helper(model,\n",
        "                    train_df,\n",
        "                    test_df,\n",
        "                    minibatch_size,\n",
        "                    num_iterations_per_loop=1,\n",
        "                    num_loops=1):\n",
        "    train_error_rate_vector = []\n",
        "    train_constraints_matrix = []\n",
        "    test_error_rate_vector = []\n",
        "    test_constraints_matrix = []\n",
        "    for train, test in training_generator(\n",
        "      model, train_df, test_df, minibatch_size, num_iterations_per_loop,\n",
        "      num_loops):\n",
        "\n",
        "        train_df['predictions'] = train\n",
        "        test_df['predictions'] = test\n",
        "\n",
        "        train_error_rate, train_constraints = _get_error_rate_and_constraints(\n",
        "          train_df, model.tpr_max_diff)\n",
        "        train_error_rate_vector.append(train_error_rate)\n",
        "        train_constraints_matrix.append(train_constraints)\n",
        "\n",
        "        test_error_rate, test_constraints = _get_error_rate_and_constraints(\n",
        "            test_df, model.tpr_max_diff)\n",
        "        test_error_rate_vector.append(test_error_rate)\n",
        "        test_constraints_matrix.append(test_constraints)\n",
        "\n",
        "    return (train_error_rate_vector, train_constraints_matrix, test_error_rate_vector, test_constraints_matrix)"
      ],
      "execution_count": null,
      "outputs": []
    },
    {
      "cell_type": "code",
      "metadata": {
        "id": "8psrhXOddPSk"
      },
      "source": [
        "train_size = 8000"
      ],
      "execution_count": null,
      "outputs": []
    },
    {
      "cell_type": "code",
      "metadata": {
        "id": "VuK3XwC7atGN"
      },
      "source": [
        "x_train, x_test, y_train, y_test, s_train, s_test = train_test_split(x_df_labelled, y_data, s_data, train_size=train_size, shuffle=True)"
      ],
      "execution_count": null,
      "outputs": []
    },
    {
      "cell_type": "code",
      "metadata": {
        "id": "bNMlGEKAc8iU"
      },
      "source": [
        "model = Model(tpr_max_diff=0.05)\n",
        "results = model.build_train_op(0.01, unconstrained=True)\n",
        "\n",
        "# training_helper returns the list of errors and violations over each epoch.\n",
        "train_errors, train_violations, test_errors, test_violations = training_helper(\n",
        "      model,\n",
        "      x_train,\n",
        "      x_test,\n",
        "      100,\n",
        "      num_iterations_per_loop=326,\n",
        "      num_loops=40)"
      ],
      "execution_count": null,
      "outputs": []
    },
    {
      "cell_type": "code",
      "metadata": {
        "colab": {
          "base_uri": "https://localhost:8080/"
        },
        "id": "W0fzUMpxj-YO",
        "outputId": "a80d7c7e-c269-4bde-eb6e-f539802a7d3d"
      },
      "source": [
        "print(\"Train Error\", train_errors[-1])\n",
        "print(\"Train Violation\", max(train_violations[-1]))\n",
        "\n",
        "print(\"Test Error\", test_errors[-1])\n",
        "print(\"Test Violation\", max(test_violations[-1]))"
      ],
      "execution_count": null,
      "outputs": [
        {
          "output_type": "stream",
          "text": [
            "Train Error 0.286875\n",
            "Train Violation 0.12802400056722166\n",
            "Test Error 0.2885539536915684\n",
            "Test Violation 0.13530641425359502\n"
          ],
          "name": "stdout"
        }
      ]
    },
    {
      "cell_type": "code",
      "metadata": {
        "id": "hEtxk-ynkSaz"
      },
      "source": [
        "! cp drive/MyDrive/SearchFair-master/examples/utils.py ."
      ],
      "execution_count": null,
      "outputs": []
    },
    {
      "cell_type": "code",
      "metadata": {
        "id": "d9MwlRPGke_8"
      },
      "source": [
        "import utils as ut"
      ],
      "execution_count": null,
      "outputs": []
    },
    {
      "cell_type": "code",
      "metadata": {
        "colab": {
          "base_uri": "https://localhost:8080/"
        },
        "id": "_7mekTA2m8tM",
        "outputId": "ab79aaac-ed66-4386-84c6-93aa6a680092"
      },
      "source": [
        "s_test"
      ],
      "execution_count": null,
      "outputs": [
        {
          "output_type": "execute_result",
          "data": {
            "text/plain": [
              "array([ 1, -1, -1, ..., -1, -1, -1])"
            ]
          },
          "metadata": {
            "tags": []
          },
          "execution_count": 42
        }
      ]
    },
    {
      "cell_type": "code",
      "metadata": {
        "id": "QtWdPEVIlIBF"
      },
      "source": [
        "def print_clf_stats(pred_x_train, pred_x_test, x_train, x_test, y_train, y_test, s_train, s_test):\n",
        "    train_acc = ut.get_accuracy(np.sign(pred_x_train), y_train)\n",
        "    print(\"train accuracy\")\n",
        "    print(train_acc)\n",
        "    test_acc = ut.get_accuracy(np.sign(pred_x_test), y_test)\n",
        "    print(\"test accuracy\")\n",
        "    print(test_acc)\n",
        "    print(s_train)\n",
        "    test_DDP, test_DEO = ut.compute_fairness_measures(np.sign(pred_x_test), y_test, s_test)\n",
        "    train_DDP, train_DEO = ut.compute_fairness_measures(np.sign(pred_x_train), y_train, s_train)\n",
        "\n",
        "    print(10*'-'+\"Train\"+10*'-')\n",
        "    print(\"Accuracy: %0.4f%%\" % (train_acc * 100))\n",
        "    print(\"DDP: %0.4f%%\" % (train_DDP * 100), \"DEO: %0.4f%%\" % (train_DEO * 100))\n",
        "    print(10*'-'+\"Test\"+10*'-')\n",
        "    print(\"Accuracy: %0.4f%%\" % (test_acc * 100))\n",
        "    print(\"DDP: %0.4f%%\" % (test_DDP * 100), \"DEO: %0.4f%%\" % (test_DEO * 100))"
      ],
      "execution_count": null,
      "outputs": []
    },
    {
      "cell_type": "code",
      "metadata": {
        "colab": {
          "base_uri": "https://localhost:8080/"
        },
        "id": "cpd9BXmlleVG",
        "outputId": "cec0a06d-8e23-4bf0-96e0-ca10cf2643ed"
      },
      "source": [
        "print_clf_stats(x_train['predictions'], x_test['predictions'], x_train, x_test, y_train, y_test, s_train, s_test)"
      ],
      "execution_count": null,
      "outputs": [
        {
          "output_type": "stream",
          "text": [
            "train accuracy\n",
            "0.713125\n",
            "test accuracy\n",
            "0.7114460463084317\n",
            "----------Train----------\n",
            "Accuracy: 71.3125%\n",
            "DDP: -17.2836% DEO: -33.3408%\n",
            "----------Test----------\n",
            "Accuracy: 71.1446%\n",
            "DDP: -18.5567% DEO: -34.9631%\n"
          ],
          "name": "stdout"
        }
      ]
    },
    {
      "cell_type": "code",
      "metadata": {
        "id": "TJawSAnRqLsj"
      },
      "source": [
        "x_train, x_test, y_train, y_test, s_train, s_test = train_test_split(x_df_labelled, y_data, s_data, train_size=train_size, shuffle=True)"
      ],
      "execution_count": null,
      "outputs": []
    },
    {
      "cell_type": "code",
      "metadata": {
        "colab": {
          "background_save": true,
          "base_uri": "https://localhost:8080/"
        },
        "id": "RXVrv4OamAhM",
        "outputId": "eb275d8d-2762-4840-c028-9e78c9acfa50"
      },
      "source": [
        "model = Model(tpr_max_diff=0.05)\n",
        "model.build_train_op(0.01, unconstrained=False)\n",
        "\n",
        "# training_helper returns the list of errors and violations over each epoch.\n",
        "train_errors, train_violations, test_errors, test_violations = training_helper(\n",
        "      model,\n",
        "      x_train,\n",
        "      x_test,\n",
        "      100,\n",
        "      num_iterations_per_loop=326,\n",
        "      num_loops=40)"
      ],
      "execution_count": null,
      "outputs": [
        {
          "output_type": "stream",
          "text": [
            "overall\n",
            "<tensorflow_constrained_optimization.python.rates.expression.ExplicitExpression object at 0x7f56d7e4ad50>\n"
          ],
          "name": "stdout"
        }
      ]
    },
    {
      "cell_type": "code",
      "metadata": {
        "colab": {
          "base_uri": "https://localhost:8080/"
        },
        "id": "JK-BKwSCnjbf",
        "outputId": "58a988c5-9faf-4861-b122-4bd216a0f64b"
      },
      "source": [
        "print_clf_stats(x_train['predictions'], x_test['predictions'], x_train, x_test, y_train, y_test, s_train, s_test)"
      ],
      "execution_count": null,
      "outputs": [
        {
          "output_type": "stream",
          "text": [
            "train accuracy\n",
            "0.672375\n",
            "test accuracy\n",
            "0.6703800786369594\n",
            "[-1  1 -1 ...  1 -1  1]\n",
            "----------Train----------\n",
            "Accuracy: 67.2375%\n",
            "DDP: -1.3442% DEO: -1.8100%\n",
            "----------Test----------\n",
            "Accuracy: 67.0380%\n",
            "DDP: -0.5407% DEO: -1.9544%\n"
          ],
          "name": "stdout"
        }
      ]
    },
    {
      "cell_type": "code",
      "metadata": {
        "colab": {
          "base_uri": "https://localhost:8080/"
        },
        "id": "1nKgXX8fntA4",
        "outputId": "44491f29-aa4a-4d1d-d552-1a224ab88e68"
      },
      "source": [
        "print(\"Train Error\", train_errors[-1])\n",
        "print(\"Train Violation\", max(train_violations[-1]))\n",
        "\n",
        "print(\"Test Error\", test_errors[-1])\n",
        "print(\"Test Violation\", max(test_violations[-1]))"
      ],
      "execution_count": null,
      "outputs": [
        {
          "output_type": "stream",
          "text": [
            "Train Error 0.327625\n",
            "Train Violation -0.04041086543027002\n",
            "Test Error 0.32961992136304064\n",
            "Test Violation -0.0394998829084453\n"
          ],
          "name": "stdout"
        }
      ]
    },
    {
      "cell_type": "code",
      "metadata": {
        "colab": {
          "base_uri": "https://localhost:8080/",
          "height": 513
        },
        "id": "RQBdxvRm_f0C",
        "outputId": "32a77097-e60b-4aa9-f7c9-566f26b645a7"
      },
      "source": [
        "x_train"
      ],
      "execution_count": null,
      "outputs": [
        {
          "output_type": "execute_result",
          "data": {
            "text/html": [
              "<div>\n",
              "<style scoped>\n",
              "    .dataframe tbody tr th:only-of-type {\n",
              "        vertical-align: middle;\n",
              "    }\n",
              "\n",
              "    .dataframe tbody tr th {\n",
              "        vertical-align: top;\n",
              "    }\n",
              "\n",
              "    .dataframe thead th {\n",
              "        text-align: right;\n",
              "    }\n",
              "</style>\n",
              "<table border=\"1\" class=\"dataframe\">\n",
              "  <thead>\n",
              "    <tr style=\"text-align: right;\">\n",
              "      <th></th>\n",
              "      <th>Release Type_Discharged - Expiration of Sentence</th>\n",
              "      <th>Release Type_Discharged – End of Sentence</th>\n",
              "      <th>Release Type_Parole</th>\n",
              "      <th>Release Type_Parole Granted</th>\n",
              "      <th>Release Type_Paroled to Detainer - INS</th>\n",
              "      <th>Release Type_Paroled to Detainer - Iowa</th>\n",
              "      <th>Release Type_Paroled to Detainer - Out of State</th>\n",
              "      <th>Release Type_Paroled to Detainer - U.S. Marshall</th>\n",
              "      <th>Release Type_Paroled w/Immediate Discharge</th>\n",
              "      <th>Release Type_Released to Special Sentence</th>\n",
              "      <th>Release Type_Special Sentence</th>\n",
              "      <th>Offense Classification_A Felony</th>\n",
              "      <th>Offense Classification_Aggravated Misdemeanor</th>\n",
              "      <th>Offense Classification_B Felony</th>\n",
              "      <th>Offense Classification_C Felony</th>\n",
              "      <th>Offense Classification_D Felony</th>\n",
              "      <th>Offense Classification_Felony - Enhanced</th>\n",
              "      <th>Offense Classification_Felony - Enhancement to Original Penalty</th>\n",
              "      <th>Offense Classification_Felony - Mandatory Minimum</th>\n",
              "      <th>Offense Classification_Other Felony</th>\n",
              "      <th>Offense Classification_Other Felony (Old Code)</th>\n",
              "      <th>Offense Classification_Serious Misdemeanor</th>\n",
              "      <th>Offense Classification_Sexual Predator Community Supervision</th>\n",
              "      <th>Offense Classification_Simple Misdemeanor</th>\n",
              "      <th>Offense Classification_Special Sentence 2005</th>\n",
              "      <th>Offense Type_Drug</th>\n",
              "      <th>Offense Type_Other</th>\n",
              "      <th>Offense Type_Property</th>\n",
              "      <th>Offense Type_Public Order</th>\n",
              "      <th>Offense Type_Violent</th>\n",
              "      <th>Offense Subtype_Alcohol</th>\n",
              "      <th>Offense Subtype_Animals</th>\n",
              "      <th>Offense Subtype_Arson</th>\n",
              "      <th>Offense Subtype_Assault</th>\n",
              "      <th>Offense Subtype_Burglary</th>\n",
              "      <th>Offense Subtype_Drug Possession</th>\n",
              "      <th>Offense Subtype_Flight/Escape</th>\n",
              "      <th>Offense Subtype_Forgery/Fraud</th>\n",
              "      <th>Offense Subtype_Kidnap</th>\n",
              "      <th>Offense Subtype_Murder/Manslaughter</th>\n",
              "      <th>Offense Subtype_OWI</th>\n",
              "      <th>Offense Subtype_Other Criminal</th>\n",
              "      <th>Offense Subtype_Other Drug</th>\n",
              "      <th>Offense Subtype_Other Public Order</th>\n",
              "      <th>Offense Subtype_Other Violent</th>\n",
              "      <th>Offense Subtype_Prostitution/Pimping</th>\n",
              "      <th>Offense Subtype_Robbery</th>\n",
              "      <th>Offense Subtype_Sex</th>\n",
              "      <th>Offense Subtype_Sex Offender Registry/Residency</th>\n",
              "      <th>Offense Subtype_Special Sentence Revocation</th>\n",
              "      <th>Offense Subtype_Stolen Property</th>\n",
              "      <th>Offense Subtype_Theft</th>\n",
              "      <th>Offense Subtype_Traffic</th>\n",
              "      <th>Offense Subtype_Trafficking</th>\n",
              "      <th>Offense Subtype_Vandalism</th>\n",
              "      <th>Offense Subtype_Weapons</th>\n",
              "      <th>Race</th>\n",
              "      <th>label</th>\n",
              "      <th>predictions</th>\n",
              "    </tr>\n",
              "  </thead>\n",
              "  <tbody>\n",
              "    <tr>\n",
              "      <th>1867</th>\n",
              "      <td>0</td>\n",
              "      <td>0</td>\n",
              "      <td>0</td>\n",
              "      <td>0</td>\n",
              "      <td>0</td>\n",
              "      <td>0</td>\n",
              "      <td>0</td>\n",
              "      <td>0</td>\n",
              "      <td>0</td>\n",
              "      <td>1</td>\n",
              "      <td>0</td>\n",
              "      <td>0</td>\n",
              "      <td>1</td>\n",
              "      <td>0</td>\n",
              "      <td>0</td>\n",
              "      <td>0</td>\n",
              "      <td>0</td>\n",
              "      <td>0</td>\n",
              "      <td>0</td>\n",
              "      <td>0</td>\n",
              "      <td>0</td>\n",
              "      <td>0</td>\n",
              "      <td>0</td>\n",
              "      <td>0</td>\n",
              "      <td>0</td>\n",
              "      <td>0</td>\n",
              "      <td>1</td>\n",
              "      <td>0</td>\n",
              "      <td>0</td>\n",
              "      <td>0</td>\n",
              "      <td>0</td>\n",
              "      <td>0</td>\n",
              "      <td>0</td>\n",
              "      <td>0</td>\n",
              "      <td>0</td>\n",
              "      <td>0</td>\n",
              "      <td>0</td>\n",
              "      <td>0</td>\n",
              "      <td>0</td>\n",
              "      <td>0</td>\n",
              "      <td>0</td>\n",
              "      <td>1</td>\n",
              "      <td>0</td>\n",
              "      <td>0</td>\n",
              "      <td>0</td>\n",
              "      <td>0</td>\n",
              "      <td>0</td>\n",
              "      <td>0</td>\n",
              "      <td>0</td>\n",
              "      <td>0</td>\n",
              "      <td>0</td>\n",
              "      <td>0</td>\n",
              "      <td>0</td>\n",
              "      <td>0</td>\n",
              "      <td>0</td>\n",
              "      <td>0</td>\n",
              "      <td>-1</td>\n",
              "      <td>1</td>\n",
              "      <td>-0.050030</td>\n",
              "    </tr>\n",
              "    <tr>\n",
              "      <th>9770</th>\n",
              "      <td>0</td>\n",
              "      <td>1</td>\n",
              "      <td>0</td>\n",
              "      <td>0</td>\n",
              "      <td>0</td>\n",
              "      <td>0</td>\n",
              "      <td>0</td>\n",
              "      <td>0</td>\n",
              "      <td>0</td>\n",
              "      <td>0</td>\n",
              "      <td>0</td>\n",
              "      <td>0</td>\n",
              "      <td>1</td>\n",
              "      <td>0</td>\n",
              "      <td>0</td>\n",
              "      <td>0</td>\n",
              "      <td>0</td>\n",
              "      <td>0</td>\n",
              "      <td>0</td>\n",
              "      <td>0</td>\n",
              "      <td>0</td>\n",
              "      <td>0</td>\n",
              "      <td>0</td>\n",
              "      <td>0</td>\n",
              "      <td>0</td>\n",
              "      <td>0</td>\n",
              "      <td>0</td>\n",
              "      <td>0</td>\n",
              "      <td>1</td>\n",
              "      <td>0</td>\n",
              "      <td>0</td>\n",
              "      <td>0</td>\n",
              "      <td>0</td>\n",
              "      <td>0</td>\n",
              "      <td>0</td>\n",
              "      <td>0</td>\n",
              "      <td>0</td>\n",
              "      <td>0</td>\n",
              "      <td>0</td>\n",
              "      <td>0</td>\n",
              "      <td>1</td>\n",
              "      <td>0</td>\n",
              "      <td>0</td>\n",
              "      <td>0</td>\n",
              "      <td>0</td>\n",
              "      <td>0</td>\n",
              "      <td>0</td>\n",
              "      <td>0</td>\n",
              "      <td>0</td>\n",
              "      <td>0</td>\n",
              "      <td>0</td>\n",
              "      <td>0</td>\n",
              "      <td>0</td>\n",
              "      <td>0</td>\n",
              "      <td>0</td>\n",
              "      <td>0</td>\n",
              "      <td>1</td>\n",
              "      <td>-1</td>\n",
              "      <td>-1.261763</td>\n",
              "    </tr>\n",
              "    <tr>\n",
              "      <th>3730</th>\n",
              "      <td>0</td>\n",
              "      <td>0</td>\n",
              "      <td>1</td>\n",
              "      <td>0</td>\n",
              "      <td>0</td>\n",
              "      <td>0</td>\n",
              "      <td>0</td>\n",
              "      <td>0</td>\n",
              "      <td>0</td>\n",
              "      <td>0</td>\n",
              "      <td>0</td>\n",
              "      <td>0</td>\n",
              "      <td>1</td>\n",
              "      <td>0</td>\n",
              "      <td>0</td>\n",
              "      <td>0</td>\n",
              "      <td>0</td>\n",
              "      <td>0</td>\n",
              "      <td>0</td>\n",
              "      <td>0</td>\n",
              "      <td>0</td>\n",
              "      <td>0</td>\n",
              "      <td>0</td>\n",
              "      <td>0</td>\n",
              "      <td>0</td>\n",
              "      <td>0</td>\n",
              "      <td>0</td>\n",
              "      <td>0</td>\n",
              "      <td>0</td>\n",
              "      <td>1</td>\n",
              "      <td>0</td>\n",
              "      <td>0</td>\n",
              "      <td>0</td>\n",
              "      <td>1</td>\n",
              "      <td>0</td>\n",
              "      <td>0</td>\n",
              "      <td>0</td>\n",
              "      <td>0</td>\n",
              "      <td>0</td>\n",
              "      <td>0</td>\n",
              "      <td>0</td>\n",
              "      <td>0</td>\n",
              "      <td>0</td>\n",
              "      <td>0</td>\n",
              "      <td>0</td>\n",
              "      <td>0</td>\n",
              "      <td>0</td>\n",
              "      <td>0</td>\n",
              "      <td>0</td>\n",
              "      <td>0</td>\n",
              "      <td>0</td>\n",
              "      <td>0</td>\n",
              "      <td>0</td>\n",
              "      <td>0</td>\n",
              "      <td>0</td>\n",
              "      <td>0</td>\n",
              "      <td>-1</td>\n",
              "      <td>-1</td>\n",
              "      <td>-0.541233</td>\n",
              "    </tr>\n",
              "    <tr>\n",
              "      <th>4782</th>\n",
              "      <td>0</td>\n",
              "      <td>0</td>\n",
              "      <td>1</td>\n",
              "      <td>0</td>\n",
              "      <td>0</td>\n",
              "      <td>0</td>\n",
              "      <td>0</td>\n",
              "      <td>0</td>\n",
              "      <td>0</td>\n",
              "      <td>0</td>\n",
              "      <td>0</td>\n",
              "      <td>0</td>\n",
              "      <td>0</td>\n",
              "      <td>0</td>\n",
              "      <td>0</td>\n",
              "      <td>1</td>\n",
              "      <td>0</td>\n",
              "      <td>0</td>\n",
              "      <td>0</td>\n",
              "      <td>0</td>\n",
              "      <td>0</td>\n",
              "      <td>0</td>\n",
              "      <td>0</td>\n",
              "      <td>0</td>\n",
              "      <td>0</td>\n",
              "      <td>1</td>\n",
              "      <td>0</td>\n",
              "      <td>0</td>\n",
              "      <td>0</td>\n",
              "      <td>0</td>\n",
              "      <td>0</td>\n",
              "      <td>0</td>\n",
              "      <td>0</td>\n",
              "      <td>0</td>\n",
              "      <td>0</td>\n",
              "      <td>0</td>\n",
              "      <td>0</td>\n",
              "      <td>0</td>\n",
              "      <td>0</td>\n",
              "      <td>0</td>\n",
              "      <td>0</td>\n",
              "      <td>0</td>\n",
              "      <td>0</td>\n",
              "      <td>0</td>\n",
              "      <td>0</td>\n",
              "      <td>0</td>\n",
              "      <td>0</td>\n",
              "      <td>0</td>\n",
              "      <td>0</td>\n",
              "      <td>0</td>\n",
              "      <td>0</td>\n",
              "      <td>0</td>\n",
              "      <td>0</td>\n",
              "      <td>1</td>\n",
              "      <td>0</td>\n",
              "      <td>0</td>\n",
              "      <td>1</td>\n",
              "      <td>1</td>\n",
              "      <td>-1.026367</td>\n",
              "    </tr>\n",
              "    <tr>\n",
              "      <th>10338</th>\n",
              "      <td>0</td>\n",
              "      <td>1</td>\n",
              "      <td>0</td>\n",
              "      <td>0</td>\n",
              "      <td>0</td>\n",
              "      <td>0</td>\n",
              "      <td>0</td>\n",
              "      <td>0</td>\n",
              "      <td>0</td>\n",
              "      <td>0</td>\n",
              "      <td>0</td>\n",
              "      <td>0</td>\n",
              "      <td>1</td>\n",
              "      <td>0</td>\n",
              "      <td>0</td>\n",
              "      <td>0</td>\n",
              "      <td>0</td>\n",
              "      <td>0</td>\n",
              "      <td>0</td>\n",
              "      <td>0</td>\n",
              "      <td>0</td>\n",
              "      <td>0</td>\n",
              "      <td>0</td>\n",
              "      <td>0</td>\n",
              "      <td>0</td>\n",
              "      <td>0</td>\n",
              "      <td>0</td>\n",
              "      <td>1</td>\n",
              "      <td>0</td>\n",
              "      <td>0</td>\n",
              "      <td>0</td>\n",
              "      <td>0</td>\n",
              "      <td>0</td>\n",
              "      <td>0</td>\n",
              "      <td>0</td>\n",
              "      <td>0</td>\n",
              "      <td>0</td>\n",
              "      <td>0</td>\n",
              "      <td>0</td>\n",
              "      <td>0</td>\n",
              "      <td>0</td>\n",
              "      <td>0</td>\n",
              "      <td>0</td>\n",
              "      <td>0</td>\n",
              "      <td>0</td>\n",
              "      <td>0</td>\n",
              "      <td>0</td>\n",
              "      <td>0</td>\n",
              "      <td>0</td>\n",
              "      <td>0</td>\n",
              "      <td>0</td>\n",
              "      <td>1</td>\n",
              "      <td>0</td>\n",
              "      <td>0</td>\n",
              "      <td>0</td>\n",
              "      <td>0</td>\n",
              "      <td>1</td>\n",
              "      <td>-1</td>\n",
              "      <td>-1.053607</td>\n",
              "    </tr>\n",
              "    <tr>\n",
              "      <th>...</th>\n",
              "      <td>...</td>\n",
              "      <td>...</td>\n",
              "      <td>...</td>\n",
              "      <td>...</td>\n",
              "      <td>...</td>\n",
              "      <td>...</td>\n",
              "      <td>...</td>\n",
              "      <td>...</td>\n",
              "      <td>...</td>\n",
              "      <td>...</td>\n",
              "      <td>...</td>\n",
              "      <td>...</td>\n",
              "      <td>...</td>\n",
              "      <td>...</td>\n",
              "      <td>...</td>\n",
              "      <td>...</td>\n",
              "      <td>...</td>\n",
              "      <td>...</td>\n",
              "      <td>...</td>\n",
              "      <td>...</td>\n",
              "      <td>...</td>\n",
              "      <td>...</td>\n",
              "      <td>...</td>\n",
              "      <td>...</td>\n",
              "      <td>...</td>\n",
              "      <td>...</td>\n",
              "      <td>...</td>\n",
              "      <td>...</td>\n",
              "      <td>...</td>\n",
              "      <td>...</td>\n",
              "      <td>...</td>\n",
              "      <td>...</td>\n",
              "      <td>...</td>\n",
              "      <td>...</td>\n",
              "      <td>...</td>\n",
              "      <td>...</td>\n",
              "      <td>...</td>\n",
              "      <td>...</td>\n",
              "      <td>...</td>\n",
              "      <td>...</td>\n",
              "      <td>...</td>\n",
              "      <td>...</td>\n",
              "      <td>...</td>\n",
              "      <td>...</td>\n",
              "      <td>...</td>\n",
              "      <td>...</td>\n",
              "      <td>...</td>\n",
              "      <td>...</td>\n",
              "      <td>...</td>\n",
              "      <td>...</td>\n",
              "      <td>...</td>\n",
              "      <td>...</td>\n",
              "      <td>...</td>\n",
              "      <td>...</td>\n",
              "      <td>...</td>\n",
              "      <td>...</td>\n",
              "      <td>...</td>\n",
              "      <td>...</td>\n",
              "      <td>...</td>\n",
              "    </tr>\n",
              "    <tr>\n",
              "      <th>6599</th>\n",
              "      <td>0</td>\n",
              "      <td>0</td>\n",
              "      <td>1</td>\n",
              "      <td>0</td>\n",
              "      <td>0</td>\n",
              "      <td>0</td>\n",
              "      <td>0</td>\n",
              "      <td>0</td>\n",
              "      <td>0</td>\n",
              "      <td>0</td>\n",
              "      <td>0</td>\n",
              "      <td>0</td>\n",
              "      <td>0</td>\n",
              "      <td>0</td>\n",
              "      <td>1</td>\n",
              "      <td>0</td>\n",
              "      <td>0</td>\n",
              "      <td>0</td>\n",
              "      <td>0</td>\n",
              "      <td>0</td>\n",
              "      <td>0</td>\n",
              "      <td>0</td>\n",
              "      <td>0</td>\n",
              "      <td>0</td>\n",
              "      <td>0</td>\n",
              "      <td>1</td>\n",
              "      <td>0</td>\n",
              "      <td>0</td>\n",
              "      <td>0</td>\n",
              "      <td>0</td>\n",
              "      <td>0</td>\n",
              "      <td>0</td>\n",
              "      <td>0</td>\n",
              "      <td>0</td>\n",
              "      <td>0</td>\n",
              "      <td>0</td>\n",
              "      <td>0</td>\n",
              "      <td>0</td>\n",
              "      <td>0</td>\n",
              "      <td>0</td>\n",
              "      <td>0</td>\n",
              "      <td>0</td>\n",
              "      <td>1</td>\n",
              "      <td>0</td>\n",
              "      <td>0</td>\n",
              "      <td>0</td>\n",
              "      <td>0</td>\n",
              "      <td>0</td>\n",
              "      <td>0</td>\n",
              "      <td>0</td>\n",
              "      <td>0</td>\n",
              "      <td>0</td>\n",
              "      <td>0</td>\n",
              "      <td>0</td>\n",
              "      <td>0</td>\n",
              "      <td>0</td>\n",
              "      <td>1</td>\n",
              "      <td>-1</td>\n",
              "      <td>-1.170241</td>\n",
              "    </tr>\n",
              "    <tr>\n",
              "      <th>10918</th>\n",
              "      <td>0</td>\n",
              "      <td>1</td>\n",
              "      <td>0</td>\n",
              "      <td>0</td>\n",
              "      <td>0</td>\n",
              "      <td>0</td>\n",
              "      <td>0</td>\n",
              "      <td>0</td>\n",
              "      <td>0</td>\n",
              "      <td>0</td>\n",
              "      <td>0</td>\n",
              "      <td>0</td>\n",
              "      <td>1</td>\n",
              "      <td>0</td>\n",
              "      <td>0</td>\n",
              "      <td>0</td>\n",
              "      <td>0</td>\n",
              "      <td>0</td>\n",
              "      <td>0</td>\n",
              "      <td>0</td>\n",
              "      <td>0</td>\n",
              "      <td>0</td>\n",
              "      <td>0</td>\n",
              "      <td>0</td>\n",
              "      <td>0</td>\n",
              "      <td>0</td>\n",
              "      <td>0</td>\n",
              "      <td>0</td>\n",
              "      <td>1</td>\n",
              "      <td>0</td>\n",
              "      <td>0</td>\n",
              "      <td>0</td>\n",
              "      <td>0</td>\n",
              "      <td>0</td>\n",
              "      <td>0</td>\n",
              "      <td>0</td>\n",
              "      <td>0</td>\n",
              "      <td>0</td>\n",
              "      <td>0</td>\n",
              "      <td>0</td>\n",
              "      <td>1</td>\n",
              "      <td>0</td>\n",
              "      <td>0</td>\n",
              "      <td>0</td>\n",
              "      <td>0</td>\n",
              "      <td>0</td>\n",
              "      <td>0</td>\n",
              "      <td>0</td>\n",
              "      <td>0</td>\n",
              "      <td>0</td>\n",
              "      <td>0</td>\n",
              "      <td>0</td>\n",
              "      <td>0</td>\n",
              "      <td>0</td>\n",
              "      <td>0</td>\n",
              "      <td>0</td>\n",
              "      <td>1</td>\n",
              "      <td>-1</td>\n",
              "      <td>-1.261763</td>\n",
              "    </tr>\n",
              "    <tr>\n",
              "      <th>9374</th>\n",
              "      <td>0</td>\n",
              "      <td>0</td>\n",
              "      <td>1</td>\n",
              "      <td>0</td>\n",
              "      <td>0</td>\n",
              "      <td>0</td>\n",
              "      <td>0</td>\n",
              "      <td>0</td>\n",
              "      <td>0</td>\n",
              "      <td>0</td>\n",
              "      <td>0</td>\n",
              "      <td>0</td>\n",
              "      <td>0</td>\n",
              "      <td>0</td>\n",
              "      <td>1</td>\n",
              "      <td>0</td>\n",
              "      <td>0</td>\n",
              "      <td>0</td>\n",
              "      <td>0</td>\n",
              "      <td>0</td>\n",
              "      <td>0</td>\n",
              "      <td>0</td>\n",
              "      <td>0</td>\n",
              "      <td>0</td>\n",
              "      <td>0</td>\n",
              "      <td>0</td>\n",
              "      <td>0</td>\n",
              "      <td>1</td>\n",
              "      <td>0</td>\n",
              "      <td>0</td>\n",
              "      <td>0</td>\n",
              "      <td>0</td>\n",
              "      <td>0</td>\n",
              "      <td>0</td>\n",
              "      <td>0</td>\n",
              "      <td>0</td>\n",
              "      <td>0</td>\n",
              "      <td>0</td>\n",
              "      <td>0</td>\n",
              "      <td>0</td>\n",
              "      <td>0</td>\n",
              "      <td>0</td>\n",
              "      <td>0</td>\n",
              "      <td>0</td>\n",
              "      <td>0</td>\n",
              "      <td>0</td>\n",
              "      <td>0</td>\n",
              "      <td>0</td>\n",
              "      <td>0</td>\n",
              "      <td>0</td>\n",
              "      <td>0</td>\n",
              "      <td>1</td>\n",
              "      <td>0</td>\n",
              "      <td>0</td>\n",
              "      <td>0</td>\n",
              "      <td>0</td>\n",
              "      <td>1</td>\n",
              "      <td>-1</td>\n",
              "      <td>-0.957010</td>\n",
              "    </tr>\n",
              "    <tr>\n",
              "      <th>4040</th>\n",
              "      <td>0</td>\n",
              "      <td>1</td>\n",
              "      <td>0</td>\n",
              "      <td>0</td>\n",
              "      <td>0</td>\n",
              "      <td>0</td>\n",
              "      <td>0</td>\n",
              "      <td>0</td>\n",
              "      <td>0</td>\n",
              "      <td>0</td>\n",
              "      <td>0</td>\n",
              "      <td>0</td>\n",
              "      <td>1</td>\n",
              "      <td>0</td>\n",
              "      <td>0</td>\n",
              "      <td>0</td>\n",
              "      <td>0</td>\n",
              "      <td>0</td>\n",
              "      <td>0</td>\n",
              "      <td>0</td>\n",
              "      <td>0</td>\n",
              "      <td>0</td>\n",
              "      <td>0</td>\n",
              "      <td>0</td>\n",
              "      <td>0</td>\n",
              "      <td>0</td>\n",
              "      <td>0</td>\n",
              "      <td>0</td>\n",
              "      <td>0</td>\n",
              "      <td>1</td>\n",
              "      <td>0</td>\n",
              "      <td>0</td>\n",
              "      <td>0</td>\n",
              "      <td>1</td>\n",
              "      <td>0</td>\n",
              "      <td>0</td>\n",
              "      <td>0</td>\n",
              "      <td>0</td>\n",
              "      <td>0</td>\n",
              "      <td>0</td>\n",
              "      <td>0</td>\n",
              "      <td>0</td>\n",
              "      <td>0</td>\n",
              "      <td>0</td>\n",
              "      <td>0</td>\n",
              "      <td>0</td>\n",
              "      <td>0</td>\n",
              "      <td>0</td>\n",
              "      <td>0</td>\n",
              "      <td>0</td>\n",
              "      <td>0</td>\n",
              "      <td>0</td>\n",
              "      <td>0</td>\n",
              "      <td>0</td>\n",
              "      <td>0</td>\n",
              "      <td>0</td>\n",
              "      <td>-1</td>\n",
              "      <td>-1</td>\n",
              "      <td>-0.793083</td>\n",
              "    </tr>\n",
              "    <tr>\n",
              "      <th>7628</th>\n",
              "      <td>0</td>\n",
              "      <td>0</td>\n",
              "      <td>1</td>\n",
              "      <td>0</td>\n",
              "      <td>0</td>\n",
              "      <td>0</td>\n",
              "      <td>0</td>\n",
              "      <td>0</td>\n",
              "      <td>0</td>\n",
              "      <td>0</td>\n",
              "      <td>0</td>\n",
              "      <td>0</td>\n",
              "      <td>1</td>\n",
              "      <td>0</td>\n",
              "      <td>0</td>\n",
              "      <td>0</td>\n",
              "      <td>0</td>\n",
              "      <td>0</td>\n",
              "      <td>0</td>\n",
              "      <td>0</td>\n",
              "      <td>0</td>\n",
              "      <td>0</td>\n",
              "      <td>0</td>\n",
              "      <td>0</td>\n",
              "      <td>0</td>\n",
              "      <td>0</td>\n",
              "      <td>0</td>\n",
              "      <td>0</td>\n",
              "      <td>1</td>\n",
              "      <td>0</td>\n",
              "      <td>0</td>\n",
              "      <td>0</td>\n",
              "      <td>0</td>\n",
              "      <td>0</td>\n",
              "      <td>0</td>\n",
              "      <td>0</td>\n",
              "      <td>0</td>\n",
              "      <td>0</td>\n",
              "      <td>0</td>\n",
              "      <td>0</td>\n",
              "      <td>1</td>\n",
              "      <td>0</td>\n",
              "      <td>0</td>\n",
              "      <td>0</td>\n",
              "      <td>0</td>\n",
              "      <td>0</td>\n",
              "      <td>0</td>\n",
              "      <td>0</td>\n",
              "      <td>0</td>\n",
              "      <td>0</td>\n",
              "      <td>0</td>\n",
              "      <td>0</td>\n",
              "      <td>0</td>\n",
              "      <td>0</td>\n",
              "      <td>0</td>\n",
              "      <td>0</td>\n",
              "      <td>1</td>\n",
              "      <td>-1</td>\n",
              "      <td>-1.009914</td>\n",
              "    </tr>\n",
              "  </tbody>\n",
              "</table>\n",
              "<p>8000 rows × 59 columns</p>\n",
              "</div>"
            ],
            "text/plain": [
              "       Release Type_Discharged - Expiration of Sentence  ...  predictions\n",
              "1867                                                  0  ...    -0.050030\n",
              "9770                                                  0  ...    -1.261763\n",
              "3730                                                  0  ...    -0.541233\n",
              "4782                                                  0  ...    -1.026367\n",
              "10338                                                 0  ...    -1.053607\n",
              "...                                                 ...  ...          ...\n",
              "6599                                                  0  ...    -1.170241\n",
              "10918                                                 0  ...    -1.261763\n",
              "9374                                                  0  ...    -0.957010\n",
              "4040                                                  0  ...    -0.793083\n",
              "7628                                                  0  ...    -1.009914\n",
              "\n",
              "[8000 rows x 59 columns]"
            ]
          },
          "metadata": {
            "tags": []
          },
          "execution_count": 68
        }
      ]
    },
    {
      "cell_type": "code",
      "metadata": {
        "id": "ucNJVpJU9ED7"
      },
      "source": [
        "x_train_cp = x_train.copy()"
      ],
      "execution_count": null,
      "outputs": []
    },
    {
      "cell_type": "code",
      "metadata": {
        "id": "gJLGHVi3-EuC"
      },
      "source": [
        "rslt_df = x_train_cp[x_train_cp['Race'] == 1]"
      ],
      "execution_count": null,
      "outputs": []
    },
    {
      "cell_type": "code",
      "metadata": {
        "colab": {
          "base_uri": "https://localhost:8080/"
        },
        "id": "tuiZtvzk_L7G",
        "outputId": "94389775-68fa-46b9-f27d-6a2ab437174d"
      },
      "source": [
        "rslt_df.shape"
      ],
      "execution_count": null,
      "outputs": [
        {
          "output_type": "execute_result",
          "data": {
            "text/plain": [
              "(5066, 59)"
            ]
          },
          "metadata": {
            "tags": []
          },
          "execution_count": 102
        }
      ]
    },
    {
      "cell_type": "code",
      "metadata": {
        "id": "n9H_Px0x9OGo"
      },
      "source": [
        "rslt_2 = rslt_df[rslt_df['predictions'] > 0]"
      ],
      "execution_count": null,
      "outputs": []
    },
    {
      "cell_type": "code",
      "metadata": {
        "id": "jS_uEn_S_yZP"
      },
      "source": [
        ""
      ],
      "execution_count": null,
      "outputs": []
    },
    {
      "cell_type": "code",
      "metadata": {
        "colab": {
          "base_uri": "https://localhost:8080/"
        },
        "id": "Zh1NScOe_203",
        "outputId": "9b49ea9f-43da-49a4-dd84-01482c72474f"
      },
      "source": [
        "rslt_2.shape"
      ],
      "execution_count": null,
      "outputs": [
        {
          "output_type": "execute_result",
          "data": {
            "text/plain": [
              "(165, 59)"
            ]
          },
          "metadata": {
            "tags": []
          },
          "execution_count": 104
        }
      ]
    },
    {
      "cell_type": "code",
      "metadata": {
        "id": "jLQYMIx8_Qvt"
      },
      "source": [
        "x_train_cp = x_train.copy()\n",
        "rslt_df = x_train_cp[x_train_cp['Race'] == -1]\n"
      ],
      "execution_count": null,
      "outputs": []
    },
    {
      "cell_type": "code",
      "metadata": {
        "colab": {
          "base_uri": "https://localhost:8080/"
        },
        "id": "qrWVSGDlAGC8",
        "outputId": "0c4f33e3-36cd-4638-d98d-fe9ab087c569"
      },
      "source": [
        "rslt_df.shape"
      ],
      "execution_count": null,
      "outputs": [
        {
          "output_type": "execute_result",
          "data": {
            "text/plain": [
              "(2934, 59)"
            ]
          },
          "metadata": {
            "tags": []
          },
          "execution_count": 106
        }
      ]
    },
    {
      "cell_type": "code",
      "metadata": {
        "id": "naWmBxl1AJjV"
      },
      "source": [
        "rslt_2 = rslt_df[rslt_df['predictions'] > 0]"
      ],
      "execution_count": null,
      "outputs": []
    },
    {
      "cell_type": "code",
      "metadata": {
        "colab": {
          "base_uri": "https://localhost:8080/"
        },
        "id": "ZKccr0mgANka",
        "outputId": "8537bdbe-4347-462c-c431-e035709032de"
      },
      "source": [
        "rslt_2.shape"
      ],
      "execution_count": null,
      "outputs": [
        {
          "output_type": "execute_result",
          "data": {
            "text/plain": [
              "(135, 59)"
            ]
          },
          "metadata": {
            "tags": []
          },
          "execution_count": 108
        }
      ]
    },
    {
      "cell_type": "code",
      "metadata": {
        "colab": {
          "base_uri": "https://localhost:8080/"
        },
        "id": "B-RUy473A6LM",
        "outputId": "f8e5bb6b-c2c1-416c-d4e5-0156159e2a43"
      },
      "source": [
        "135/2934"
      ],
      "execution_count": null,
      "outputs": [
        {
          "output_type": "execute_result",
          "data": {
            "text/plain": [
              "0.046012269938650305"
            ]
          },
          "metadata": {
            "tags": []
          },
          "execution_count": 109
        }
      ]
    },
    {
      "cell_type": "code",
      "metadata": {
        "colab": {
          "base_uri": "https://localhost:8080/"
        },
        "id": "iJRUc7ALA8g0",
        "outputId": "b21ccd8a-60bf-4494-9fbc-45fe8112d42e"
      },
      "source": [
        "165/5066"
      ],
      "execution_count": null,
      "outputs": [
        {
          "output_type": "execute_result",
          "data": {
            "text/plain": [
              "0.03257007500986972"
            ]
          },
          "metadata": {
            "tags": []
          },
          "execution_count": 110
        }
      ]
    },
    {
      "cell_type": "code",
      "metadata": {
        "id": "K7eEEwd_BOhV"
      },
      "source": [
        ""
      ],
      "execution_count": null,
      "outputs": []
    },
    {
      "cell_type": "code",
      "metadata": {
        "id": "Iph6kQ9Wq2FJ"
      },
      "source": [
        "baselineTrainDEO = []\n",
        "baselineTrainDDP = []\n",
        "baselineTestDEO = []\n",
        "baselineTestDDP = []\n",
        "baselineTrainAcc = []\n",
        "baselineTestAcc = []\n",
        "\n",
        "constraintTrainDEO = []\n",
        "constraintTrainDDP = []\n",
        "constraintTestDEO = []\n",
        "constraintTestDDP = []\n",
        "constraintTrainAcc = []\n",
        "constraintTestAcc = []"
      ],
      "execution_count": null,
      "outputs": []
    },
    {
      "cell_type": "code",
      "metadata": {
        "id": "rCuNRqPOuwiC"
      },
      "source": [
        "def print_clf_stats_baseline(pred_x_train, pred_x_test, x_train, x_test, y_train, y_test, s_train, s_test):\n",
        "    train_acc = ut.get_accuracy(np.sign(pred_x_train), y_train)\n",
        "    #print(\"train accuracy\")\n",
        "    #print(train_acc)\n",
        "    test_acc = ut.get_accuracy(np.sign(pred_x_test), y_test)\n",
        "    #print(\"test accuracy\")\n",
        "    #print(test_acc)\n",
        "    test_DDP, test_DEO = ut.compute_fairness_measures(np.sign(pred_x_test), y_test, s_test)\n",
        "    train_DDP, train_DEO = ut.compute_fairness_measures(np.sign(pred_x_train), y_train, s_train)\n",
        "\n",
        "    #print(10*'-'+\"Train\"+10*'-')\n",
        "    #print(\"Accuracy: %0.4f%%\" % (train_acc * 100))\n",
        "    #print(\"DDP: %0.4f%%\" % (train_DDP * 100), \"DEO: %0.4f%%\" % (train_DEO * 100))\n",
        "    #print(10*'-'+\"Test\"+10*'-')\n",
        "    #print(\"Accuracy: %0.4f%%\" % (test_acc * 100))\n",
        "    #print(\"DDP: %0.4f%%\" % (test_DDP * 100), \"DEO: %0.4f%%\" % (test_DEO * 100))\n",
        "    baselineTrainDEO.append(train_DEO)\n",
        "    baselineTrainDDP.append(train_DDP)\n",
        "    baselineTestDEO.append(test_DEO)\n",
        "    baselineTestDDP.append(test_DDP)\n",
        "    baselineTrainAcc.append(train_acc)\n",
        "    baselineTestAcc.append(test_acc)"
      ],
      "execution_count": null,
      "outputs": []
    },
    {
      "cell_type": "code",
      "metadata": {
        "id": "E_Ot9aE2vk1f"
      },
      "source": [
        "def print_clf_stats_constraint(pred_x_train, pred_x_test, x_train, x_test, y_train, y_test, s_train, s_test):\n",
        "    train_acc = ut.get_accuracy(np.sign(pred_x_train), y_train)\n",
        "    #print(\"train accuracy\")\n",
        "    #print(train_acc)\n",
        "    test_acc = ut.get_accuracy(np.sign(pred_x_test), y_test)\n",
        "    print(\"test accuracy\")\n",
        "    #print(test_acc)\n",
        "    test_DDP, test_DEO = ut.compute_fairness_measures(np.sign(pred_x_test), y_test, s_test)\n",
        "    train_DDP, train_DEO = ut.compute_fairness_measures(np.sign(pred_x_train), y_train, s_train)\n",
        "\n",
        "    #print(10*'-'+\"Train\"+10*'-')\n",
        "    #print(\"Accuracy: %0.4f%%\" % (train_acc * 100))\n",
        "    #print(\"DDP: %0.4f%%\" % (train_DDP * 100), \"DEO: %0.4f%%\" % (train_DEO * 100))\n",
        "    #print(10*'-'+\"Test\"+10*'-')\n",
        "    #print(\"Accuracy: %0.4f%%\" % (test_acc * 100))\n",
        "    #print(\"DDP: %0.4f%%\" % (test_DDP * 100), \"DEO: %0.4f%%\" % (test_DEO * 100))\n",
        "    constraintTrainDEO.append(train_DEO)\n",
        "    constraintTrainDDP.append(train_DDP)\n",
        "    constraintTestDEO.append(test_DEO)\n",
        "    constraintTestDDP.append(test_DDP)\n",
        "    constraintTrainAcc.append(train_acc)\n",
        "    constraintTestAcc.append(test_acc)\n",
        "\n"
      ],
      "execution_count": null,
      "outputs": []
    },
    {
      "cell_type": "code",
      "metadata": {
        "colab": {
          "base_uri": "https://localhost:8080/"
        },
        "id": "6wa5JLInucVa",
        "outputId": "59bfec73-cd10-4a15-8d8c-47dec8affe85"
      },
      "source": [
        "for i in range(5):\n",
        "  x_train, x_test, y_train, y_test, s_train, s_test = train_test_split(x_df_labelled, y_data, s_data, train_size=train_size, shuffle=True)\n",
        "  model = Model(tpr_max_diff=0.05)\n",
        "  results = model.build_train_op(0.01, unconstrained=True)\n",
        "\n",
        "  # training_helper returns the list of errors and violations over each epoch.\n",
        "  train_errors, train_violations, test_errors, test_violations = training_helper(\n",
        "        model,\n",
        "        x_train,\n",
        "        x_test,\n",
        "        100,\n",
        "        num_iterations_per_loop=326,\n",
        "        num_loops=40)\n",
        "  \n",
        "  print_clf_stats_baseline(x_train['predictions'], x_test['predictions'], x_train, x_test, y_train, y_test, s_train, s_test)\n",
        "\n",
        "  print(\"iter \"+str(i + 1)+ 'finished')"
      ],
      "execution_count": null,
      "outputs": [
        {
          "output_type": "stream",
          "text": [
            "iter 1finished\n",
            "iter 2finished\n",
            "iter 3finished\n",
            "iter 4finished\n",
            "iter 5finished\n"
          ],
          "name": "stdout"
        }
      ]
    },
    {
      "cell_type": "code",
      "metadata": {
        "colab": {
          "base_uri": "https://localhost:8080/"
        },
        "id": "J3ZGzZ72v9HK",
        "outputId": "671fb748-1301-4a41-8f0e-ea6253b274da"
      },
      "source": [
        "for i in range(5):\n",
        "  x_train, x_test, y_train, y_test, s_train, s_test = train_test_split(x_df_labelled, y_data, s_data, train_size=train_size, shuffle=True)\n",
        "  model = Model(tpr_max_diff=0.05)\n",
        "  model.build_train_op(0.01, unconstrained=False)\n",
        "\n",
        "  # training_helper returns the list of errors and violations over each epoch.\n",
        "  train_errors, train_violations, test_errors, test_violations = training_helper(\n",
        "        model,\n",
        "        x_train,\n",
        "        x_test,\n",
        "        100,\n",
        "        num_iterations_per_loop=326,\n",
        "        num_loops=40)\n",
        "  \n",
        "  print_clf_stats_constraint(x_train['predictions'], x_test['predictions'], x_train, x_test, y_train, y_test, s_train, s_test)\n",
        "  print(\"iter \"+str(i + 1)+ 'finished')"
      ],
      "execution_count": null,
      "outputs": [
        {
          "output_type": "stream",
          "text": [
            "test accuracy\n",
            "iter 1finished\n",
            "test accuracy\n",
            "iter 2finished\n",
            "test accuracy\n",
            "iter 3finished\n",
            "test accuracy\n",
            "iter 4finished\n",
            "test accuracy\n",
            "iter 5finished\n"
          ],
          "name": "stdout"
        }
      ]
    },
    {
      "cell_type": "code",
      "metadata": {
        "id": "rwP4XK9JwTS_"
      },
      "source": [
        "from statistics import mean"
      ],
      "execution_count": null,
      "outputs": []
    },
    {
      "cell_type": "code",
      "metadata": {
        "id": "P_1MaisMwCy5"
      },
      "source": [
        "baselineTrainDEO_mean = mean(baselineTrainDEO)\n",
        "baselineTrainDDP_mean = mean(baselineTrainDDP)\n",
        "baselineTestDEO_mean = mean(baselineTestDEO)\n",
        "baselineTestDDP_mean = mean(baselineTestDDP)\n",
        "baselineTrainAcc_mean = mean(baselineTrainAcc)\n",
        "baselineTestAcc_mean = mean(baselineTestAcc)\n",
        "\n",
        "constraintTrainDEO_mean = mean(constraintTrainDEO)\n",
        "constraintTrainDDP_mean = mean(constraintTrainDDP)\n",
        "constraintTestDEO_mean = mean(constraintTestDEO)\n",
        "constraintTestDDP_mean = mean(constraintTestDDP)\n",
        "constraintTrainAcc_mean = mean(constraintTrainAcc)\n",
        "constraintTestAcc_mean = mean(constraintTestAcc)"
      ],
      "execution_count": null,
      "outputs": []
    },
    {
      "cell_type": "code",
      "metadata": {
        "colab": {
          "base_uri": "https://localhost:8080/"
        },
        "id": "YnuxYd-Bwimw",
        "outputId": "8bee81cc-4578-4caa-d6bd-435f80008de0"
      },
      "source": [
        "print(\"baseline averages:\")\n",
        "print(10*'-'+\"Train\"+10*'-')\n",
        "print(\"Accuracy: %0.4f%%\" % (baselineTrainAcc_mean * 100))\n",
        "print(\"DDP: %0.4f%%\" % (baselineTrainDDP_mean * 100), \"DEO: %0.4f%%\" % (baselineTrainDEO_mean * 100))\n",
        "print(10*'-'+\"Test\"+10*'-')\n",
        "print(\"Accuracy: %0.4f%%\" % (baselineTestAcc_mean * 100))\n",
        "print(\"DDP: %0.4f%%\" % (baselineTestDDP_mean * 100), \"DEO: %0.4f%%\" % (baselineTestDEO_mean * 100))\n",
        "\n",
        "print(\"constraint averages:\")\n",
        "print(10*'-'+\"Train\"+10*'-')\n",
        "print(\"Accuracy: %0.4f%%\" % (constraintTrainAcc_mean * 100))\n",
        "print(\"DDP: %0.4f%%\" % (constraintTrainDDP_mean * 100), \"DEO: %0.4f%%\" % (constraintTrainDEO_mean * 100))\n",
        "print(10*'-'+\"Test\"+10*'-')\n",
        "print(\"Accuracy: %0.4f%%\" % (constraintTestAcc_mean * 100))\n",
        "print(\"DDP: %0.4f%%\" % (constraintTestDDP_mean * 100), \"DEO: %0.4f%%\" % (constraintTestDEO_mean * 100))"
      ],
      "execution_count": null,
      "outputs": [
        {
          "output_type": "stream",
          "text": [
            "baseline averages:\n",
            "----------Train----------\n",
            "Accuracy: 66.1400%\n",
            "DDP: -39.1654% DEO: -52.2175%\n",
            "----------Test----------\n",
            "Accuracy: 65.6335%\n",
            "DDP: -39.4769% DEO: -52.5338%\n",
            "constraint averages:\n",
            "----------Train----------\n",
            "Accuracy: 63.5275%\n",
            "DDP: -2.8828% DEO: -6.0429%\n",
            "----------Test----------\n",
            "Accuracy: 62.9642%\n",
            "DDP: -2.3914% DEO: -5.8203%\n"
          ],
          "name": "stdout"
        }
      ]
    },
    {
      "cell_type": "code",
      "metadata": {
        "colab": {
          "base_uri": "https://localhost:8080/"
        },
        "id": "AmCY904twxYj",
        "outputId": "d0be4dca-8b80-46f3-e0ba-499ba6a038f7"
      },
      "source": [
        "print(constraintTestDEO, constraintTestDDP)"
      ],
      "execution_count": null,
      "outputs": [
        {
          "output_type": "stream",
          "text": [
            "[-0.10142245707099262, 0.006471568971568972, -0.3047112067541612, 0.0013622818220519368, 0.0029653702614347572, -0.032629245921743474, -0.042695360291118985, -0.057307431374595555, 0.03193544319757912, -0.08600328781829772] [-0.024521809510261616, 0.0029246705728200946, -0.1187667482502151, 0.00016188431671432572, 0.0004249764745165893, -0.0175382124108706, -0.022681093867453025, -0.03044090515019254, 0.015916422023537154, -0.044618269792816787]\n"
          ],
          "name": "stdout"
        }
      ]
    },
    {
      "cell_type": "code",
      "metadata": {
        "colab": {
          "base_uri": "https://localhost:8080/"
        },
        "id": "uUMjSR2w0D0l",
        "outputId": "ef6b766e-83c8-46e1-ac98-9c2ab41087a7"
      },
      "source": [
        "print_clf_stats(x_train['predictions'], x_test['predictions'], x_train, x_test, y_train, y_test, s_train, s_test)"
      ],
      "execution_count": null,
      "outputs": [
        {
          "output_type": "stream",
          "text": [
            "train accuracy\n",
            "0.6775\n",
            "test accuracy\n",
            "0.6797728265618174\n",
            "[1 1 1 ... 1 1 1]\n",
            "----------Train----------\n",
            "Accuracy: 67.7500%\n",
            "DDP: -6.5634% DEO: -12.2500%\n",
            "----------Test----------\n",
            "Accuracy: 67.9773%\n",
            "DDP: -4.4618% DEO: -8.6003%\n"
          ],
          "name": "stdout"
        }
      ]
    },
    {
      "cell_type": "code",
      "metadata": {
        "id": "52gg35wkHAEM"
      },
      "source": [
        ""
      ],
      "execution_count": null,
      "outputs": []
    },
    {
      "cell_type": "code",
      "metadata": {
        "id": "CUUMMCsK3-QT"
      },
      "source": [
        ""
      ],
      "execution_count": null,
      "outputs": []
    }
  ]
}